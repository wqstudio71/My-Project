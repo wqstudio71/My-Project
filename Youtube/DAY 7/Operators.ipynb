{
 "cells": [
  {
   "cell_type": "code",
   "execution_count": 1,
   "id": "b3a65a41-e66f-46cb-bfd8-06adda7780c6",
   "metadata": {},
   "outputs": [],
   "source": [
    "# Calculator Using Python"
   ]
  },
  {
   "cell_type": "markdown",
   "id": "7c6448d6-d96f-4bbd-a4b7-d0af2d948a78",
   "metadata": {},
   "source": [
    "# Operators"
   ]
  },
  {
   "cell_type": "markdown",
   "id": "a800e78f-7538-4b5c-b28d-b73e8d5000a9",
   "metadata": {},
   "source": [
    "1. ADDITION = +\n",
    "2. SUBTRACTION = -\n",
    "3. MULTIPLICATION = *\n",
    "4. DIVISION = /\n",
    "5. MODULUS = %\n",
    "6. FLOOR DIVISION = //\n",
    "7. EXPONENTIAL = **"
   ]
  },
  {
   "cell_type": "code",
   "execution_count": 2,
   "id": "0af70cb2-28b3-4453-8a04-484330053abb",
   "metadata": {},
   "outputs": [],
   "source": [
    "# Create a calculator"
   ]
  },
  {
   "cell_type": "code",
   "execution_count": null,
   "id": "3360bb2a-23c1-4083-87e9-ceefa2460c27",
   "metadata": {},
   "outputs": [],
   "source": [
    "\n",
    "\n"
   ]
  }
 ],
 "metadata": {
  "kernelspec": {
   "display_name": "Python 3 (ipykernel)",
   "language": "python",
   "name": "python3"
  },
  "language_info": {
   "codemirror_mode": {
    "name": "ipython",
    "version": 3
   },
   "file_extension": ".py",
   "mimetype": "text/x-python",
   "name": "python",
   "nbconvert_exporter": "python",
   "pygments_lexer": "ipython3",
   "version": "3.13.5"
  },
  "widgets": {
   "application/vnd.jupyter.widget-state+json": {
    "state": {},
    "version_major": 2,
    "version_minor": 0
   }
  }
 },
 "nbformat": 4,
 "nbformat_minor": 5
}
