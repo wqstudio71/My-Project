{
 "cells": [
  {
   "cell_type": "markdown",
   "id": "dee2d33c-7286-421c-8568-5dda0a4acc19",
   "metadata": {},
   "source": [
    "# Type Casting"
   ]
  },
  {
   "cell_type": "code",
   "execution_count": 6,
   "id": "1ff5c3c7-25bd-40c6-965d-53d020063423",
   "metadata": {},
   "outputs": [
    {
     "name": "stdout",
     "output_type": "stream",
     "text": [
      "10\n"
     ]
    }
   ],
   "source": [
    "a = \"1\"\n",
    "b = \"9\"\n",
    "\n",
    "print(int(a) +int(b))"
   ]
  },
  {
   "cell_type": "markdown",
   "id": "c0d8cd96-9bb5-45c5-b103-83772708b322",
   "metadata": {},
   "source": [
    "1. Explicit Conversion\n",
    "2. Implicit Conversion"
   ]
  },
  {
   "cell_type": "code",
   "execution_count": 8,
   "id": "bc564ec2-b11a-4638-b5b8-8195ced28e68",
   "metadata": {},
   "outputs": [
    {
     "name": "stdout",
     "output_type": "stream",
     "text": [
      "The Sum of both the number is 52\n"
     ]
    }
   ],
   "source": [
    "# Explicit Conversion\n",
    "id = \"45\"\n",
    "number = 7\n",
    "\n",
    "id_number = int(id)\n",
    "\n",
    "sum = number + id_number\n",
    "print(\"The Sum of both the number is\", sum)"
   ]
  },
  {
   "cell_type": "code",
   "execution_count": 10,
   "id": "df2adcf1-37f7-41cd-bd16-f6a0121cd284",
   "metadata": {},
   "outputs": [
    {
     "name": "stdout",
     "output_type": "stream",
     "text": [
      "5.5\n"
     ]
    }
   ],
   "source": [
    "# Implicit Conversion\n",
    "\n",
    "a = 1.5\n",
    "b = 4\n",
    "print(a+b)"
   ]
  },
  {
   "cell_type": "code",
   "execution_count": 11,
   "id": "d731cf4d-90a4-4508-ad50-4252c78b7061",
   "metadata": {},
   "outputs": [
    {
     "name": "stdout",
     "output_type": "stream",
     "text": [
      "The summation is 33\n"
     ]
    }
   ],
   "source": [
    "roll = \"21\"\n",
    "number = 12\n",
    "\n",
    "roll_number = int(roll)\n",
    "add = number + roll_number\n",
    "print(\"The summation is\", add)"
   ]
  },
  {
   "cell_type": "code",
   "execution_count": null,
   "id": "3d4a0a28-1f4a-4f0f-8c85-cc30b46c0077",
   "metadata": {},
   "outputs": [],
   "source": []
  }
 ],
 "metadata": {
  "kernelspec": {
   "display_name": "Python 3 (ipykernel)",
   "language": "python",
   "name": "python3"
  },
  "language_info": {
   "codemirror_mode": {
    "name": "ipython",
    "version": 3
   },
   "file_extension": ".py",
   "mimetype": "text/x-python",
   "name": "python",
   "nbconvert_exporter": "python",
   "pygments_lexer": "ipython3",
   "version": "3.13.5"
  },
  "widgets": {
   "application/vnd.jupyter.widget-state+json": {
    "state": {},
    "version_major": 2,
    "version_minor": 0
   }
  }
 },
 "nbformat": 4,
 "nbformat_minor": 5
}
