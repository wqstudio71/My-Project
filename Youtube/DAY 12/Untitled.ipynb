{
 "cells": [
  {
   "cell_type": "code",
   "execution_count": null,
   "id": "a63df7c5-d35d-4eb6-af80-f32d4e4224ce",
   "metadata": {},
   "outputs": [],
   "source": []
  }
 ],
 "metadata": {
  "kernelspec": {
   "display_name": "",
   "name": ""
  },
  "language_info": {
   "name": ""
  }
 },
 "nbformat": 4,
 "nbformat_minor": 5
}
