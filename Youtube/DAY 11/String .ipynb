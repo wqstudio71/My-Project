{
 "cells": [
  {
   "cell_type": "markdown",
   "id": "4ff64cf0-afb6-478a-b3e4-5c81552b16f5",
   "metadata": {},
   "source": [
    "# String in Python"
   ]
  },
  {
   "cell_type": "code",
   "execution_count": 1,
   "id": "5c3db93c-7cce-49b5-a1d6-96fa637f333b",
   "metadata": {},
   "outputs": [
    {
     "name": "stdout",
     "output_type": "stream",
     "text": [
      " \n"
     ]
    }
   ],
   "source": [
    "name = (\"Rohit Kshetri\")\n",
    "print(name[5])"
   ]
  },
  {
   "cell_type": "code",
   "execution_count": 7,
   "id": "204c243d-74d1-4d81-bfee-2958ac63b2ca",
   "metadata": {},
   "outputs": [
    {
     "name": "stdout",
     "output_type": "stream",
     "text": [
      "He said, \"I want to eat an apple.\"\n"
     ]
    }
   ],
   "source": [
    "print(\"He said, \\\"I want to eat an apple.\\\"\")"
   ]
  },
  {
   "cell_type": "code",
   "execution_count": 9,
   "id": "4dba80fa-4e78-49ed-b333-7bff79b7213d",
   "metadata": {},
   "outputs": [
    {
     "name": "stdout",
     "output_type": "stream",
     "text": [
      "He said,\n",
      "Rohit is a good guy,\n",
      "but I don't think so. \n"
     ]
    }
   ],
   "source": [
    "names = '''He said,\n",
    "Rohit is a good guy,\n",
    "but I don't think so. '''\n",
    "print(names[0])"
   ]
  },
  {
   "cell_type": "code",
   "execution_count": 5,
   "id": "b7ec5632-3e35-47b0-9871-401c4cc0efc8",
   "metadata": {},
   "outputs": [
    {
     "name": "stdout",
     "output_type": "stream",
     "text": [
      "h\n"
     ]
    }
   ],
   "source": [
    "name = (\"Rohit Kshetri\")\n",
    "print(name[8])"
   ]
  },
  {
   "cell_type": "code",
   "execution_count": 7,
   "id": "e7bad61d-d41c-4790-a6ec-b6257af78eb8",
   "metadata": {},
   "outputs": [
    {
     "name": "stdout",
     "output_type": "stream",
     "text": [
      "a\n"
     ]
    }
   ],
   "source": [
    "names = '''He said,\n",
    "Rohit is a good guy,\n",
    "but I don't think so. '''\n",
    "print(names[4])"
   ]
  },
  {
   "cell_type": "code",
   "execution_count": 10,
   "id": "b54dbaf9-2579-474d-b473-7119135d4b83",
   "metadata": {},
   "outputs": [
    {
     "name": "stdout",
     "output_type": "stream",
     "text": [
      "R\n",
      "o\n",
      "h\n",
      "i\n",
      "t\n",
      " \n",
      "K\n",
      "s\n",
      "h\n",
      "e\n",
      "t\n",
      "r\n",
      "i\n"
     ]
    }
   ],
   "source": [
    "name = (\"Rohit Kshetri\")\n",
    "for i in name:\n",
    "    print(i)"
   ]
  },
  {
   "cell_type": "code",
   "execution_count": null,
   "id": "270a96bf-2c62-4f34-885f-ed5ee6f2f7fc",
   "metadata": {},
   "outputs": [],
   "source": []
  }
 ],
 "metadata": {
  "kernelspec": {
   "display_name": "Python 3 (ipykernel)",
   "language": "python",
   "name": "python3"
  },
  "language_info": {
   "codemirror_mode": {
    "name": "ipython",
    "version": 3
   },
   "file_extension": ".py",
   "mimetype": "text/x-python",
   "name": "python",
   "nbconvert_exporter": "python",
   "pygments_lexer": "ipython3",
   "version": "3.13.5"
  },
  "widgets": {
   "application/vnd.jupyter.widget-state+json": {
    "state": {},
    "version_major": 2,
    "version_minor": 0
   }
  }
 },
 "nbformat": 4,
 "nbformat_minor": 5
}
