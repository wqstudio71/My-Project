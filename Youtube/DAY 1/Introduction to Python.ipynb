{
 "cells": [
  {
   "cell_type": "markdown",
   "id": "eabd4529-19a4-48c8-ad89-d0c0c72ddbf2",
   "metadata": {},
   "source": [
    "# Python Programming Language"
   ]
  },
  {
   "cell_type": "code",
   "execution_count": null,
   "id": "0361e372-448b-430a-899f-5f2305609cda",
   "metadata": {},
   "outputs": [],
   "source": [
    "Python is a widely used high-level programming language\n",
    "for general purpose coding."
   ]
  },
  {
   "cell_type": "code",
   "execution_count": null,
   "id": "1db1e52d-f6d0-4091-8199-8be972f2474f",
   "metadata": {},
   "outputs": [],
   "source": [
    "Features of Python -\n",
    "1. Easy to Learn\n",
    "2. Dynamically Typed\n",
    "3. Interpreter Based\n",
    "4. Interactive\n",
    "5. Multi-paradigm\n",
    "6. Standard Library\n",
    "7. Open Source and Cross Platform\n",
    "8. GUI Applications\n",
    "9. Database Connectivity\n",
    "10. Extensible\n",
    "11. Active Developer Community"
   ]
  }
 ],
 "metadata": {
  "kernelspec": {
   "display_name": "Python 3 (ipykernel)",
   "language": "python",
   "name": "python3"
  },
  "language_info": {
   "codemirror_mode": {
    "name": "ipython",
    "version": 3
   },
   "file_extension": ".py",
   "mimetype": "text/x-python",
   "name": "python",
   "nbconvert_exporter": "python",
   "pygments_lexer": "ipython3",
   "version": "3.13.5"
  }
 },
 "nbformat": 4,
 "nbformat_minor": 5
}
