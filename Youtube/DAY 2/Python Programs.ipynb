{
 "cells": [
  {
   "cell_type": "markdown",
   "id": "4b7dc929-a286-41c5-ae07-c1b955757ec4",
   "metadata": {},
   "source": [
    "1. Jarvis.py"
   ]
  },
  {
   "cell_type": "markdown",
   "id": "264e780d-47ee-4f15-867a-a2c7867d1773",
   "metadata": {},
   "source": [
    "2. LoveCalC.py"
   ]
  },
  {
   "cell_type": "code",
   "execution_count": null,
   "id": "77a53fe7-4f01-4019-a557-834a9b92ba7f",
   "metadata": {},
   "outputs": [],
   "source": []
  }
 ],
 "metadata": {
  "kernelspec": {
   "display_name": "Python 3 (ipykernel)",
   "language": "python",
   "name": "python3"
  },
  "language_info": {
   "codemirror_mode": {
    "name": "ipython",
    "version": 3
   },
   "file_extension": ".py",
   "mimetype": "text/x-python",
   "name": "python",
   "nbconvert_exporter": "python",
   "pygments_lexer": "ipython3",
   "version": "3.13.5"
  }
 },
 "nbformat": 4,
 "nbformat_minor": 5
}
