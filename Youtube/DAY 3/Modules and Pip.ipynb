{
 "cells": [
  {
   "cell_type": "markdown",
   "id": "200114dd-0f0f-4d0d-87e0-7f0d0cd6761f",
   "metadata": {},
   "source": [
    "# Modules"
   ]
  },
  {
   "cell_type": "markdown",
   "id": "2fdd636a-b0c6-4832-8945-ca4779cfd2e2",
   "metadata": {},
   "source": [
    "There are two types of modules.\n",
    "1. Built-In Modules\n",
    "2. External Modules"
   ]
  },
  {
   "cell_type": "markdown",
   "id": "ea2bd15c-66ae-43af-96da-f0b85b5d5c65",
   "metadata": {},
   "source": [
    "Module is like a code library which can be used to borrow\n",
    "the code written by somebody else in our python program."
   ]
  },
  {
   "cell_type": "code",
   "execution_count": null,
   "id": "0827bdf6-c787-4fa8-b997-5fb844a7f16f",
   "metadata": {},
   "outputs": [],
   "source": []
  }
 ],
 "metadata": {
  "kernelspec": {
   "display_name": "Python 3 (ipykernel)",
   "language": "python",
   "name": "python3"
  },
  "language_info": {
   "codemirror_mode": {
    "name": "ipython",
    "version": 3
   },
   "file_extension": ".py",
   "mimetype": "text/x-python",
   "name": "python",
   "nbconvert_exporter": "python",
   "pygments_lexer": "ipython3",
   "version": "3.13.5"
  },
  "widgets": {
   "application/vnd.jupyter.widget-state+json": {
    "state": {},
    "version_major": 2,
    "version_minor": 0
   }
  }
 },
 "nbformat": 4,
 "nbformat_minor": 5
}
