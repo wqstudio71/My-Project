{
 "cells": [
  {
   "cell_type": "markdown",
   "id": "8e146420-4e43-4256-99e9-99dae621681c",
   "metadata": {},
   "source": [
    "# Comments"
   ]
  },
  {
   "cell_type": "code",
   "execution_count": 12,
   "id": "9b9d38a8-bee7-4ca1-80cc-d707d8897586",
   "metadata": {},
   "outputs": [],
   "source": [
    "# Don't touch this.\n",
    "# Comment is a part of code that programmers does not want to execute in his code."
   ]
  },
  {
   "cell_type": "code",
   "execution_count": 6,
   "id": "121539d2-9c15-47b6-a7ca-8d32ffd7c0b5",
   "metadata": {},
   "outputs": [
    {
     "name": "stdout",
     "output_type": "stream",
     "text": [
      "Hey, I'm a good boy \n",
      "and she is a good girl\n"
     ]
    }
   ],
   "source": [
    "print(\"Hey, I'm a good boy \\nand she is a good girl\")"
   ]
  },
  {
   "cell_type": "markdown",
   "id": "5983b4fa-1529-4386-9bfc-77fb2942dc70",
   "metadata": {},
   "source": [
    "# Escape Sequences"
   ]
  },
  {
   "cell_type": "code",
   "execution_count": 9,
   "id": "68041787-d0a3-49c2-b0db-5f3a9435813d",
   "metadata": {},
   "outputs": [
    {
     "name": "stdout",
     "output_type": "stream",
     "text": [
      "Rohit is a good guy \n",
      "but Ritika is a bad girl\n"
     ]
    }
   ],
   "source": [
    "# This is true\n",
    "# Author = Rohit Kshetri\n",
    "print(\"Rohit is a good guy \\nbut Ritika is a bad girl\")"
   ]
  },
  {
   "cell_type": "code",
   "execution_count": 17,
   "id": "57c196aa-de8a-4f7b-8a0e-60a41aeadadb",
   "metadata": {},
   "outputs": [
    {
     "name": "stdout",
     "output_type": "stream",
     "text": [
      "This doesn't execute \n",
      "This should execute\n"
     ]
    }
   ],
   "source": [
    "print(\"This doesn't execute \\nThis should execute\")"
   ]
  },
  {
   "cell_type": "code",
   "execution_count": 18,
   "id": "afdbc520-3426-4b85-be24-07f3377b7655",
   "metadata": {},
   "outputs": [
    {
     "name": "stdout",
     "output_type": "stream",
     "text": [
      "Hey I'm a \"good boy\"\n",
      "and this is bad\n"
     ]
    }
   ],
   "source": [
    "print(\"Hey I'm a \\\"good boy\\\"\\nand this is bad\")"
   ]
  },
  {
   "cell_type": "code",
   "execution_count": 24,
   "id": "c92c7363-d978-4195-b050-b5282e223a77",
   "metadata": {},
   "outputs": [
    {
     "name": "stdout",
     "output_type": "stream",
     "text": [
      "Hey/6/700\n",
      "0"
     ]
    }
   ],
   "source": [
    "print(\"Hey\", 6,7, sep = \"/\", end = \"00\\n0\")"
   ]
  },
  {
   "cell_type": "code",
   "execution_count": null,
   "id": "3518fbef-c5e3-4e3e-8736-006381292569",
   "metadata": {},
   "outputs": [],
   "source": []
  }
 ],
 "metadata": {
  "kernelspec": {
   "display_name": "Python 3 (ipykernel)",
   "language": "python",
   "name": "python3"
  },
  "language_info": {
   "codemirror_mode": {
    "name": "ipython",
    "version": 3
   },
   "file_extension": ".py",
   "mimetype": "text/x-python",
   "name": "python",
   "nbconvert_exporter": "python",
   "pygments_lexer": "ipython3",
   "version": "3.13.5"
  }
 },
 "nbformat": 4,
 "nbformat_minor": 5
}
