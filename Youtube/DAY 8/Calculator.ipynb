{
 "cells": [
  {
   "cell_type": "markdown",
   "id": "51c70c4a-9723-4af5-8f3c-644573516670",
   "metadata": {},
   "source": [
    "# Calculator"
   ]
  },
  {
   "cell_type": "code",
   "execution_count": 6,
   "id": "fecece4a-c464-44a3-8e29-a3e1644042b6",
   "metadata": {},
   "outputs": [
    {
     "name": "stdout",
     "output_type": "stream",
     "text": [
      "The value of 5 + 3 is 8\n",
      "The value of 5 - 3 is 2\n",
      "The value of 5 * 3 is 15\n",
      "The value of 5 / 3 is 1.6666666666666667\n",
      "The value of 5 // 3 is 1\n"
     ]
    }
   ],
   "source": [
    "a = 5\n",
    "b = 3\n",
    "\n",
    "print(\"The value of\", a, \"+\", b, \"is\", a + b)\n",
    "print(\"The value of\", a, \"-\", b, \"is\", a - b)\n",
    "print(\"The value of\", a, \"*\", b, \"is\", a * b)\n",
    "print(\"The value of\", a, \"/\", b, \"is\", a / b)\n",
    "print(\"The value of\", a, \"//\", b, \"is\", a // b)"
   ]
  },
  {
   "cell_type": "code",
   "execution_count": null,
   "id": "3d11ab57-f8b3-40e5-b5c4-89669dd17534",
   "metadata": {},
   "outputs": [],
   "source": []
  }
 ],
 "metadata": {
  "kernelspec": {
   "display_name": "Python 3 (ipykernel)",
   "language": "python",
   "name": "python3"
  },
  "language_info": {
   "codemirror_mode": {
    "name": "ipython",
    "version": 3
   },
   "file_extension": ".py",
   "mimetype": "text/x-python",
   "name": "python",
   "nbconvert_exporter": "python",
   "pygments_lexer": "ipython3",
   "version": "3.13.5"
  },
  "widgets": {
   "application/vnd.jupyter.widget-state+json": {
    "state": {},
    "version_major": 2,
    "version_minor": 0
   }
  }
 },
 "nbformat": 4,
 "nbformat_minor": 5
}
