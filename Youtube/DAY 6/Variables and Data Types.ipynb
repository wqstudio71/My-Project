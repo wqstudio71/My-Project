{
 "cells": [
  {
   "cell_type": "markdown",
   "id": "2f69ffcf-077b-429f-80d5-65dc55f01b91",
   "metadata": {},
   "source": [
    "# Variables and Data Types"
   ]
  },
  {
   "cell_type": "code",
   "execution_count": 1,
   "id": "d7ab2d69-678e-4c11-bbfe-6f50a7971ab8",
   "metadata": {},
   "outputs": [
    {
     "name": "stdout",
     "output_type": "stream",
     "text": [
      "1\n"
     ]
    }
   ],
   "source": [
    "a = 1\n",
    "print(a)"
   ]
  },
  {
   "cell_type": "code",
   "execution_count": 2,
   "id": "ae902ce3-510e-4e7f-a3b4-66e64c850531",
   "metadata": {},
   "outputs": [
    {
     "name": "stdout",
     "output_type": "stream",
     "text": [
      "Rohit\n"
     ]
    }
   ],
   "source": [
    "x = \"Rohit\"\n",
    "print(x)"
   ]
  },
  {
   "cell_type": "code",
   "execution_count": 3,
   "id": "24dc77a8-70e7-4f33-be8b-1f5b3df314f1",
   "metadata": {},
   "outputs": [
    {
     "name": "stdout",
     "output_type": "stream",
     "text": [
      "Harry\n"
     ]
    }
   ],
   "source": [
    "b = \"Harry\"\n",
    "print(b)"
   ]
  },
  {
   "cell_type": "code",
   "execution_count": 4,
   "id": "63b42abc-48e1-4f95-b654-834d3e1d0397",
   "metadata": {},
   "outputs": [],
   "source": [
    "Harry = 9"
   ]
  },
  {
   "cell_type": "code",
   "execution_count": 7,
   "id": "08961293-5e72-4c16-9630-d29d521aded3",
   "metadata": {},
   "outputs": [
    {
     "name": "stdout",
     "output_type": "stream",
     "text": [
      "The type of Harry is <class 'int'>\n"
     ]
    }
   ],
   "source": [
    "print(\"The type of Harry is\", type(Harry))"
   ]
  },
  {
   "cell_type": "code",
   "execution_count": 9,
   "id": "d8e80974-efe7-480f-87ea-d24905c71a43",
   "metadata": {},
   "outputs": [
    {
     "name": "stdout",
     "output_type": "stream",
     "text": [
      "(8+2j)\n"
     ]
    }
   ],
   "source": [
    "q = complex(8,2)\n",
    "print(q)"
   ]
  },
  {
   "cell_type": "markdown",
   "id": "2f742c63-aae4-4130-a64d-51cf3d62e03c",
   "metadata": {},
   "source": [
    "1. Numeric Data = Int, float, complex"
   ]
  },
  {
   "cell_type": "markdown",
   "id": "959486c1-a027-4a74-80d4-db9c427b7ff8",
   "metadata": {},
   "source": [
    "2. Text Data = String"
   ]
  },
  {
   "cell_type": "markdown",
   "id": "5ce7754a-a2d8-450f-a5bb-12b3c07695c3",
   "metadata": {},
   "source": [
    "3. Boolean Data = True or False"
   ]
  },
  {
   "cell_type": "markdown",
   "id": "28686b6d-90da-4bf1-90dd-fb83c3411bf9",
   "metadata": {},
   "source": [
    "4. Sequence Data = List, Tuple"
   ]
  },
  {
   "cell_type": "code",
   "execution_count": 10,
   "id": "7703dac1-2486-4632-b144-001d557486da",
   "metadata": {},
   "outputs": [],
   "source": [
    "list1 = [8,2,3, [4,5], [\"apple\", \"banana\"]]"
   ]
  },
  {
   "cell_type": "code",
   "execution_count": 11,
   "id": "772bea64-9527-4e25-8729-6f36ea33f65b",
   "metadata": {},
   "outputs": [
    {
     "name": "stdout",
     "output_type": "stream",
     "text": [
      "[8, 2, 3, [4, 5], ['apple', 'banana']]\n"
     ]
    }
   ],
   "source": [
    "print(list1)"
   ]
  },
  {
   "cell_type": "markdown",
   "id": "45b3fba1-4875-42e2-aa40-adf5800315c6",
   "metadata": {},
   "source": [
    "5. Mapped Data = dict"
   ]
  },
  {
   "cell_type": "code",
   "execution_count": 12,
   "id": "fb99cc39-77ea-4a59-a9e2-5fe2fff07ac3",
   "metadata": {},
   "outputs": [
    {
     "name": "stdout",
     "output_type": "stream",
     "text": [
      "{'name': 'Riya', 'age': 30, 'canVote': True}\n"
     ]
    }
   ],
   "source": [
    "dict1 = {\"name\" : \"Riya\", \"age\" : 30, \"canVote\" : True}\n",
    "print(dict1)"
   ]
  },
  {
   "cell_type": "code",
   "execution_count": null,
   "id": "32ad59bf-90d3-471d-bd26-c81993b47e64",
   "metadata": {},
   "outputs": [],
   "source": []
  }
 ],
 "metadata": {
  "kernelspec": {
   "display_name": "Python 3 (ipykernel)",
   "language": "python",
   "name": "python3"
  },
  "language_info": {
   "codemirror_mode": {
    "name": "ipython",
    "version": 3
   },
   "file_extension": ".py",
   "mimetype": "text/x-python",
   "name": "python",
   "nbconvert_exporter": "python",
   "pygments_lexer": "ipython3",
   "version": "3.13.5"
  },
  "widgets": {
   "application/vnd.jupyter.widget-state+json": {
    "state": {},
    "version_major": 2,
    "version_minor": 0
   }
  }
 },
 "nbformat": 4,
 "nbformat_minor": 5
}
