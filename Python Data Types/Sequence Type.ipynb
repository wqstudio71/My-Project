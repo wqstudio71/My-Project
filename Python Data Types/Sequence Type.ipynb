{
 "cells": [
  {
   "cell_type": "markdown",
   "id": "b3747dcb-2230-4dbd-8976-d35da92d4fed",
   "metadata": {},
   "source": [
    "# Sequence Type"
   ]
  },
  {
   "cell_type": "markdown",
   "id": "1d631773-5993-401d-9de8-eb2c1222a73b",
   "metadata": {},
   "source": [
    "1. List"
   ]
  },
  {
   "cell_type": "code",
   "execution_count": 1,
   "id": "872559a0-f6da-479c-a991-be2642368130",
   "metadata": {},
   "outputs": [],
   "source": [
    "prime = [1,2,3,5,7,11,13,19,21]"
   ]
  },
  {
   "cell_type": "code",
   "execution_count": 3,
   "id": "03d794d8-72e9-4789-a4ea-db2c7c873ce5",
   "metadata": {},
   "outputs": [
    {
     "data": {
      "text/plain": [
       "list"
      ]
     },
     "execution_count": 3,
     "metadata": {},
     "output_type": "execute_result"
    }
   ],
   "source": [
    "type(prime)"
   ]
  },
  {
   "cell_type": "code",
   "execution_count": 4,
   "id": "70c1c93f-4703-4df4-a0e3-aa09d11d6d8a",
   "metadata": {},
   "outputs": [],
   "source": [
    "z = [\"apple\", 34, \"Rohit\"]"
   ]
  },
  {
   "cell_type": "code",
   "execution_count": 5,
   "id": "a462f485-dba7-44c5-8e3e-c97eca1a41c4",
   "metadata": {},
   "outputs": [
    {
     "name": "stdout",
     "output_type": "stream",
     "text": [
      "['apple', 34, 'Rohit']\n"
     ]
    }
   ],
   "source": [
    "print(z)"
   ]
  },
  {
   "cell_type": "code",
   "execution_count": 6,
   "id": "31c4a957-08b1-4b57-a81a-9ff77d8c0073",
   "metadata": {},
   "outputs": [
    {
     "data": {
      "text/plain": [
       "3"
      ]
     },
     "execution_count": 6,
     "metadata": {},
     "output_type": "execute_result"
    }
   ],
   "source": [
    "len(z)"
   ]
  },
  {
   "cell_type": "markdown",
   "id": "b59b1749-210b-44ff-b07f-948ded879007",
   "metadata": {},
   "source": [
    "# Accessing List Items"
   ]
  },
  {
   "cell_type": "code",
   "execution_count": 7,
   "id": "26a41603-0bb9-41fe-889b-4ad8ccccabd2",
   "metadata": {},
   "outputs": [
    {
     "data": {
      "text/plain": [
       "'apple'"
      ]
     },
     "execution_count": 7,
     "metadata": {},
     "output_type": "execute_result"
    }
   ],
   "source": [
    "z[0]"
   ]
  },
  {
   "cell_type": "code",
   "execution_count": 8,
   "id": "013e7720-a57f-4e45-a662-776bd117d8ee",
   "metadata": {},
   "outputs": [
    {
     "data": {
      "text/plain": [
       "1"
      ]
     },
     "execution_count": 8,
     "metadata": {},
     "output_type": "execute_result"
    }
   ],
   "source": [
    "prime[0]"
   ]
  },
  {
   "cell_type": "markdown",
   "id": "4c99571f-9443-4890-9cf0-236541eb7a33",
   "metadata": {},
   "source": [
    "# Slicing Lists"
   ]
  },
  {
   "cell_type": "code",
   "execution_count": 9,
   "id": "77502306-4ae0-48ad-945e-97d597a60f54",
   "metadata": {},
   "outputs": [],
   "source": [
    "prime = [1,2,3,5,7,9,11,13,15,17,19,21,23,29]"
   ]
  },
  {
   "cell_type": "code",
   "execution_count": 10,
   "id": "554bdf6f-eecc-4626-a175-aba66cee831a",
   "metadata": {},
   "outputs": [
    {
     "data": {
      "text/plain": [
       "[3, 7, 11, 15, 19, 23]"
      ]
     },
     "execution_count": 10,
     "metadata": {},
     "output_type": "execute_result"
    }
   ],
   "source": [
    "prime[2::2]"
   ]
  },
  {
   "cell_type": "code",
   "execution_count": 12,
   "id": "918606aa-d126-4740-8e48-15c8f6d0e1f5",
   "metadata": {},
   "outputs": [
    {
     "data": {
      "text/plain": [
       "175"
      ]
     },
     "execution_count": 12,
     "metadata": {},
     "output_type": "execute_result"
    }
   ],
   "source": [
    "sum(prime)"
   ]
  },
  {
   "cell_type": "markdown",
   "id": "104ec01c-b23e-485a-9764-9d584990f5bb",
   "metadata": {},
   "source": [
    "# Modifying Lists"
   ]
  },
  {
   "cell_type": "code",
   "execution_count": 14,
   "id": "88ee195e-8834-41da-9fb4-2b76779a36e8",
   "metadata": {},
   "outputs": [],
   "source": [
    "z = [\"apple\", \"Rohit\", 23]"
   ]
  },
  {
   "cell_type": "code",
   "execution_count": 15,
   "id": "4109bd07-5f58-4645-b75a-0cf2a37f6ead",
   "metadata": {},
   "outputs": [],
   "source": [
    "z[2] = \"John\""
   ]
  },
  {
   "cell_type": "code",
   "execution_count": 16,
   "id": "80256e11-7009-403e-a72a-37a967694a17",
   "metadata": {},
   "outputs": [
    {
     "name": "stdout",
     "output_type": "stream",
     "text": [
      "['apple', 'Rohit', 'John']\n"
     ]
    }
   ],
   "source": [
    "print(z)"
   ]
  },
  {
   "cell_type": "code",
   "execution_count": 17,
   "id": "ee36da1b-262f-4cb3-8f41-212acfcaffa8",
   "metadata": {},
   "outputs": [],
   "source": [
    "z.append(66)"
   ]
  },
  {
   "cell_type": "code",
   "execution_count": 18,
   "id": "decf3314-a873-4bc5-ad51-493ee72e9ff3",
   "metadata": {},
   "outputs": [
    {
     "name": "stdout",
     "output_type": "stream",
     "text": [
      "['apple', 'Rohit', 'John', 66]\n"
     ]
    }
   ],
   "source": [
    "print(z)"
   ]
  },
  {
   "cell_type": "code",
   "execution_count": 19,
   "id": "ecf83389-9930-461a-a6e4-bc42e2bc3ba8",
   "metadata": {},
   "outputs": [],
   "source": [
    "z.insert(1, \"Cow\")"
   ]
  },
  {
   "cell_type": "code",
   "execution_count": 20,
   "id": "0d86dae2-d325-4b96-b13a-b24a76e0c293",
   "metadata": {},
   "outputs": [
    {
     "name": "stdout",
     "output_type": "stream",
     "text": [
      "['apple', 'Cow', 'Rohit', 'John', 66]\n"
     ]
    }
   ],
   "source": [
    "print(z)"
   ]
  },
  {
   "cell_type": "code",
   "execution_count": 21,
   "id": "e04f7d75-6df5-496f-a27c-a5f2699e7aee",
   "metadata": {},
   "outputs": [],
   "source": [
    "z.extend([1,2,3])"
   ]
  },
  {
   "cell_type": "code",
   "execution_count": 22,
   "id": "b68042eb-79e5-4d9c-9f35-d6378b0b10f9",
   "metadata": {},
   "outputs": [
    {
     "name": "stdout",
     "output_type": "stream",
     "text": [
      "['apple', 'Cow', 'Rohit', 'John', 66, 1, 2, 3]\n"
     ]
    }
   ],
   "source": [
    "print(z)"
   ]
  },
  {
   "cell_type": "code",
   "execution_count": 23,
   "id": "28410eb1-810e-4c31-9f45-8697e4d9ee69",
   "metadata": {},
   "outputs": [],
   "source": [
    "z.remove(1)"
   ]
  },
  {
   "cell_type": "code",
   "execution_count": 24,
   "id": "8e41630d-de47-4065-bab8-73ec4eb9d4df",
   "metadata": {},
   "outputs": [
    {
     "name": "stdout",
     "output_type": "stream",
     "text": [
      "['apple', 'Cow', 'Rohit', 'John', 66, 2, 3]\n"
     ]
    }
   ],
   "source": [
    "print(z)"
   ]
  },
  {
   "cell_type": "code",
   "execution_count": 25,
   "id": "9bd57289-de6b-47e3-9cd0-6fcd4c96d084",
   "metadata": {},
   "outputs": [
    {
     "data": {
      "text/plain": [
       "'Cow'"
      ]
     },
     "execution_count": 25,
     "metadata": {},
     "output_type": "execute_result"
    }
   ],
   "source": [
    "z.pop(1)"
   ]
  },
  {
   "cell_type": "code",
   "execution_count": 26,
   "id": "27cd6b01-5e79-411e-a9df-d4525f6c9dd7",
   "metadata": {},
   "outputs": [
    {
     "name": "stdout",
     "output_type": "stream",
     "text": [
      "['apple', 'Rohit', 'John', 66, 2, 3]\n"
     ]
    }
   ],
   "source": [
    "print(z)"
   ]
  },
  {
   "cell_type": "code",
   "execution_count": 27,
   "id": "4ca69ce2-04cc-4e66-acee-5ffb77afe131",
   "metadata": {},
   "outputs": [],
   "source": [
    "z.clear()"
   ]
  },
  {
   "cell_type": "code",
   "execution_count": 28,
   "id": "33bd2a05-ff7b-49bf-b891-49c6db8bb4f6",
   "metadata": {},
   "outputs": [
    {
     "name": "stdout",
     "output_type": "stream",
     "text": [
      "[]\n"
     ]
    }
   ],
   "source": [
    "print(z)"
   ]
  },
  {
   "cell_type": "code",
   "execution_count": 29,
   "id": "224dfd03-f518-4eec-a08d-1278270c3a91",
   "metadata": {},
   "outputs": [],
   "source": [
    "name = [\"Harry\", \"Styles\", \"Louis\"]"
   ]
  },
  {
   "cell_type": "code",
   "execution_count": 33,
   "id": "f1888fe9-4e14-4abb-b150-9392743e6234",
   "metadata": {},
   "outputs": [],
   "source": [
    "new_name = name.copy()"
   ]
  },
  {
   "cell_type": "code",
   "execution_count": 34,
   "id": "4392732e-fdcb-4eec-93ab-e4db4d891b58",
   "metadata": {},
   "outputs": [],
   "source": [
    "new_name.append(\"Tomlinson\")"
   ]
  },
  {
   "cell_type": "code",
   "execution_count": 35,
   "id": "1ba235be-2265-4ee3-83cf-e43fb75727ed",
   "metadata": {},
   "outputs": [
    {
     "data": {
      "text/plain": [
       "['Harry', 'Styles', 'Louis', 'Tomlinson', 'Tomlinson']"
      ]
     },
     "execution_count": 35,
     "metadata": {},
     "output_type": "execute_result"
    }
   ],
   "source": [
    "new_name"
   ]
  },
  {
   "cell_type": "code",
   "execution_count": 36,
   "id": "ab32ea8e-22b3-4f84-a85f-e8250028eb10",
   "metadata": {},
   "outputs": [
    {
     "data": {
      "text/plain": [
       "['Harry', 'Styles', 'Louis', 'Tomlinson']"
      ]
     },
     "execution_count": 36,
     "metadata": {},
     "output_type": "execute_result"
    }
   ],
   "source": [
    "name"
   ]
  },
  {
   "cell_type": "markdown",
   "id": "8b32dfe6-d2cd-4368-8d6d-80dff862f68b",
   "metadata": {},
   "source": [
    "# List Methods"
   ]
  },
  {
   "cell_type": "code",
   "execution_count": null,
   "id": "688573e2-bbca-458f-8515-a02dbeaa9ab8",
   "metadata": {},
   "outputs": [],
   "source": []
  }
 ],
 "metadata": {
  "kernelspec": {
   "display_name": "Python 3 (ipykernel)",
   "language": "python",
   "name": "python3"
  },
  "language_info": {
   "codemirror_mode": {
    "name": "ipython",
    "version": 3
   },
   "file_extension": ".py",
   "mimetype": "text/x-python",
   "name": "python",
   "nbconvert_exporter": "python",
   "pygments_lexer": "ipython3",
   "version": "3.13.5"
  },
  "widgets": {
   "application/vnd.jupyter.widget-state+json": {
    "state": {},
    "version_major": 2,
    "version_minor": 0
   }
  }
 },
 "nbformat": 4,
 "nbformat_minor": 5
}
