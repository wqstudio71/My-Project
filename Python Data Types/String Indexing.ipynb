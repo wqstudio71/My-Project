{
 "cells": [
  {
   "cell_type": "markdown",
   "id": "88b65eda-22f3-4056-83ae-7e0bf0ecb4da",
   "metadata": {},
   "source": [
    "# Indexing"
   ]
  },
  {
   "cell_type": "code",
   "execution_count": 1,
   "id": "af671609-b6d1-4394-8b08-7327362fd0ca",
   "metadata": {},
   "outputs": [],
   "source": [
    "address = \"Kathmandu\""
   ]
  },
  {
   "cell_type": "code",
   "execution_count": 2,
   "id": "c813baa5-c962-4849-818f-108ac31473ae",
   "metadata": {},
   "outputs": [
    {
     "data": {
      "text/plain": [
       "'a'"
      ]
     },
     "execution_count": 2,
     "metadata": {},
     "output_type": "execute_result"
    }
   ],
   "source": [
    "address[5]"
   ]
  },
  {
   "cell_type": "markdown",
   "id": "05ad6472-c9b8-4778-9057-6989c4e04b5c",
   "metadata": {},
   "source": [
    "# String Slicing"
   ]
  },
  {
   "cell_type": "code",
   "execution_count": 6,
   "id": "8545ebb5-4863-4710-9b94-8a020506e30d",
   "metadata": {},
   "outputs": [
    {
     "data": {
      "text/plain": [
       "'Ktm'"
      ]
     },
     "execution_count": 6,
     "metadata": {},
     "output_type": "execute_result"
    }
   ],
   "source": [
    "address[0:5:2]"
   ]
  },
  {
   "cell_type": "code",
   "execution_count": 7,
   "id": "669fc209-3970-468b-9f23-92d7b0f5f679",
   "metadata": {},
   "outputs": [
    {
     "data": {
      "text/plain": [
       "'Kat'"
      ]
     },
     "execution_count": 7,
     "metadata": {},
     "output_type": "execute_result"
    }
   ],
   "source": [
    "address[:3:]"
   ]
  },
  {
   "cell_type": "code",
   "execution_count": 8,
   "id": "e31bdb65-4db7-476e-a146-d0e5c0d2cee6",
   "metadata": {},
   "outputs": [
    {
     "data": {
      "text/plain": [
       "'man'"
      ]
     },
     "execution_count": 8,
     "metadata": {},
     "output_type": "execute_result"
    }
   ],
   "source": [
    "address[-5:-2:]"
   ]
  },
  {
   "cell_type": "code",
   "execution_count": 9,
   "id": "762afb54-592c-466a-9a03-27ffc1b51e86",
   "metadata": {},
   "outputs": [
    {
     "data": {
      "text/plain": [
       "'udnamhtaK'"
      ]
     },
     "execution_count": 9,
     "metadata": {},
     "output_type": "execute_result"
    }
   ],
   "source": [
    "address[::-1]"
   ]
  },
  {
   "cell_type": "markdown",
   "id": "868d2e68-796d-436f-bedc-459d937c3582",
   "metadata": {},
   "source": [
    "# String Formatting"
   ]
  },
  {
   "cell_type": "code",
   "execution_count": 11,
   "id": "7925cdb1-8493-4aa0-b21d-7d9c29da22a4",
   "metadata": {},
   "outputs": [],
   "source": [
    "name = \"John\"\n",
    "age = 18"
   ]
  },
  {
   "cell_type": "code",
   "execution_count": 12,
   "id": "6f248588-b706-491f-adb7-cd3f3b8a7ebe",
   "metadata": {},
   "outputs": [
    {
     "name": "stdout",
     "output_type": "stream",
     "text": [
      "Your name is John and you are 18 years old.\n"
     ]
    }
   ],
   "source": [
    "print(\"Your name is {} and you are {} years old.\". format(name.capitalize(), age))"
   ]
  },
  {
   "cell_type": "code",
   "execution_count": 13,
   "id": "86f7eb8c-ee2b-47fe-9b8f-6e7f4a81327d",
   "metadata": {},
   "outputs": [
    {
     "name": "stdout",
     "output_type": "stream",
     "text": [
      "Your name is John and you are 18 years old.\n"
     ]
    }
   ],
   "source": [
    "print(f\"Your name is {name} and you are {age} years old.\")"
   ]
  },
  {
   "cell_type": "code",
   "execution_count": 17,
   "id": "d78170ae-be65-4f5e-b2a7-e858cad588a3",
   "metadata": {},
   "outputs": [],
   "source": [
    "base_path = \"/C\"\n",
    "file_name = \"/hd_video\"\n",
    "path = f\"{base_path}/Output/{file_name}.mp4\""
   ]
  },
  {
   "cell_type": "code",
   "execution_count": 18,
   "id": "1f181eec-1ff2-4c98-93b8-15cf989226e2",
   "metadata": {},
   "outputs": [
    {
     "data": {
      "text/plain": [
       "'/C/Output//hd_video.mp4'"
      ]
     },
     "execution_count": 18,
     "metadata": {},
     "output_type": "execute_result"
    }
   ],
   "source": [
    "path"
   ]
  },
  {
   "cell_type": "code",
   "execution_count": null,
   "id": "b869b874-d68e-454b-b4c4-fcbad1c2a05c",
   "metadata": {},
   "outputs": [],
   "source": []
  }
 ],
 "metadata": {
  "kernelspec": {
   "display_name": "Python 3 (ipykernel)",
   "language": "python",
   "name": "python3"
  },
  "language_info": {
   "codemirror_mode": {
    "name": "ipython",
    "version": 3
   },
   "file_extension": ".py",
   "mimetype": "text/x-python",
   "name": "python",
   "nbconvert_exporter": "python",
   "pygments_lexer": "ipython3",
   "version": "3.13.5"
  },
  "widgets": {
   "application/vnd.jupyter.widget-state+json": {
    "state": {},
    "version_major": 2,
    "version_minor": 0
   }
  }
 },
 "nbformat": 4,
 "nbformat_minor": 5
}
