{
 "cells": [
  {
   "cell_type": "markdown",
   "id": "39322dd7-9726-495b-baee-8903fc26f065",
   "metadata": {},
   "source": [
    "# Numerical Types = INT, FLOAT, COMPLEX"
   ]
  },
  {
   "cell_type": "markdown",
   "id": "9061b1ba-d5fd-4ab7-83ca-74ece3268bbc",
   "metadata": {},
   "source": [
    "1. INT\n",
    "   =These are the whole numbers."
   ]
  },
  {
   "cell_type": "markdown",
   "id": "6ddf4e86-f8b6-483d-a136-36b106790286",
   "metadata": {},
   "source": [
    "2. FLOAT = All the other natural number with or without decimal."
   ]
  },
  {
   "cell_type": "markdown",
   "id": "e35e226f-0ea2-48db-ad9c-83cd7933bb3b",
   "metadata": {},
   "source": [
    "3. COMPLEX = Imaginary number"
   ]
  },
  {
   "cell_type": "markdown",
   "id": "312aa20c-3f9d-403f-8c3d-fe9791d60efd",
   "metadata": {},
   "source": [
    "# INT"
   ]
  },
  {
   "cell_type": "code",
   "execution_count": 1,
   "id": "f98954ee-6343-4b53-8bf7-d6f2c4fbf628",
   "metadata": {},
   "outputs": [],
   "source": [
    "number = 12345567"
   ]
  },
  {
   "cell_type": "code",
   "execution_count": 2,
   "id": "83ab40d6-71c4-4b74-a4fa-8cf8d196a713",
   "metadata": {},
   "outputs": [
    {
     "data": {
      "text/plain": [
       "int"
      ]
     },
     "execution_count": 2,
     "metadata": {},
     "output_type": "execute_result"
    }
   ],
   "source": [
    "type(number)"
   ]
  },
  {
   "cell_type": "markdown",
   "id": "92194953-9866-4434-931f-c1a3e3ff9708",
   "metadata": {},
   "source": [
    "# FLOAT"
   ]
  },
  {
   "cell_type": "code",
   "execution_count": 3,
   "id": "24eb3034-3cda-4588-b367-bdd2f2f9b7c1",
   "metadata": {},
   "outputs": [],
   "source": [
    "pie = 22/7"
   ]
  },
  {
   "cell_type": "code",
   "execution_count": 4,
   "id": "0ec078ed-7bca-4fc6-8470-6db4770d490d",
   "metadata": {},
   "outputs": [
    {
     "name": "stdout",
     "output_type": "stream",
     "text": [
      "3.142857142857143\n"
     ]
    }
   ],
   "source": [
    "print(pie)"
   ]
  },
  {
   "cell_type": "code",
   "execution_count": 5,
   "id": "ea58bf8b-f75c-4a7e-8dd3-2dfe2f65e5dd",
   "metadata": {},
   "outputs": [
    {
     "data": {
      "text/plain": [
       "float"
      ]
     },
     "execution_count": 5,
     "metadata": {},
     "output_type": "execute_result"
    }
   ],
   "source": [
    "type(pie)"
   ]
  },
  {
   "cell_type": "markdown",
   "id": "1205ba6d-246d-4398-815e-2715a5eadace",
   "metadata": {},
   "source": [
    "# Complex"
   ]
  },
  {
   "cell_type": "code",
   "execution_count": 6,
   "id": "526a25d9-457f-43e6-8144-71fc69d4e05e",
   "metadata": {},
   "outputs": [],
   "source": [
    "vec = 6 - 3j"
   ]
  },
  {
   "cell_type": "code",
   "execution_count": 7,
   "id": "503629da-cf1d-4f52-a1d2-36d088d105b0",
   "metadata": {},
   "outputs": [
    {
     "data": {
      "text/plain": [
       "complex"
      ]
     },
     "execution_count": 7,
     "metadata": {},
     "output_type": "execute_result"
    }
   ],
   "source": [
    "type(vec)"
   ]
  },
  {
   "cell_type": "code",
   "execution_count": null,
   "id": "4a5ff58a-ae93-48b6-8824-56aae4918f65",
   "metadata": {},
   "outputs": [],
   "source": []
  }
 ],
 "metadata": {
  "kernelspec": {
   "display_name": "Python 3 (ipykernel)",
   "language": "python",
   "name": "python3"
  },
  "language_info": {
   "codemirror_mode": {
    "name": "ipython",
    "version": 3
   },
   "file_extension": ".py",
   "mimetype": "text/x-python",
   "name": "python",
   "nbconvert_exporter": "python",
   "pygments_lexer": "ipython3",
   "version": "3.13.5"
  },
  "widgets": {
   "application/vnd.jupyter.widget-state+json": {
    "state": {},
    "version_major": 2,
    "version_minor": 0
   }
  }
 },
 "nbformat": 4,
 "nbformat_minor": 5
}
