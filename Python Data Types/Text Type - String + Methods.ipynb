{
 "cells": [
  {
   "cell_type": "markdown",
   "id": "bff6b3ec-b084-46ae-9af2-3d9f9ba262ae",
   "metadata": {},
   "source": [
    "# Text Type"
   ]
  },
  {
   "cell_type": "code",
   "execution_count": 2,
   "id": "da138c3e-7b4f-4f2d-9192-87a12049aa86",
   "metadata": {},
   "outputs": [],
   "source": [
    "# Strings - str"
   ]
  },
  {
   "cell_type": "code",
   "execution_count": 3,
   "id": "a874da85-064b-4a57-b2b1-c23b39793afa",
   "metadata": {},
   "outputs": [],
   "source": [
    "name = \"Harry\""
   ]
  },
  {
   "cell_type": "code",
   "execution_count": 4,
   "id": "5648e747-5a8f-42f2-9155-ed8489d6f80c",
   "metadata": {},
   "outputs": [
    {
     "name": "stdout",
     "output_type": "stream",
     "text": [
      "Harry\n"
     ]
    }
   ],
   "source": [
    "print(name)"
   ]
  },
  {
   "cell_type": "code",
   "execution_count": 5,
   "id": "a99c2ad8-755f-4800-a37b-dee0c839cbfe",
   "metadata": {},
   "outputs": [
    {
     "name": "stdout",
     "output_type": "stream",
     "text": [
      "\n",
      "    line1\n",
      "    line2\n",
      "    line3\n",
      "\n",
      "\n"
     ]
    }
   ],
   "source": [
    "sent = \"\"\"\n",
    "    line1\n",
    "    line2\n",
    "    line3\n",
    "\n",
    "\"\"\"\n",
    "print(sent)"
   ]
  },
  {
   "cell_type": "code",
   "execution_count": 6,
   "id": "5a4ae405-87d3-44a6-b9ee-0c1544f0357d",
   "metadata": {},
   "outputs": [
    {
     "data": {
      "text/plain": [
       "'22'"
      ]
     },
     "execution_count": 6,
     "metadata": {},
     "output_type": "execute_result"
    }
   ],
   "source": [
    "str(22)"
   ]
  },
  {
   "cell_type": "code",
   "execution_count": 7,
   "id": "05d9d352-1273-4271-b187-9fb2c3be0a31",
   "metadata": {},
   "outputs": [],
   "source": [
    "name = \"apple\""
   ]
  },
  {
   "cell_type": "code",
   "execution_count": 8,
   "id": "cdcf5b71-0151-4aa3-9ecc-ec1a6b89c6b5",
   "metadata": {},
   "outputs": [
    {
     "data": {
      "text/plain": [
       "5"
      ]
     },
     "execution_count": 8,
     "metadata": {},
     "output_type": "execute_result"
    }
   ],
   "source": [
    "len(name)"
   ]
  },
  {
   "cell_type": "code",
   "execution_count": 9,
   "id": "3275a61d-4667-4256-a89a-32d8f2631294",
   "metadata": {},
   "outputs": [],
   "source": [
    "name = \"Rohit Kshetri\""
   ]
  },
  {
   "cell_type": "code",
   "execution_count": 10,
   "id": "38d626f3-0db1-46d1-a5ea-de0db307cbc1",
   "metadata": {},
   "outputs": [
    {
     "data": {
      "text/plain": [
       "13"
      ]
     },
     "execution_count": 10,
     "metadata": {},
     "output_type": "execute_result"
    }
   ],
   "source": [
    "len(name)"
   ]
  },
  {
   "cell_type": "markdown",
   "id": "1b4c59d6-2c55-4630-b36c-a86d18d645b5",
   "metadata": {},
   "source": [
    "# String Methods"
   ]
  },
  {
   "cell_type": "code",
   "execution_count": 11,
   "id": "062472e6-4cf2-48ef-ae76-eab1e9dc4b81",
   "metadata": {},
   "outputs": [],
   "source": [
    "x = \"Welcome\""
   ]
  },
  {
   "cell_type": "code",
   "execution_count": 12,
   "id": "8fc9e82c-f9cc-4ff7-9224-24740e8eec20",
   "metadata": {},
   "outputs": [
    {
     "data": {
      "text/plain": [
       "'welcome'"
      ]
     },
     "execution_count": 12,
     "metadata": {},
     "output_type": "execute_result"
    }
   ],
   "source": [
    "x.lower()"
   ]
  },
  {
   "cell_type": "code",
   "execution_count": 13,
   "id": "1f17de34-d289-489d-99cf-7b79970065bb",
   "metadata": {},
   "outputs": [
    {
     "data": {
      "text/plain": [
       "'WELCOME'"
      ]
     },
     "execution_count": 13,
     "metadata": {},
     "output_type": "execute_result"
    }
   ],
   "source": [
    "x.upper()"
   ]
  },
  {
   "cell_type": "code",
   "execution_count": 14,
   "id": "8cbb3f3c-5577-443a-a52a-08c575480926",
   "metadata": {},
   "outputs": [
    {
     "data": {
      "text/plain": [
       "'Welcome'"
      ]
     },
     "execution_count": 14,
     "metadata": {},
     "output_type": "execute_result"
    }
   ],
   "source": [
    "x.strip()"
   ]
  },
  {
   "cell_type": "code",
   "execution_count": 15,
   "id": "16fc5dd1-39e7-4e7c-a224-c3416652f324",
   "metadata": {},
   "outputs": [
    {
     "data": {
      "text/plain": [
       "'Walcoma'"
      ]
     },
     "execution_count": 15,
     "metadata": {},
     "output_type": "execute_result"
    }
   ],
   "source": [
    "x.replace('e', 'a')"
   ]
  },
  {
   "cell_type": "code",
   "execution_count": 16,
   "id": "238a45f4-dfca-4d8e-980f-3dac71a6cb76",
   "metadata": {},
   "outputs": [
    {
     "data": {
      "text/plain": [
       "['W', 'lcom', '']"
      ]
     },
     "execution_count": 16,
     "metadata": {},
     "output_type": "execute_result"
    }
   ],
   "source": [
    "x.split('e')"
   ]
  },
  {
   "cell_type": "code",
   "execution_count": 17,
   "id": "6fcd268f-563d-49b2-956e-a4abd95667b7",
   "metadata": {},
   "outputs": [],
   "source": [
    "email = \"rohit@gmail.com\""
   ]
  },
  {
   "cell_type": "code",
   "execution_count": 18,
   "id": "8b937597-3a3d-43fe-bf9d-6e6132ca3404",
   "metadata": {},
   "outputs": [
    {
     "data": {
      "text/plain": [
       "True"
      ]
     },
     "execution_count": 18,
     "metadata": {},
     "output_type": "execute_result"
    }
   ],
   "source": [
    "email.endswith(\"@gmail.com\")"
   ]
  },
  {
   "cell_type": "code",
   "execution_count": 19,
   "id": "782af724-c76c-40f4-8adb-be7658bc5234",
   "metadata": {},
   "outputs": [
    {
     "data": {
      "text/plain": [
       "'Rohit@gmail.com'"
      ]
     },
     "execution_count": 19,
     "metadata": {},
     "output_type": "execute_result"
    }
   ],
   "source": [
    "email.capitalize()"
   ]
  },
  {
   "cell_type": "code",
   "execution_count": 20,
   "id": "f7a34fb5-d8b7-4a98-8ca6-af1c6d7f46f7",
   "metadata": {},
   "outputs": [
    {
     "data": {
      "text/plain": [
       "'RohitKshetri'"
      ]
     },
     "execution_count": 20,
     "metadata": {},
     "output_type": "execute_result"
    }
   ],
   "source": [
    "\"Rohit\" + \"Kshetri\""
   ]
  },
  {
   "cell_type": "code",
   "execution_count": 21,
   "id": "a504c42f-b770-4c08-8026-16b1a44647c2",
   "metadata": {},
   "outputs": [
    {
     "data": {
      "text/plain": [
       "'RohitRohitRohitRohitRohitRohitRohitRohitRohitRohitRohitRohitRohitRohitRohitRohitRohitRohitRohitRohit'"
      ]
     },
     "execution_count": 21,
     "metadata": {},
     "output_type": "execute_result"
    }
   ],
   "source": [
    "\"Rohit\" * 20"
   ]
  },
  {
   "cell_type": "code",
   "execution_count": 22,
   "id": "138485ed-a358-45f1-a3ee-f8a45a654719",
   "metadata": {},
   "outputs": [],
   "source": [
    "address = \"Kathmandu\""
   ]
  },
  {
   "cell_type": "code",
   "execution_count": 23,
   "id": "78faddf2-95db-41ef-8b97-35ec104b6bcb",
   "metadata": {},
   "outputs": [
    {
     "data": {
      "text/plain": [
       "'h'"
      ]
     },
     "execution_count": 23,
     "metadata": {},
     "output_type": "execute_result"
    }
   ],
   "source": [
    "address[3]"
   ]
  },
  {
   "cell_type": "code",
   "execution_count": 31,
   "id": "c5466b76-6830-45f2-b680-d0ebf27157d2",
   "metadata": {},
   "outputs": [
    {
     "data": {
      "text/plain": [
       "'udnamhtaK'"
      ]
     },
     "execution_count": 31,
     "metadata": {},
     "output_type": "execute_result"
    }
   ],
   "source": [
    "address[::-1]"
   ]
  },
  {
   "cell_type": "code",
   "execution_count": null,
   "id": "6e29ffc1-42e3-434e-a9a5-d96aa3e4ac33",
   "metadata": {},
   "outputs": [],
   "source": []
  }
 ],
 "metadata": {
  "kernelspec": {
   "display_name": "Python 3 (ipykernel)",
   "language": "python",
   "name": "python3"
  },
  "language_info": {
   "codemirror_mode": {
    "name": "ipython",
    "version": 3
   },
   "file_extension": ".py",
   "mimetype": "text/x-python",
   "name": "python",
   "nbconvert_exporter": "python",
   "pygments_lexer": "ipython3",
   "version": "3.13.5"
  },
  "widgets": {
   "application/vnd.jupyter.widget-state+json": {
    "state": {},
    "version_major": 2,
    "version_minor": 0
   }
  }
 },
 "nbformat": 4,
 "nbformat_minor": 5
}
