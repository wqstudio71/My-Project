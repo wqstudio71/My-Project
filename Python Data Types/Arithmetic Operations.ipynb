{
 "cells": [
  {
   "cell_type": "markdown",
   "id": "d966d511-61a4-41f8-97a1-1634eec361bc",
   "metadata": {},
   "source": [
    "# Arithmetic Operations"
   ]
  },
  {
   "cell_type": "code",
   "execution_count": 1,
   "id": "b78197a4-8597-42a7-9985-45f73765545a",
   "metadata": {},
   "outputs": [],
   "source": [
    "x = 22\n",
    "y = 55.5"
   ]
  },
  {
   "cell_type": "code",
   "execution_count": 2,
   "id": "1275c10e-af55-4723-b850-d324a1c9fd99",
   "metadata": {},
   "outputs": [
    {
     "data": {
      "text/plain": [
       "77.5"
      ]
     },
     "execution_count": 2,
     "metadata": {},
     "output_type": "execute_result"
    }
   ],
   "source": [
    "x  + y"
   ]
  },
  {
   "cell_type": "code",
   "execution_count": 3,
   "id": "652ade59-d3f3-44fd-958d-688d10d5c3a4",
   "metadata": {},
   "outputs": [
    {
     "data": {
      "text/plain": [
       "-33.5"
      ]
     },
     "execution_count": 3,
     "metadata": {},
     "output_type": "execute_result"
    }
   ],
   "source": [
    "x - y"
   ]
  },
  {
   "cell_type": "code",
   "execution_count": 4,
   "id": "6b1f66b1-1785-4eec-b616-cfb441a0604a",
   "metadata": {},
   "outputs": [
    {
     "data": {
      "text/plain": [
       "1221.0"
      ]
     },
     "execution_count": 4,
     "metadata": {},
     "output_type": "execute_result"
    }
   ],
   "source": [
    "x * y"
   ]
  },
  {
   "cell_type": "code",
   "execution_count": 5,
   "id": "0937af4f-06f3-4cd2-9298-ed7f6dcf140d",
   "metadata": {},
   "outputs": [
    {
     "data": {
      "text/plain": [
       "22.0"
      ]
     },
     "execution_count": 5,
     "metadata": {},
     "output_type": "execute_result"
    }
   ],
   "source": [
    "x % y"
   ]
  },
  {
   "cell_type": "code",
   "execution_count": 7,
   "id": "2e9ecd04-73fc-49ac-a01b-ef5d9992e8ef",
   "metadata": {},
   "outputs": [
    {
     "data": {
      "text/plain": [
       "3.1949111546678064e+74"
      ]
     },
     "execution_count": 7,
     "metadata": {},
     "output_type": "execute_result"
    }
   ],
   "source": [
    "x**y"
   ]
  },
  {
   "cell_type": "code",
   "execution_count": 8,
   "id": "0e2c9c7c-0f81-481a-abd4-3df55b06048f",
   "metadata": {},
   "outputs": [
    {
     "data": {
      "text/plain": [
       "1000"
      ]
     },
     "execution_count": 8,
     "metadata": {},
     "output_type": "execute_result"
    }
   ],
   "source": [
    "10 ** 3"
   ]
  },
  {
   "cell_type": "code",
   "execution_count": 9,
   "id": "1fe6141b-fe50-4fb2-b80d-96492219b224",
   "metadata": {},
   "outputs": [
    {
     "data": {
      "text/plain": [
       "0.0"
      ]
     },
     "execution_count": 9,
     "metadata": {},
     "output_type": "execute_result"
    }
   ],
   "source": [
    "x // y"
   ]
  },
  {
   "cell_type": "code",
   "execution_count": 10,
   "id": "7a39c06c-deb3-4c25-87fe-ea187d2cb301",
   "metadata": {},
   "outputs": [
    {
     "data": {
      "text/plain": [
       "16"
      ]
     },
     "execution_count": 10,
     "metadata": {},
     "output_type": "execute_result"
    }
   ],
   "source": [
    "100 // 6"
   ]
  },
  {
   "cell_type": "code",
   "execution_count": null,
   "id": "45df4f09-9f68-483e-94d0-eb5fd1cb413d",
   "metadata": {},
   "outputs": [],
   "source": []
  }
 ],
 "metadata": {
  "kernelspec": {
   "display_name": "Python 3 (ipykernel)",
   "language": "python",
   "name": "python3"
  },
  "language_info": {
   "codemirror_mode": {
    "name": "ipython",
    "version": 3
   },
   "file_extension": ".py",
   "mimetype": "text/x-python",
   "name": "python",
   "nbconvert_exporter": "python",
   "pygments_lexer": "ipython3",
   "version": "3.13.5"
  },
  "widgets": {
   "application/vnd.jupyter.widget-state+json": {
    "state": {},
    "version_major": 2,
    "version_minor": 0
   }
  }
 },
 "nbformat": 4,
 "nbformat_minor": 5
}
