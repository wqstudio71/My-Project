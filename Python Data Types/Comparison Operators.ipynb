{
 "cells": [
  {
   "cell_type": "markdown",
   "id": "5e9a7737-4655-428b-bda0-9520cb8f2d96",
   "metadata": {},
   "source": [
    "# Comparison Operators"
   ]
  },
  {
   "cell_type": "code",
   "execution_count": 3,
   "id": "d16e91e5-9374-4130-919d-7b4674242cd4",
   "metadata": {},
   "outputs": [],
   "source": [
    "num1 = 50\n",
    "num2 = 45"
   ]
  },
  {
   "cell_type": "code",
   "execution_count": 5,
   "id": "ad93b536-52cf-44e3-8a42-672d7a77cbf1",
   "metadata": {},
   "outputs": [
    {
     "data": {
      "text/plain": [
       "False"
      ]
     },
     "execution_count": 5,
     "metadata": {},
     "output_type": "execute_result"
    }
   ],
   "source": [
    "num1 == num2"
   ]
  },
  {
   "cell_type": "code",
   "execution_count": 6,
   "id": "f75f4d8f-33d0-48f2-b500-c58142ae2d96",
   "metadata": {},
   "outputs": [
    {
     "data": {
      "text/plain": [
       "True"
      ]
     },
     "execution_count": 6,
     "metadata": {},
     "output_type": "execute_result"
    }
   ],
   "source": [
    "num1 != num2"
   ]
  },
  {
   "cell_type": "code",
   "execution_count": 7,
   "id": "e49af509-d4dd-44d9-a88d-411c34e6b7d0",
   "metadata": {},
   "outputs": [
    {
     "data": {
      "text/plain": [
       "True"
      ]
     },
     "execution_count": 7,
     "metadata": {},
     "output_type": "execute_result"
    }
   ],
   "source": [
    "num1 >= num2"
   ]
  },
  {
   "cell_type": "code",
   "execution_count": 8,
   "id": "38cf565e-c2d3-411a-b065-1f04360021e5",
   "metadata": {},
   "outputs": [
    {
     "data": {
      "text/plain": [
       "False"
      ]
     },
     "execution_count": 8,
     "metadata": {},
     "output_type": "execute_result"
    }
   ],
   "source": [
    "num1 <= num2"
   ]
  },
  {
   "cell_type": "code",
   "execution_count": null,
   "id": "2f35d02c-bf70-4387-8a81-d41d575adc31",
   "metadata": {},
   "outputs": [],
   "source": []
  }
 ],
 "metadata": {
  "kernelspec": {
   "display_name": "Python 3 (ipykernel)",
   "language": "python",
   "name": "python3"
  },
  "language_info": {
   "codemirror_mode": {
    "name": "ipython",
    "version": 3
   },
   "file_extension": ".py",
   "mimetype": "text/x-python",
   "name": "python",
   "nbconvert_exporter": "python",
   "pygments_lexer": "ipython3",
   "version": "3.13.5"
  },
  "widgets": {
   "application/vnd.jupyter.widget-state+json": {
    "state": {},
    "version_major": 2,
    "version_minor": 0
   }
  }
 },
 "nbformat": 4,
 "nbformat_minor": 5
}
