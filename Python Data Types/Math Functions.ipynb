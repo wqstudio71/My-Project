{
 "cells": [
  {
   "cell_type": "markdown",
   "id": "d3f0e04f-36ee-4363-8a60-e18b84996fdb",
   "metadata": {},
   "source": [
    "# Math Functions"
   ]
  },
  {
   "cell_type": "code",
   "execution_count": 1,
   "id": "41f0a6c9-4b39-4378-862c-9ac69a00a62d",
   "metadata": {},
   "outputs": [],
   "source": [
    "import math"
   ]
  },
  {
   "cell_type": "code",
   "execution_count": 3,
   "id": "5803526c-088c-4259-abc7-004c01231bbe",
   "metadata": {},
   "outputs": [],
   "source": [
    "x = -22"
   ]
  },
  {
   "cell_type": "code",
   "execution_count": 4,
   "id": "f1a5c076-9d42-443d-848c-e4d6ac04e57d",
   "metadata": {},
   "outputs": [
    {
     "data": {
      "text/plain": [
       "22.0"
      ]
     },
     "execution_count": 4,
     "metadata": {},
     "output_type": "execute_result"
    }
   ],
   "source": [
    "math.fabs(x)"
   ]
  },
  {
   "cell_type": "code",
   "execution_count": 5,
   "id": "52abc58c-1d75-499b-a359-d50208eb8982",
   "metadata": {},
   "outputs": [
    {
     "data": {
      "text/plain": [
       "12"
      ]
     },
     "execution_count": 5,
     "metadata": {},
     "output_type": "execute_result"
    }
   ],
   "source": [
    "math.perm(4,2)"
   ]
  },
  {
   "cell_type": "code",
   "execution_count": 9,
   "id": "13269007-e6f0-4666-9b77-d78d25e49556",
   "metadata": {},
   "outputs": [
    {
     "data": {
      "text/plain": [
       "9"
      ]
     },
     "execution_count": 9,
     "metadata": {},
     "output_type": "execute_result"
    }
   ],
   "source": [
    "math.isqrt(81)"
   ]
  },
  {
   "cell_type": "code",
   "execution_count": 13,
   "id": "ad1356c3-4960-4457-b416-33358152a280",
   "metadata": {},
   "outputs": [
    {
     "data": {
      "text/plain": [
       "6.0"
      ]
     },
     "execution_count": 13,
     "metadata": {},
     "output_type": "execute_result"
    }
   ],
   "source": [
    "math.cbrt(216)"
   ]
  },
  {
   "cell_type": "code",
   "execution_count": 15,
   "id": "a5f5f1dd-f718-4d8f-918b-b35dfc2c6f63",
   "metadata": {},
   "outputs": [
    {
     "data": {
      "text/plain": [
       "5.999999999999999"
      ]
     },
     "execution_count": 15,
     "metadata": {},
     "output_type": "execute_result"
    }
   ],
   "source": [
    "216 ** (1/3)"
   ]
  },
  {
   "cell_type": "code",
   "execution_count": 21,
   "id": "a7eb636e-503a-428c-bf3d-ccb0bcdde2b8",
   "metadata": {},
   "outputs": [
    {
     "data": {
      "text/plain": [
       "1.7467135528742547e+19"
      ]
     },
     "execution_count": 21,
     "metadata": {},
     "output_type": "execute_result"
    }
   ],
   "source": [
    "math.sinh(45)"
   ]
  },
  {
   "cell_type": "code",
   "execution_count": 22,
   "id": "7a19f7fd-95d1-4e49-8d19-249b67d57871",
   "metadata": {},
   "outputs": [
    {
     "data": {
      "text/plain": [
       "3.141592653589793"
      ]
     },
     "execution_count": 22,
     "metadata": {},
     "output_type": "execute_result"
    }
   ],
   "source": [
    "math.pi"
   ]
  },
  {
   "cell_type": "code",
   "execution_count": 23,
   "id": "9d1324fa-22a2-4596-ba18-21c2b3663528",
   "metadata": {},
   "outputs": [
    {
     "data": {
      "text/plain": [
       "24"
      ]
     },
     "execution_count": 23,
     "metadata": {},
     "output_type": "execute_result"
    }
   ],
   "source": [
    "math.factorial(4)"
   ]
  },
  {
   "cell_type": "code",
   "execution_count": 25,
   "id": "db71cf38-f323-475d-8a45-7761aeca2b1a",
   "metadata": {},
   "outputs": [
    {
     "data": {
      "text/plain": [
       "2"
      ]
     },
     "execution_count": 25,
     "metadata": {},
     "output_type": "execute_result"
    }
   ],
   "source": [
    "math.gcd(2,4,6)"
   ]
  },
  {
   "cell_type": "code",
   "execution_count": 27,
   "id": "abe9e055-5734-479e-b265-61eaacedf765",
   "metadata": {},
   "outputs": [
    {
     "data": {
      "text/plain": [
       "45"
      ]
     },
     "execution_count": 27,
     "metadata": {},
     "output_type": "execute_result"
    }
   ],
   "source": [
    "math.ceil(44.2)"
   ]
  },
  {
   "cell_type": "code",
   "execution_count": 28,
   "id": "24f0624e-a341-4a0a-9aa4-3c6b90809fb6",
   "metadata": {},
   "outputs": [
    {
     "data": {
      "text/plain": [
       "44"
      ]
     },
     "execution_count": 28,
     "metadata": {},
     "output_type": "execute_result"
    }
   ],
   "source": [
    "math.floor(44.2)"
   ]
  },
  {
   "cell_type": "code",
   "execution_count": 29,
   "id": "0d32eec7-1d37-4fb0-8344-d62e00354c64",
   "metadata": {},
   "outputs": [
    {
     "data": {
      "text/plain": [
       "14.0"
      ]
     },
     "execution_count": 29,
     "metadata": {},
     "output_type": "execute_result"
    }
   ],
   "source": [
    "math.fma(4,3,2)"
   ]
  },
  {
   "cell_type": "code",
   "execution_count": 30,
   "id": "0cc0f6b8-3cb9-41f4-885a-ef4fe0ecdfb4",
   "metadata": {},
   "outputs": [
    {
     "data": {
      "text/plain": [
       "True"
      ]
     },
     "execution_count": 30,
     "metadata": {},
     "output_type": "execute_result"
    }
   ],
   "source": [
    "math.isfinite(33)"
   ]
  },
  {
   "cell_type": "code",
   "execution_count": 33,
   "id": "e84533b6-d5e8-419d-88c2-4662affb878c",
   "metadata": {},
   "outputs": [
    {
     "data": {
      "text/plain": [
       "True"
      ]
     },
     "execution_count": 33,
     "metadata": {},
     "output_type": "execute_result"
    }
   ],
   "source": [
    "math.isfinite(22/7)"
   ]
  },
  {
   "cell_type": "code",
   "execution_count": 39,
   "id": "5aaa679e-668e-40d2-88f9-a28bf6effb5d",
   "metadata": {},
   "outputs": [
    {
     "data": {
      "text/plain": [
       "1.4142135623730951"
      ]
     },
     "execution_count": 39,
     "metadata": {},
     "output_type": "execute_result"
    }
   ],
   "source": [
    "math.dist((5,3,2), (5,2,1))"
   ]
  },
  {
   "cell_type": "code",
   "execution_count": 40,
   "id": "e99a6e56-6877-4654-9061-4cdaea413d36",
   "metadata": {},
   "outputs": [
    {
     "data": {
      "text/plain": [
       "2"
      ]
     },
     "execution_count": 40,
     "metadata": {},
     "output_type": "execute_result"
    }
   ],
   "source": [
    "min(5,3,2)"
   ]
  },
  {
   "cell_type": "code",
   "execution_count": 41,
   "id": "1c5ee1d9-0798-4c71-bf51-13275d512afc",
   "metadata": {},
   "outputs": [
    {
     "data": {
      "text/plain": [
       "5"
      ]
     },
     "execution_count": 41,
     "metadata": {},
     "output_type": "execute_result"
    }
   ],
   "source": [
    "max(5,3,2)"
   ]
  },
  {
   "cell_type": "code",
   "execution_count": 42,
   "id": "38938f01-29fd-4454-8b0f-b408a9553d56",
   "metadata": {},
   "outputs": [],
   "source": [
    "# User = 64, capacity = 128"
   ]
  },
  {
   "cell_type": "code",
   "execution_count": 50,
   "id": "68cc1c4f-07e3-4841-90db-94c45bdbcf6c",
   "metadata": {},
   "outputs": [],
   "source": [
    "user = 1000\n",
    "capacity = 128"
   ]
  },
  {
   "cell_type": "code",
   "execution_count": 51,
   "id": "5aa40f65-a36e-40ff-bb47-ee139a7b79c2",
   "metadata": {},
   "outputs": [],
   "source": [
    "result = min(user, capacity)"
   ]
  },
  {
   "cell_type": "code",
   "execution_count": 52,
   "id": "3dee3ac3-de71-4274-a9bd-e0d9405b9dc7",
   "metadata": {},
   "outputs": [
    {
     "data": {
      "text/plain": [
       "128"
      ]
     },
     "execution_count": 52,
     "metadata": {},
     "output_type": "execute_result"
    }
   ],
   "source": [
    "result"
   ]
  },
  {
   "cell_type": "code",
   "execution_count": 56,
   "id": "f5a64d48-470b-4a14-aba3-dd422ebf4f3c",
   "metadata": {},
   "outputs": [
    {
     "data": {
      "text/plain": [
       "23"
      ]
     },
     "execution_count": 56,
     "metadata": {},
     "output_type": "execute_result"
    }
   ],
   "source": [
    "round(22.534)"
   ]
  },
  {
   "cell_type": "code",
   "execution_count": null,
   "id": "cf57413d-3543-43c4-bc39-c1dda85b9996",
   "metadata": {},
   "outputs": [],
   "source": []
  }
 ],
 "metadata": {
  "kernelspec": {
   "display_name": "Python 3 (ipykernel)",
   "language": "python",
   "name": "python3"
  },
  "language_info": {
   "codemirror_mode": {
    "name": "ipython",
    "version": 3
   },
   "file_extension": ".py",
   "mimetype": "text/x-python",
   "name": "python",
   "nbconvert_exporter": "python",
   "pygments_lexer": "ipython3",
   "version": "3.13.5"
  },
  "widgets": {
   "application/vnd.jupyter.widget-state+json": {
    "state": {},
    "version_major": 2,
    "version_minor": 0
   }
  }
 },
 "nbformat": 4,
 "nbformat_minor": 5
}
