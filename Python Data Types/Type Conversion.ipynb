{
 "cells": [
  {
   "cell_type": "markdown",
   "id": "018a8811-8ce6-4ad7-bcef-3a34ec911169",
   "metadata": {},
   "source": [
    "# Type Conversion"
   ]
  },
  {
   "cell_type": "code",
   "execution_count": 1,
   "id": "e6e07e5d-dbf0-452a-b841-699d5829814e",
   "metadata": {},
   "outputs": [],
   "source": [
    "eulers = 0.577218"
   ]
  },
  {
   "cell_type": "code",
   "execution_count": 2,
   "id": "8b6edff4-d3df-4819-b32f-353ee7ba44fd",
   "metadata": {},
   "outputs": [],
   "source": [
    "number = int(eulers)"
   ]
  },
  {
   "cell_type": "code",
   "execution_count": 3,
   "id": "b3416d80-d528-4cb6-bc2a-ea651c4b00bf",
   "metadata": {},
   "outputs": [
    {
     "name": "stdout",
     "output_type": "stream",
     "text": [
      "0\n"
     ]
    }
   ],
   "source": [
    "print(number)"
   ]
  },
  {
   "cell_type": "code",
   "execution_count": 4,
   "id": "66be030c-efb0-4369-8435-979b33fddbb7",
   "metadata": {},
   "outputs": [],
   "source": [
    "whole = 99"
   ]
  },
  {
   "cell_type": "code",
   "execution_count": 5,
   "id": "ff665d42-681a-4fae-9880-2ba1dbc1b76a",
   "metadata": {},
   "outputs": [],
   "source": [
    "num = float(whole)"
   ]
  },
  {
   "cell_type": "code",
   "execution_count": 6,
   "id": "388d7ae7-f231-4cf2-9d55-0c693ccd25df",
   "metadata": {},
   "outputs": [
    {
     "name": "stdout",
     "output_type": "stream",
     "text": [
      "99.0\n"
     ]
    }
   ],
   "source": [
    "print(num)"
   ]
  },
  {
   "cell_type": "code",
   "execution_count": 7,
   "id": "21d01407-de6a-4e27-95e1-38aa578f7a16",
   "metadata": {},
   "outputs": [],
   "source": [
    "x = 45"
   ]
  },
  {
   "cell_type": "code",
   "execution_count": 8,
   "id": "4e791308-39f3-4122-82fd-e675f7b8b630",
   "metadata": {},
   "outputs": [],
   "source": [
    "y = complex(x)"
   ]
  },
  {
   "cell_type": "code",
   "execution_count": 10,
   "id": "39efe798-3584-450f-ace5-a430af6d864e",
   "metadata": {},
   "outputs": [
    {
     "name": "stdout",
     "output_type": "stream",
     "text": [
      "(45+0j)\n"
     ]
    }
   ],
   "source": [
    "print(y)"
   ]
  },
  {
   "cell_type": "code",
   "execution_count": 11,
   "id": "a0b11c21-28f9-4958-9400-def051fab48d",
   "metadata": {},
   "outputs": [
    {
     "data": {
      "text/plain": [
       "(33+4j)"
      ]
     },
     "execution_count": 11,
     "metadata": {},
     "output_type": "execute_result"
    }
   ],
   "source": [
    "complex(33,4)"
   ]
  },
  {
   "cell_type": "code",
   "execution_count": 12,
   "id": "7e5dd186-bea2-431d-a22a-7312484bf080",
   "metadata": {},
   "outputs": [
    {
     "data": {
      "text/plain": [
       "(2+4j)"
      ]
     },
     "execution_count": 12,
     "metadata": {},
     "output_type": "execute_result"
    }
   ],
   "source": [
    "complex(2,4)"
   ]
  },
  {
   "cell_type": "code",
   "execution_count": null,
   "id": "73fa2505-ead2-43f7-9b32-7b873f30ff5e",
   "metadata": {},
   "outputs": [],
   "source": []
  }
 ],
 "metadata": {
  "kernelspec": {
   "display_name": "Python 3 (ipykernel)",
   "language": "python",
   "name": "python3"
  },
  "language_info": {
   "codemirror_mode": {
    "name": "ipython",
    "version": 3
   },
   "file_extension": ".py",
   "mimetype": "text/x-python",
   "name": "python",
   "nbconvert_exporter": "python",
   "pygments_lexer": "ipython3",
   "version": "3.13.5"
  },
  "widgets": {
   "application/vnd.jupyter.widget-state+json": {
    "state": {},
    "version_major": 2,
    "version_minor": 0
   }
  }
 },
 "nbformat": 4,
 "nbformat_minor": 5
}
