{
 "cells": [
  {
   "cell_type": "code",
   "execution_count": 1,
   "id": "f9354b4f-f22c-41d2-b5c7-fc13ed8b5318",
   "metadata": {},
   "outputs": [],
   "source": [
    "x = 15\n",
    "y = 4.5"
   ]
  },
  {
   "cell_type": "code",
   "execution_count": 2,
   "id": "b5a5195a-1659-4364-b6d2-9143de0ad545",
   "metadata": {},
   "outputs": [
    {
     "data": {
      "text/plain": [
       "19.5"
      ]
     },
     "execution_count": 2,
     "metadata": {},
     "output_type": "execute_result"
    }
   ],
   "source": [
    "x + y"
   ]
  },
  {
   "cell_type": "code",
   "execution_count": 3,
   "id": "9c5eb630-6227-4c86-8e49-8890445a358b",
   "metadata": {},
   "outputs": [
    {
     "data": {
      "text/plain": [
       "10.5"
      ]
     },
     "execution_count": 3,
     "metadata": {},
     "output_type": "execute_result"
    }
   ],
   "source": [
    "x - y"
   ]
  },
  {
   "cell_type": "code",
   "execution_count": 4,
   "id": "3779ec65-117a-4718-ad0a-0936c17d18dc",
   "metadata": {},
   "outputs": [
    {
     "data": {
      "text/plain": [
       "67.5"
      ]
     },
     "execution_count": 4,
     "metadata": {},
     "output_type": "execute_result"
    }
   ],
   "source": [
    "x * y"
   ]
  },
  {
   "cell_type": "code",
   "execution_count": 5,
   "id": "035da74a-0916-4a6b-865f-06a2f5fa923c",
   "metadata": {},
   "outputs": [
    {
     "data": {
      "text/plain": [
       "3.3333333333333335"
      ]
     },
     "execution_count": 5,
     "metadata": {},
     "output_type": "execute_result"
    }
   ],
   "source": [
    "x / y"
   ]
  },
  {
   "cell_type": "code",
   "execution_count": 6,
   "id": "1e478336-7d2f-451d-9dd6-17624d1ae8f7",
   "metadata": {},
   "outputs": [
    {
     "data": {
      "text/plain": [
       "3.0"
      ]
     },
     "execution_count": 6,
     "metadata": {},
     "output_type": "execute_result"
    }
   ],
   "source": [
    "x // y"
   ]
  },
  {
   "cell_type": "code",
   "execution_count": 7,
   "id": "63e652e7-b807-4e5e-9294-2ecb095033b8",
   "metadata": {},
   "outputs": [
    {
     "data": {
      "text/plain": [
       "1.5"
      ]
     },
     "execution_count": 7,
     "metadata": {},
     "output_type": "execute_result"
    }
   ],
   "source": [
    "x % y"
   ]
  },
  {
   "cell_type": "code",
   "execution_count": 8,
   "id": "852a2eca-c636-433c-b866-c6f7b687984b",
   "metadata": {},
   "outputs": [
    {
     "data": {
      "text/plain": [
       "196069.78190175048"
      ]
     },
     "execution_count": 8,
     "metadata": {},
     "output_type": "execute_result"
    }
   ],
   "source": [
    "x ** y"
   ]
  },
  {
   "cell_type": "code",
   "execution_count": 9,
   "id": "5b9cf111-f059-48ad-b7d7-c022713d7200",
   "metadata": {},
   "outputs": [],
   "source": [
    "message = \"PythonIsFun\""
   ]
  },
  {
   "cell_type": "code",
   "execution_count": 11,
   "id": "d8d3ffe5-db12-4137-be40-a73b3eafd354",
   "metadata": {},
   "outputs": [
    {
     "data": {
      "text/plain": [
       "11"
      ]
     },
     "execution_count": 11,
     "metadata": {},
     "output_type": "execute_result"
    }
   ],
   "source": [
    "len(message)"
   ]
  },
  {
   "cell_type": "code",
   "execution_count": 12,
   "id": "92733da8-4661-44c1-a02f-e0e7a2b0edb6",
   "metadata": {},
   "outputs": [
    {
     "data": {
      "text/plain": [
       "'PYTHONISFUN'"
      ]
     },
     "execution_count": 12,
     "metadata": {},
     "output_type": "execute_result"
    }
   ],
   "source": [
    "message.upper()"
   ]
  },
  {
   "cell_type": "code",
   "execution_count": 13,
   "id": "c4a0d2b0-6217-48be-9936-02f2c995817a",
   "metadata": {},
   "outputs": [
    {
     "data": {
      "text/plain": [
       "'pythonisfun'"
      ]
     },
     "execution_count": 13,
     "metadata": {},
     "output_type": "execute_result"
    }
   ],
   "source": [
    "message.lower()"
   ]
  },
  {
   "cell_type": "code",
   "execution_count": 14,
   "id": "afa190cb-0533-43d3-a058-1fb99d3b8635",
   "metadata": {},
   "outputs": [
    {
     "name": "stdout",
     "output_type": "stream",
     "text": [
      "True\n"
     ]
    }
   ],
   "source": [
    "print(\"Fun\" in message)"
   ]
  },
  {
   "cell_type": "code",
   "execution_count": 15,
   "id": "885d6e96-6ad7-4bd2-9353-595c59c775d1",
   "metadata": {},
   "outputs": [
    {
     "name": "stdout",
     "output_type": "stream",
     "text": [
      "PythonIsFun123\n"
     ]
    }
   ],
   "source": [
    "new_message = message + \"123\"\n",
    "print(new_message)"
   ]
  },
  {
   "cell_type": "code",
   "execution_count": 16,
   "id": "3a6a4891-175e-4862-aacf-0b5cd6928b8f",
   "metadata": {},
   "outputs": [
    {
     "name": "stdout",
     "output_type": "stream",
     "text": [
      "P\n"
     ]
    }
   ],
   "source": [
    "print(message[0])"
   ]
  },
  {
   "cell_type": "code",
   "execution_count": 17,
   "id": "1f234ff2-ef08-42c1-8f97-6a08fbb88b2e",
   "metadata": {},
   "outputs": [
    {
     "name": "stdout",
     "output_type": "stream",
     "text": [
      "n\n"
     ]
    }
   ],
   "source": [
    "print(message[-1])"
   ]
  },
  {
   "cell_type": "code",
   "execution_count": 20,
   "id": "ba54a336-1f8e-4673-948f-ede5189813f3",
   "metadata": {},
   "outputs": [
    {
     "name": "stdout",
     "output_type": "stream",
     "text": [
      "ytho\n"
     ]
    }
   ],
   "source": [
    "print(message[1:5])"
   ]
  },
  {
   "cell_type": "code",
   "execution_count": 21,
   "id": "f2d90b4f-0b9f-41ad-81d3-9f9406740855",
   "metadata": {},
   "outputs": [
    {
     "name": "stdout",
     "output_type": "stream",
     "text": [
      "PtoIFn\n"
     ]
    }
   ],
   "source": [
    "print(message[::2])"
   ]
  },
  {
   "cell_type": "code",
   "execution_count": 22,
   "id": "2b747e1f-7bb3-490e-8e3d-498dff32e338",
   "metadata": {},
   "outputs": [
    {
     "name": "stdout",
     "output_type": "stream",
     "text": [
      "nuFsInohtyP\n"
     ]
    }
   ],
   "source": [
    "print(message[::-1])"
   ]
  },
  {
   "cell_type": "code",
   "execution_count": 26,
   "id": "2b8449f6-e87e-4381-b5a0-247b350525ff",
   "metadata": {},
   "outputs": [
    {
     "name": "stdin",
     "output_type": "stream",
     "text": [
      "Enter a number 2\n"
     ]
    },
    {
     "name": "stdout",
     "output_type": "stream",
     "text": [
      "Square 4.0\n"
     ]
    }
   ],
   "source": [
    "import math\n",
    "num = input(\"Enter a number\")\n",
    "\n",
    "number = float(num)\n",
    "\n",
    "print(\"Square\", number * 2)\n"
   ]
  },
  {
   "cell_type": "code",
   "execution_count": 27,
   "id": "87b06f6e-c45d-465f-bd51-8573a67b0a83",
   "metadata": {},
   "outputs": [],
   "source": [
    "import math"
   ]
  },
  {
   "cell_type": "code",
   "execution_count": 29,
   "id": "70676c74-3568-4be4-b56e-cc58520cc50c",
   "metadata": {},
   "outputs": [
    {
     "name": "stdin",
     "output_type": "stream",
     "text": [
      "Enter a number 4\n"
     ]
    },
    {
     "name": "stdout",
     "output_type": "stream",
     "text": [
      "Square 16.0\n"
     ]
    }
   ],
   "source": [
    "num = input(\"Enter a number\")\n",
    "number = float(num)\n",
    "print(\"Square\", number ** 2)"
   ]
  },
  {
   "cell_type": "code",
   "execution_count": 31,
   "id": "3cbba1db-28b4-4107-8593-b714ecc1cedd",
   "metadata": {},
   "outputs": [
    {
     "name": "stdin",
     "output_type": "stream",
     "text": [
      "Enter a number 1\n",
      "Enter a second number 1\n"
     ]
    },
    {
     "name": "stdout",
     "output_type": "stream",
     "text": [
      "Yes the y is inside the x\n"
     ]
    }
   ],
   "source": [
    "x = input(\"Enter a number\")\n",
    "y = input(\"Enter a second number\")\n",
    "\n",
    "if y in x:\n",
    "    print(\"Yes the y is inside the x\")\n",
    "\n",
    "else:\n",
    "    print(\"No\")"
   ]
  },
  {
   "cell_type": "code",
   "execution_count": 7,
   "id": "88921731-2f97-46f1-bd46-176f7cab669e",
   "metadata": {},
   "outputs": [
    {
     "name": "stdin",
     "output_type": "stream",
     "text": [
      "enter a number 50\n"
     ]
    },
    {
     "name": "stdout",
     "output_type": "stream",
     "text": [
      "the number is low\n"
     ]
    },
    {
     "name": "stdin",
     "output_type": "stream",
     "text": [
      "enter a number 25\n"
     ]
    },
    {
     "name": "stdout",
     "output_type": "stream",
     "text": [
      "the number is high\n"
     ]
    },
    {
     "name": "stdin",
     "output_type": "stream",
     "text": [
      "enter a number 33\n"
     ]
    },
    {
     "name": "stdout",
     "output_type": "stream",
     "text": [
      "the number is low\n"
     ]
    },
    {
     "name": "stdin",
     "output_type": "stream",
     "text": [
      "enter a number 29\n"
     ]
    },
    {
     "name": "stdout",
     "output_type": "stream",
     "text": [
      "the number is low\n"
     ]
    },
    {
     "name": "stdin",
     "output_type": "stream",
     "text": [
      "enter a number 27\n"
     ]
    },
    {
     "name": "stdout",
     "output_type": "stream",
     "text": [
      "the number is high\n"
     ]
    },
    {
     "name": "stdin",
     "output_type": "stream",
     "text": [
      "enter a number 26\n"
     ]
    },
    {
     "name": "stdout",
     "output_type": "stream",
     "text": [
      "the number is high\n"
     ]
    },
    {
     "name": "stdin",
     "output_type": "stream",
     "text": [
      "enter a number 28\n"
     ]
    },
    {
     "name": "stdout",
     "output_type": "stream",
     "text": [
      "the number is correct\n"
     ]
    }
   ],
   "source": [
    "# Your Solution Here\n",
    "import random\n",
    "import random\n",
    "attempt = 7\n",
    "number = random.randint(1, 100)\n",
    "def play_game():\n",
    "    for attempts in range(1,attempt+1):\n",
    "                \n",
    "        guess = int(input(\"enter a number\"))\n",
    "        if guess == number:\n",
    "            print(\"the number is correct\")\n",
    "            break\n",
    "                \n",
    "        elif guess<number:\n",
    "             print(\"the number is high\")\n",
    "                \n",
    "        elif guess>number:\n",
    "            print(\"the number is low\")\n",
    "\n",
    "    else :\n",
    "        print(f\"you ran out of attempt so the number is {number}\")\n",
    "                \n",
    "play_game()"
   ]
  },
  {
   "cell_type": "markdown",
   "id": "201fa179-9b0e-4c1c-90a1-ba0df61df817",
   "metadata": {},
   "source": [
    "# For Else"
   ]
  },
  {
   "cell_type": "code",
   "execution_count": 11,
   "id": "63a2d9db-0884-48de-b462-85cd94f6ee76",
   "metadata": {},
   "outputs": [],
   "source": [
    "def runner():\n",
    "    for i in range(7):\n",
    "        print(i)\n",
    "        return i\n",
    "    print(\"Else For\")"
   ]
  },
  {
   "cell_type": "code",
   "execution_count": 12,
   "id": "bb716530-6d7a-4aaa-8839-9edab2f46907",
   "metadata": {},
   "outputs": [
    {
     "name": "stdout",
     "output_type": "stream",
     "text": [
      "0\n"
     ]
    },
    {
     "data": {
      "text/plain": [
       "0"
      ]
     },
     "execution_count": 12,
     "metadata": {},
     "output_type": "execute_result"
    }
   ],
   "source": [
    "runner()"
   ]
  },
  {
   "cell_type": "code",
   "execution_count": 13,
   "id": "388e9858-dd3f-422b-90a5-9cbd6d918482",
   "metadata": {},
   "outputs": [
    {
     "name": "stdout",
     "output_type": "stream",
     "text": [
      "Login Success\n"
     ]
    }
   ],
   "source": [
    "name = \"python\"\n",
    "\n",
    "if name == \"java\" or \"html\":\n",
    "    print(\"Login Success\")\n",
    "\n",
    "else:\n",
    "    print(\"Invalid\")"
   ]
  },
  {
   "cell_type": "code",
   "execution_count": 14,
   "id": "32702ea1-3144-461b-9f9a-336d79d83027",
   "metadata": {},
   "outputs": [
    {
     "data": {
      "text/plain": [
       "str"
      ]
     },
     "execution_count": 14,
     "metadata": {},
     "output_type": "execute_result"
    }
   ],
   "source": [
    "type(name)"
   ]
  },
  {
   "cell_type": "code",
   "execution_count": 1,
   "id": "f10f0e50-8cc4-42ef-bf4c-d10b6d0910b5",
   "metadata": {},
   "outputs": [],
   "source": [
    "if not isinstance([1,2], list):\n",
    "    print(\"Not Valid\")"
   ]
  },
  {
   "cell_type": "code",
   "execution_count": 3,
   "id": "856fad7e-25d5-485f-9a8f-350d95ca3c51",
   "metadata": {},
   "outputs": [
    {
     "data": {
      "text/plain": [
       "True"
      ]
     },
     "execution_count": 3,
     "metadata": {},
     "output_type": "execute_result"
    }
   ],
   "source": [
    "type(1) == int"
   ]
  },
  {
   "cell_type": "markdown",
   "id": "b479548b-ef37-4e88-9636-24abbb653ca0",
   "metadata": {},
   "source": [
    "# Modules and Packages"
   ]
  },
  {
   "cell_type": "markdown",
   "id": "9d77f30a-62e8-40a8-8011-353c006f2693",
   "metadata": {},
   "source": [
    "Date_Time Modules"
   ]
  },
  {
   "cell_type": "markdown",
   "id": "0bcc2385-d678-42d5-b942-576e998e40a7",
   "metadata": {},
   "source": [
    "1. Datetime"
   ]
  },
  {
   "cell_type": "code",
   "execution_count": 4,
   "id": "350dd3de-a02a-43e5-8d45-1bd7640b9ca3",
   "metadata": {},
   "outputs": [],
   "source": [
    "import datetime"
   ]
  },
  {
   "cell_type": "code",
   "execution_count": 5,
   "id": "ed892f74-a094-4fd7-94ac-6cbe3653712f",
   "metadata": {},
   "outputs": [
    {
     "data": {
      "text/plain": [
       "['MAXYEAR',\n",
       " 'MINYEAR',\n",
       " 'UTC',\n",
       " '__all__',\n",
       " '__builtins__',\n",
       " '__cached__',\n",
       " '__doc__',\n",
       " '__file__',\n",
       " '__loader__',\n",
       " '__name__',\n",
       " '__package__',\n",
       " '__spec__',\n",
       " 'date',\n",
       " 'datetime',\n",
       " 'datetime_CAPI',\n",
       " 'time',\n",
       " 'timedelta',\n",
       " 'timezone',\n",
       " 'tzinfo']"
      ]
     },
     "execution_count": 5,
     "metadata": {},
     "output_type": "execute_result"
    }
   ],
   "source": [
    "dir(datetime)"
   ]
  },
  {
   "cell_type": "code",
   "execution_count": 7,
   "id": "81be66e2-af5c-467f-8192-49060c8b138b",
   "metadata": {},
   "outputs": [
    {
     "data": {
      "text/plain": [
       "9999"
      ]
     },
     "execution_count": 7,
     "metadata": {},
     "output_type": "execute_result"
    }
   ],
   "source": [
    "datetime.MAXYEAR"
   ]
  },
  {
   "cell_type": "code",
   "execution_count": 8,
   "id": "3bdc08ee-cc69-4507-8344-3f6da87bbf95",
   "metadata": {},
   "outputs": [
    {
     "data": {
      "text/plain": [
       "7974"
      ]
     },
     "execution_count": 8,
     "metadata": {},
     "output_type": "execute_result"
    }
   ],
   "source": [
    "9999 - 2025"
   ]
  },
  {
   "cell_type": "code",
   "execution_count": 26,
   "id": "0caffa98-1041-41aa-a97e-3f369ff2df22",
   "metadata": {},
   "outputs": [],
   "source": [
    "# '2025/07/14'\n",
    "date1 = datetime.date(2025, 8, 14)\n",
    "date2 = datetime.date(2025, 9, 14)"
   ]
  },
  {
   "cell_type": "code",
   "execution_count": 13,
   "id": "58c6a99d-b98f-47f6-b20a-f86a6ac837d8",
   "metadata": {},
   "outputs": [],
   "source": [
    "today = datetime.date.today()"
   ]
  },
  {
   "cell_type": "code",
   "execution_count": 14,
   "id": "9ab283af-edd5-4506-a257-8196b6bf9361",
   "metadata": {},
   "outputs": [
    {
     "data": {
      "text/plain": [
       "datetime.date(2025, 7, 14)"
      ]
     },
     "execution_count": 14,
     "metadata": {},
     "output_type": "execute_result"
    }
   ],
   "source": [
    "today"
   ]
  },
  {
   "cell_type": "code",
   "execution_count": 15,
   "id": "e976f56a-88ba-43fb-8b68-cdaa6b538900",
   "metadata": {},
   "outputs": [
    {
     "name": "stdout",
     "output_type": "stream",
     "text": [
      "2025-07-14\n"
     ]
    }
   ],
   "source": [
    "print(today)"
   ]
  },
  {
   "cell_type": "code",
   "execution_count": 22,
   "id": "685f3265-242e-41aa-bebf-17e9da0cba3c",
   "metadata": {},
   "outputs": [
    {
     "data": {
      "text/plain": [
       "True"
      ]
     },
     "execution_count": 22,
     "metadata": {},
     "output_type": "execute_result"
    }
   ],
   "source": [
    "# Compare Dates\n",
    "\n",
    "date1 >= today"
   ]
  },
  {
   "cell_type": "code",
   "execution_count": 23,
   "id": "efa6c33d-c874-44b9-9985-68215c941c5a",
   "metadata": {},
   "outputs": [
    {
     "data": {
      "text/plain": [
       "datetime.timedelta(days=31)"
      ]
     },
     "execution_count": 23,
     "metadata": {},
     "output_type": "execute_result"
    }
   ],
   "source": [
    "# Arith .operation\n",
    "\n",
    "date1 - today"
   ]
  },
  {
   "cell_type": "code",
   "execution_count": 25,
   "id": "e5a2551b-5c95-430b-9595-f6059d1a1f79",
   "metadata": {},
   "outputs": [
    {
     "data": {
      "text/plain": [
       "datetime.timedelta(days=31)"
      ]
     },
     "execution_count": 25,
     "metadata": {},
     "output_type": "execute_result"
    }
   ],
   "source": [
    "date1 - today"
   ]
  },
  {
   "cell_type": "code",
   "execution_count": 33,
   "id": "2b55d05a-d373-48db-9cc8-b56a6f55b7c2",
   "metadata": {},
   "outputs": [],
   "source": [
    "today_time = datetime.time()"
   ]
  },
  {
   "cell_type": "code",
   "execution_count": 34,
   "id": "36281058-6a16-4ecf-b795-c909d6389878",
   "metadata": {},
   "outputs": [
    {
     "data": {
      "text/plain": [
       "datetime.time(0, 0)"
      ]
     },
     "execution_count": 34,
     "metadata": {},
     "output_type": "execute_result"
    }
   ],
   "source": [
    "today_time"
   ]
  },
  {
   "cell_type": "code",
   "execution_count": 35,
   "id": "640e7c30-7c7d-400e-9122-e494349d7bbc",
   "metadata": {},
   "outputs": [],
   "source": [
    "get_time  = datetime.time(12, 54, 6)"
   ]
  },
  {
   "cell_type": "code",
   "execution_count": 36,
   "id": "9ba8e23f-b2de-4ab3-bd17-be497ab079db",
   "metadata": {},
   "outputs": [
    {
     "data": {
      "text/plain": [
       "datetime.time(12, 54, 6)"
      ]
     },
     "execution_count": 36,
     "metadata": {},
     "output_type": "execute_result"
    }
   ],
   "source": [
    "get_time"
   ]
  },
  {
   "cell_type": "code",
   "execution_count": 40,
   "id": "ebf587d3-1475-4f5a-85e0-fe89a8ed3da4",
   "metadata": {},
   "outputs": [],
   "source": [
    "now = datetime.datetime(2025, 7, 14, 8, 22, 31, 663833)"
   ]
  },
  {
   "cell_type": "code",
   "execution_count": 42,
   "id": "1b5e842f-92f1-4c7f-b04b-3f8b2d50a1b0",
   "metadata": {},
   "outputs": [
    {
     "data": {
      "text/plain": [
       "'25 - 07 - 14'"
      ]
     },
     "execution_count": 42,
     "metadata": {},
     "output_type": "execute_result"
    }
   ],
   "source": [
    "now.strftime(\"%y - %m - %d\")"
   ]
  },
  {
   "cell_type": "code",
   "execution_count": 45,
   "id": "8f41ef80-26f5-4fae-a1ad-631ed55d9480",
   "metadata": {},
   "outputs": [
    {
     "data": {
      "text/plain": [
       "0"
      ]
     },
     "execution_count": 45,
     "metadata": {},
     "output_type": "execute_result"
    }
   ],
   "source": [
    "now.weekday()"
   ]
  },
  {
   "cell_type": "code",
   "execution_count": 46,
   "id": "39e2535a-5f9d-47d8-a312-539281ab9d64",
   "metadata": {},
   "outputs": [
    {
     "data": {
      "text/plain": [
       "22"
      ]
     },
     "execution_count": 46,
     "metadata": {},
     "output_type": "execute_result"
    }
   ],
   "source": [
    "now.minute"
   ]
  },
  {
   "cell_type": "code",
   "execution_count": 47,
   "id": "3b3165e2-4281-49c0-ad67-a4d686e7269c",
   "metadata": {},
   "outputs": [],
   "source": [
    "# Timedelta"
   ]
  },
  {
   "cell_type": "code",
   "execution_count": 49,
   "id": "dc1cab49-517f-48a4-a4cb-3bf701b2ca21",
   "metadata": {},
   "outputs": [
    {
     "data": {
      "text/plain": [
       "datetime.datetime(1998, 5, 25, 0, 0)"
      ]
     },
     "execution_count": 49,
     "metadata": {},
     "output_type": "execute_result"
    }
   ],
   "source": [
    "datetime.datetime(1998, 5, 25, 0, 0)"
   ]
  },
  {
   "cell_type": "code",
   "execution_count": 54,
   "id": "1e337615-f3f3-4e64-9ffd-556df4cd97c2",
   "metadata": {},
   "outputs": [
    {
     "data": {
      "text/plain": [
       "datetime.datetime(2008, 5, 22, 0, 0)"
      ]
     },
     "execution_count": 54,
     "metadata": {},
     "output_type": "execute_result"
    }
   ],
   "source": [
    "year_10 = datetime.timedelta(days = 10 * 365)\n",
    "datetime.datetime(1998, 5, 25, 0, 0) + year_10"
   ]
  },
  {
   "cell_type": "code",
   "execution_count": 55,
   "id": "f960d349-428c-493e-9aa9-4243d1581f4c",
   "metadata": {},
   "outputs": [
    {
     "data": {
      "text/plain": [
       "3650"
      ]
     },
     "execution_count": 55,
     "metadata": {},
     "output_type": "execute_result"
    }
   ],
   "source": [
    "year_10.days"
   ]
  },
  {
   "cell_type": "code",
   "execution_count": 56,
   "id": "d2561377-dc24-42c6-816f-fcf353a3585d",
   "metadata": {},
   "outputs": [
    {
     "data": {
      "text/plain": [
       "315360000.0"
      ]
     },
     "execution_count": 56,
     "metadata": {},
     "output_type": "execute_result"
    }
   ],
   "source": [
    "year_10.total_seconds()"
   ]
  },
  {
   "cell_type": "code",
   "execution_count": 57,
   "id": "3b3df206-6139-4b9e-950c-4dd3783766e7",
   "metadata": {},
   "outputs": [],
   "source": [
    "nst = datetime.timezone(datetime.timedelta(hours = 5, minutes = 45))"
   ]
  },
  {
   "cell_type": "code",
   "execution_count": 58,
   "id": "5a744fe0-ba76-4e83-be51-22b79948a15c",
   "metadata": {},
   "outputs": [
    {
     "data": {
      "text/plain": [
       "datetime.timezone(datetime.timedelta(seconds=20700))"
      ]
     },
     "execution_count": 58,
     "metadata": {},
     "output_type": "execute_result"
    }
   ],
   "source": [
    "nst"
   ]
  },
  {
   "cell_type": "code",
   "execution_count": 59,
   "id": "5864fd98-6e87-4e71-8371-f805c93e952f",
   "metadata": {},
   "outputs": [
    {
     "data": {
      "text/plain": [
       "-13100"
      ]
     },
     "execution_count": 59,
     "metadata": {},
     "output_type": "execute_result"
    }
   ],
   "source": [
    "7600 - 20700"
   ]
  },
  {
   "cell_type": "code",
   "execution_count": null,
   "id": "e40e6c58-abd3-4a68-99d2-c837fa8e182d",
   "metadata": {},
   "outputs": [],
   "source": [
    "UTC+05:45 "
   ]
  },
  {
   "cell_type": "code",
   "execution_count": 3,
   "id": "198cf5e1-9a92-44c2-9161-b6780f678118",
   "metadata": {},
   "outputs": [
    {
     "name": "stdout",
     "output_type": "stream",
     "text": [
      " Car Details \n",
      "--------------------\n",
      "**** Vehicle id = BA 1452 ****\n",
      "**** Brand = toyota ****\n",
      "****  Rental Price / Day = 100 ****\n",
      "**** Number of doors = 6 ****\n",
      "--------------------\n",
      "--------------------\n",
      "Total cost is $3000\n",
      " Bike Details \n",
      "--------------------\n",
      "**** Vehicle id = Pa 1523 ****\n",
      "**** Brand = Yamaha ****\n",
      "****  Rental Price / Day = 50 ****\n",
      "**** Bike Type = scooter ****\n",
      "--------------------\n",
      "--------------------\n",
      "Total cost is $1500\n"
     ]
    }
   ],
   "source": [
    "# Your Solution Here\n",
    "class Vehicle:\n",
    "    def __init__(My,vehicle_id,brand,rental_price):\n",
    "        My.__vehicle_id = vehicle_id\n",
    "        My.__brand = brand\n",
    "        My.__rental_price = rental_price\n",
    "    def calculate_total_rent_cost(My,rental_days):\n",
    "        total_cost = rental_days * My.__rental_price\n",
    "        print(f\"Total cost is ${total_cost}\")\n",
    "    def get_vehicle_id(My):\n",
    "        return My.__vehicle_id\n",
    "    def get_brand(My):\n",
    "        return My.__brand\n",
    "    def get_rental_price(My):\n",
    "        return My.__rental_price\n",
    "        \n",
    "    \n",
    "        \n",
    "class Car(Vehicle):\n",
    "    def __init__(My,vehicle_id,brand,rental_price,number_of_door):\n",
    "        super().__init__(vehicle_id,brand,rental_price)\n",
    "        My.number_of_door = number_of_door\n",
    "    def display_vehicle_details(My):\n",
    "        print(\" Car Details \")\n",
    "        print(\"-\"*20)\n",
    "        print(f\"**** Vehicle id = {Vehicle.get_vehicle_id(My)} ****\")\n",
    "        print(f\"**** Brand = {Vehicle.get_brand(My)} ****\")\n",
    "        print(f\"****  Rental Price / Day = {Vehicle.get_rental_price(My)} ****\")\n",
    "        print(f\"**** Number of doors = {My.number_of_door} ****\")\n",
    "        print(\"-\"*20)\n",
    "        print(\"-\"*20)\n",
    "    def calculate_total_rent_cost(My,days):\n",
    "        Vehicle.calculate_total_rent_cost(My,days)\n",
    "        \n",
    "class Bike(Vehicle):\n",
    "    \n",
    "    def __init__(My,vehicle_id,brand,rental_price,bike_type):\n",
    "        super().__init__(vehicle_id,brand,rental_price)\n",
    "        My.bike_type = bike_type\n",
    "    def display_vehicle_details(My):\n",
    "        \n",
    "        print(\" Bike Details \")\n",
    "        print(\"-\"*20)\n",
    "        print(f\"**** Vehicle id = {Vehicle.get_vehicle_id(My)} ****\")\n",
    "        print(f\"**** Brand = {Vehicle.get_brand(My)} ****\")\n",
    "        print(f\"****  Rental Price / Day = {Vehicle.get_rental_price(My)} ****\")\n",
    "        print(f\"**** Bike Type = {My.bike_type} ****\")\n",
    "        print(\"-\"*20)\n",
    "        print(\"-\"*20)\n",
    "\n",
    "def displaying_details(vehicle):\n",
    "    \n",
    "    vehicle.display_vehicle_details()\n",
    "\n",
    "def calculate_rent_price(vehicle,days):\n",
    "    \n",
    "    vehicle.calculate_total_rent_cost(days)\n",
    "\n",
    "car=Car(\"BA 1452\",\"toyota\",100,6)\n",
    "bike=Bike(\"Pa 1523\",\"Yamaha\",50,\"scooter\")\n",
    "displaying_details(car)\n",
    "calculate_rent_price(car,30)\n",
    "displaying_details(bike)\n",
    "calculate_rent_price(bike,30)"
   ]
  },
  {
   "cell_type": "markdown",
   "id": "cb230a83-9f67-4606-95a9-e675ca8a277e",
   "metadata": {},
   "source": [
    "# Time Module"
   ]
  },
  {
   "cell_type": "code",
   "execution_count": 4,
   "id": "28b0757f-8f26-47d7-bcc1-cf7c1b6f3bc7",
   "metadata": {},
   "outputs": [],
   "source": [
    "import time"
   ]
  },
  {
   "cell_type": "code",
   "execution_count": 7,
   "id": "20ead1b7-c368-4d13-ad6b-84f66ecbcd8e",
   "metadata": {},
   "outputs": [
    {
     "data": {
      "text/plain": [
       "1752544083.8630176"
      ]
     },
     "execution_count": 7,
     "metadata": {},
     "output_type": "execute_result"
    }
   ],
   "source": [
    "time.time() # Current time in seconds"
   ]
  },
  {
   "cell_type": "code",
   "execution_count": 11,
   "id": "204fd8e0-854e-43bf-9d1e-ba3a0a9f9cd5",
   "metadata": {},
   "outputs": [
    {
     "data": {
      "text/plain": [
       "'Tue Jul 15 07:33:24 2025'"
      ]
     },
     "execution_count": 11,
     "metadata": {},
     "output_type": "execute_result"
    }
   ],
   "source": [
    "time.ctime()"
   ]
  },
  {
   "cell_type": "code",
   "execution_count": 5,
   "id": "d58f5c75-3699-4a06-b400-40b6729123fc",
   "metadata": {},
   "outputs": [
    {
     "data": {
      "text/plain": [
       "time.struct_time(tm_year=2025, tm_mon=7, tm_mday=15, tm_hour=1, tm_min=53, tm_sec=33, tm_wday=1, tm_yday=196, tm_isdst=0)"
      ]
     },
     "execution_count": 5,
     "metadata": {},
     "output_type": "execute_result"
    }
   ],
   "source": [
    "# Current UTC time\n",
    "time.gmtime()"
   ]
  },
  {
   "cell_type": "code",
   "execution_count": 7,
   "id": "addfc140-b874-42c8-a6d3-ed48ffffd0ce",
   "metadata": {},
   "outputs": [
    {
     "name": "stdout",
     "output_type": "stream",
     "text": [
      "Loading . . . \n",
      "Completed!\n"
     ]
    }
   ],
   "source": [
    "# Sleep for 55 sec\n",
    "print(\"Loading . . . \")\n",
    "time.sleep(55)\n",
    "print(\"Completed!\")"
   ]
  },
  {
   "cell_type": "code",
   "execution_count": 8,
   "id": "eb4a5c12-fdf0-4d2b-944c-3d3bd1cd6054",
   "metadata": {},
   "outputs": [
    {
     "data": {
      "text/plain": [
       "time.struct_time(tm_year=2025, tm_mon=7, tm_mday=15, tm_hour=7, tm_min=41, tm_sec=3, tm_wday=1, tm_yday=196, tm_isdst=0)"
      ]
     },
     "execution_count": 8,
     "metadata": {},
     "output_type": "execute_result"
    }
   ],
   "source": [
    "time.localtime()"
   ]
  },
  {
   "cell_type": "code",
   "execution_count": 9,
   "id": "d58c9847-3e74-42a7-9542-14d29527dc7d",
   "metadata": {},
   "outputs": [
    {
     "data": {
      "text/plain": [
       "4.015625"
      ]
     },
     "execution_count": 9,
     "metadata": {},
     "output_type": "execute_result"
    }
   ],
   "source": [
    "time.process_time()"
   ]
  },
  {
   "cell_type": "code",
   "execution_count": 10,
   "id": "4999732e-6ee7-4873-b8d2-4032d1df193e",
   "metadata": {},
   "outputs": [
    {
     "data": {
      "text/plain": [
       "'07 - 45 - 49'"
      ]
     },
     "execution_count": 10,
     "metadata": {},
     "output_type": "execute_result"
    }
   ],
   "source": [
    "# Str Repr\n",
    "time.strftime(\"%H - %M - %S\")"
   ]
  },
  {
   "cell_type": "code",
   "execution_count": 19,
   "id": "fa46808a-ad0b-45de-812b-f70fc48a390b",
   "metadata": {},
   "outputs": [
    {
     "name": "stdout",
     "output_type": "stream",
     "text": [
      "Hello World\n"
     ]
    }
   ],
   "source": [
    "start = time.time()\n",
    "\n",
    "print(\"Hello World\")\n",
    "time.sleep(2)\n",
    "\n",
    "end = time.time()"
   ]
  },
  {
   "cell_type": "code",
   "execution_count": 18,
   "id": "63c4f423-bdd2-4217-b3e6-3ea1a39eae7c",
   "metadata": {},
   "outputs": [
    {
     "name": "stdout",
     "output_type": "stream",
     "text": [
      "Total time taken 2.001279592514038\n"
     ]
    }
   ],
   "source": [
    "print(\"Total time taken\", end - start)"
   ]
  },
  {
   "cell_type": "code",
   "execution_count": 21,
   "id": "35e61375-62d6-4e36-8904-f0fdb9ab7783",
   "metadata": {},
   "outputs": [],
   "source": [
    "import math"
   ]
  },
  {
   "cell_type": "code",
   "execution_count": null,
   "id": "7cb1a17d-e77b-4f27-b124-2676a39a7c7c",
   "metadata": {},
   "outputs": [],
   "source": []
  }
 ],
 "metadata": {
  "kernelspec": {
   "display_name": "Python 3 (ipykernel)",
   "language": "python",
   "name": "python3"
  },
  "language_info": {
   "codemirror_mode": {
    "name": "ipython",
    "version": 3
   },
   "file_extension": ".py",
   "mimetype": "text/x-python",
   "name": "python",
   "nbconvert_exporter": "python",
   "pygments_lexer": "ipython3",
   "version": "3.13.5"
  },
  "widgets": {
   "application/vnd.jupyter.widget-state+json": {
    "state": {},
    "version_major": 2,
    "version_minor": 0
   }
  }
 },
 "nbformat": 4,
 "nbformat_minor": 5
}
