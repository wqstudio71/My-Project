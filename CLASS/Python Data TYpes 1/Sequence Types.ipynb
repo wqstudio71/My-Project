{
 "cells": [
  {
   "cell_type": "markdown",
   "id": "0154f16f-df55-42ff-8520-e3851435a331",
   "metadata": {},
   "source": [
    "# Sequence Types"
   ]
  },
  {
   "cell_type": "markdown",
   "id": "3e1a0f5d-9391-488c-9995-9ecc987c8618",
   "metadata": {},
   "source": [
    "1. List"
   ]
  },
  {
   "cell_type": "code",
   "execution_count": 1,
   "id": "b11bf58a-99d2-422e-ae31-7642589f58fd",
   "metadata": {},
   "outputs": [],
   "source": [
    "prime = [1,3,5,7,11,13,17,19,23,29]"
   ]
  },
  {
   "cell_type": "code",
   "execution_count": 2,
   "id": "5c16fb88-7dd7-4d02-b6e6-ae9c8b7ce9b6",
   "metadata": {},
   "outputs": [
    {
     "data": {
      "text/plain": [
       "list"
      ]
     },
     "execution_count": 2,
     "metadata": {},
     "output_type": "execute_result"
    }
   ],
   "source": [
    "type(prime)"
   ]
  },
  {
   "cell_type": "code",
   "execution_count": 3,
   "id": "10b8a008-b1e1-4167-a408-5171a11594e9",
   "metadata": {},
   "outputs": [],
   "source": [
    "z = [\"apple\", 12, \"banana\", \"True\"]"
   ]
  },
  {
   "cell_type": "code",
   "execution_count": 4,
   "id": "733b39c5-a263-42cf-bb37-1931c429d9b2",
   "metadata": {},
   "outputs": [
    {
     "data": {
      "text/plain": [
       "list"
      ]
     },
     "execution_count": 4,
     "metadata": {},
     "output_type": "execute_result"
    }
   ],
   "source": [
    "type(z)"
   ]
  },
  {
   "cell_type": "code",
   "execution_count": 5,
   "id": "36f80f56-6b13-4ba1-9a19-880dabfc7400",
   "metadata": {},
   "outputs": [
    {
     "data": {
      "text/plain": [
       "4"
      ]
     },
     "execution_count": 5,
     "metadata": {},
     "output_type": "execute_result"
    }
   ],
   "source": [
    "len(z)"
   ]
  },
  {
   "cell_type": "code",
   "execution_count": 6,
   "id": "fb460c2c-d565-480b-9069-171eb9b88b30",
   "metadata": {},
   "outputs": [
    {
     "data": {
      "text/plain": [
       "10"
      ]
     },
     "execution_count": 6,
     "metadata": {},
     "output_type": "execute_result"
    }
   ],
   "source": [
    "len(prime)"
   ]
  },
  {
   "cell_type": "markdown",
   "id": "c14e27f9-68a2-4db6-bc27-663edb6579a0",
   "metadata": {},
   "source": [
    "# Accessing List Items"
   ]
  },
  {
   "cell_type": "markdown",
   "id": "7df0afca-640a-4ec6-ad0d-c5518695065b",
   "metadata": {},
   "source": [
    "z[1]"
   ]
  },
  {
   "cell_type": "code",
   "execution_count": 8,
   "id": "10ccfef8-5422-4610-9e7b-457e1ead2ace",
   "metadata": {},
   "outputs": [
    {
     "data": {
      "text/plain": [
       "'banana'"
      ]
     },
     "execution_count": 8,
     "metadata": {},
     "output_type": "execute_result"
    }
   ],
   "source": [
    "z[2]"
   ]
  },
  {
   "cell_type": "code",
   "execution_count": 9,
   "id": "dde8c823-2667-445f-96a5-ccbdeb6052e5",
   "metadata": {},
   "outputs": [
    {
     "data": {
      "text/plain": [
       "['apple', 12]"
      ]
     },
     "execution_count": 9,
     "metadata": {},
     "output_type": "execute_result"
    }
   ],
   "source": [
    "z[0:2]"
   ]
  },
  {
   "cell_type": "markdown",
   "id": "d843e18c-8bc3-47b6-9b26-9a60f7e38dc8",
   "metadata": {},
   "source": [
    "# Slicing Lists"
   ]
  },
  {
   "cell_type": "code",
   "execution_count": 10,
   "id": "9fa23d62-2241-4d7c-94b3-084fd5b0eb9a",
   "metadata": {},
   "outputs": [],
   "source": [
    "prime = [1,3,5,7,11,13,17,19,23,29,31,33]"
   ]
  },
  {
   "cell_type": "code",
   "execution_count": 11,
   "id": "ac469adb-ca0b-472f-8a64-7fe08554896c",
   "metadata": {},
   "outputs": [
    {
     "data": {
      "text/plain": [
       "[5, 11, 17, 23, 31]"
      ]
     },
     "execution_count": 11,
     "metadata": {},
     "output_type": "execute_result"
    }
   ],
   "source": [
    "prime[2::2]"
   ]
  },
  {
   "cell_type": "code",
   "execution_count": 12,
   "id": "14c1f740-bd70-4637-a619-1d5d509f7179",
   "metadata": {},
   "outputs": [
    {
     "data": {
      "text/plain": [
       "[33, 31, 29, 23, 19, 17, 13, 11, 7, 5, 3, 1]"
      ]
     },
     "execution_count": 12,
     "metadata": {},
     "output_type": "execute_result"
    }
   ],
   "source": [
    "prime[::-1]"
   ]
  },
  {
   "cell_type": "markdown",
   "id": "fd005038-f643-41f7-8302-0bd9b09b5535",
   "metadata": {},
   "source": [
    "# Modify List"
   ]
  },
  {
   "cell_type": "code",
   "execution_count": 2,
   "id": "093c72a7-c399-4a29-8eaf-af6eebcacf15",
   "metadata": {},
   "outputs": [],
   "source": [
    "prime = [1,3,5,7,11,13,17,19,23,29,31,33]"
   ]
  },
  {
   "cell_type": "code",
   "execution_count": 3,
   "id": "494636bf-acbc-477e-8c79-5d73f256d14c",
   "metadata": {},
   "outputs": [
    {
     "data": {
      "text/plain": [
       "192"
      ]
     },
     "execution_count": 3,
     "metadata": {},
     "output_type": "execute_result"
    }
   ],
   "source": [
    "sum(prime)"
   ]
  },
  {
   "cell_type": "code",
   "execution_count": 13,
   "id": "449c2219-84c9-48a5-9b3d-7b826a5fb0a1",
   "metadata": {},
   "outputs": [
    {
     "data": {
      "text/plain": [
       "<list_reverseiterator at 0x26cef806410>"
      ]
     },
     "execution_count": 13,
     "metadata": {},
     "output_type": "execute_result"
    }
   ],
   "source": [
    "reversed(prime)"
   ]
  },
  {
   "cell_type": "code",
   "execution_count": 14,
   "id": "b3778468-1d1a-4e73-a38e-f5e60cde6467",
   "metadata": {},
   "outputs": [
    {
     "data": {
      "text/plain": [
       "192"
      ]
     },
     "execution_count": 14,
     "metadata": {},
     "output_type": "execute_result"
    }
   ],
   "source": [
    "sum(prime)"
   ]
  },
  {
   "cell_type": "code",
   "execution_count": 15,
   "id": "5f9c8051-0959-422d-92e9-187ae092294e",
   "metadata": {},
   "outputs": [
    {
     "data": {
      "text/plain": [
       "1"
      ]
     },
     "execution_count": 15,
     "metadata": {},
     "output_type": "execute_result"
    }
   ],
   "source": [
    "min(prime)"
   ]
  },
  {
   "cell_type": "code",
   "execution_count": 16,
   "id": "173d3d4b-f7a7-4ebb-88ff-86c745b36273",
   "metadata": {},
   "outputs": [],
   "source": [
    "z = [\"apple\", 12, \"banana\", \"True\"]"
   ]
  },
  {
   "cell_type": "code",
   "execution_count": 18,
   "id": "0e0dbd80-24f0-4cd7-adba-2628cc52b8ea",
   "metadata": {},
   "outputs": [],
   "source": [
    "z[2] = \"John\""
   ]
  },
  {
   "cell_type": "code",
   "execution_count": 19,
   "id": "eb5c5152-288c-4df0-8051-7c8bf214b123",
   "metadata": {},
   "outputs": [
    {
     "name": "stdout",
     "output_type": "stream",
     "text": [
      "['apple', 12, 'John', 'True']\n"
     ]
    }
   ],
   "source": [
    "print(z)"
   ]
  },
  {
   "cell_type": "code",
   "execution_count": 20,
   "id": "062cb16f-0c7c-4151-9e83-a80a4f78ac4e",
   "metadata": {},
   "outputs": [],
   "source": [
    "z.append(\"Rohit\")"
   ]
  },
  {
   "cell_type": "code",
   "execution_count": 21,
   "id": "d5b67b56-1a90-466c-b0e2-880d9798b82a",
   "metadata": {},
   "outputs": [
    {
     "name": "stdout",
     "output_type": "stream",
     "text": [
      "['apple', 12, 'John', 'True', 'Rohit']\n"
     ]
    }
   ],
   "source": [
    "print(z)"
   ]
  },
  {
   "cell_type": "code",
   "execution_count": 22,
   "id": "da87ee37-17a6-40c5-9212-7f1006f2a09d",
   "metadata": {},
   "outputs": [
    {
     "name": "stdout",
     "output_type": "stream",
     "text": [
      "['apple', 12, 'John', 'True', 'Rohit', 'K', 's', 'h', 'e', 't', 'r', 'i']\n"
     ]
    }
   ],
   "source": [
    "z.extend(\"Kshetri\")\n",
    "print(z)"
   ]
  },
  {
   "cell_type": "code",
   "execution_count": 23,
   "id": "c0e8f4a8-6913-4d4c-a8bd-7a7ce154da0f",
   "metadata": {},
   "outputs": [],
   "source": [
    "z.insert(1, \"Math\")"
   ]
  },
  {
   "cell_type": "code",
   "execution_count": 24,
   "id": "c9331681-3ca4-4cb8-8bb5-12e7f4a5b0f4",
   "metadata": {},
   "outputs": [
    {
     "name": "stdout",
     "output_type": "stream",
     "text": [
      "['apple', 'Math', 12, 'John', 'True', 'Rohit', 'K', 's', 'h', 'e', 't', 'r', 'i']\n"
     ]
    }
   ],
   "source": [
    "print(z)"
   ]
  },
  {
   "cell_type": "code",
   "execution_count": 26,
   "id": "52befff5-a446-4734-883f-62440bb25fbc",
   "metadata": {},
   "outputs": [
    {
     "data": {
      "text/plain": [
       "<function list.pop(index=-1, /)>"
      ]
     },
     "execution_count": 26,
     "metadata": {},
     "output_type": "execute_result"
    }
   ],
   "source": [
    "z.pop"
   ]
  },
  {
   "cell_type": "code",
   "execution_count": 29,
   "id": "426ca829-e1a8-4259-becd-77c2cebf8793",
   "metadata": {},
   "outputs": [],
   "source": [
    "z.remove(\"K\")"
   ]
  },
  {
   "cell_type": "code",
   "execution_count": 30,
   "id": "8c8c34e1-e9fe-44bd-8e0d-056eebdf02ab",
   "metadata": {},
   "outputs": [
    {
     "name": "stdout",
     "output_type": "stream",
     "text": [
      "['apple', 'Math', 12, 'John', 'True', 'Rohit', 's', 'h', 'e', 't', 'r', 'i']\n"
     ]
    }
   ],
   "source": [
    "print(z)"
   ]
  },
  {
   "cell_type": "code",
   "execution_count": 37,
   "id": "29c88216-f3e9-4539-a57a-25d142e6b530",
   "metadata": {},
   "outputs": [
    {
     "data": {
      "text/plain": [
       "'i'"
      ]
     },
     "execution_count": 37,
     "metadata": {},
     "output_type": "execute_result"
    }
   ],
   "source": [
    "z.pop()"
   ]
  },
  {
   "cell_type": "code",
   "execution_count": 38,
   "id": "89a8f43c-310c-472c-a94f-327d2a7297b0",
   "metadata": {},
   "outputs": [
    {
     "name": "stdout",
     "output_type": "stream",
     "text": [
      "['apple', 'Math', 12, 'John', 'True', 'Rohit', 's', 'h', 'e', 't', 'r']\n"
     ]
    }
   ],
   "source": [
    "print(z)"
   ]
  },
  {
   "cell_type": "code",
   "execution_count": 39,
   "id": "a0c18efe-80a6-466a-8011-d842fb6c4a95",
   "metadata": {},
   "outputs": [
    {
     "data": {
      "text/plain": [
       "'r'"
      ]
     },
     "execution_count": 39,
     "metadata": {},
     "output_type": "execute_result"
    }
   ],
   "source": [
    "z.pop()"
   ]
  },
  {
   "cell_type": "code",
   "execution_count": 40,
   "id": "97534ffa-9651-486f-b92b-54e5d39249cf",
   "metadata": {},
   "outputs": [
    {
     "data": {
      "text/plain": [
       "'e'"
      ]
     },
     "execution_count": 40,
     "metadata": {},
     "output_type": "execute_result"
    }
   ],
   "source": [
    "z.pop(-2)"
   ]
  },
  {
   "cell_type": "code",
   "execution_count": 41,
   "id": "99b9df69-929e-425d-9c7d-8280bcec699b",
   "metadata": {},
   "outputs": [
    {
     "data": {
      "text/plain": [
       "'t'"
      ]
     },
     "execution_count": 41,
     "metadata": {},
     "output_type": "execute_result"
    }
   ],
   "source": [
    "z.pop(-1)"
   ]
  },
  {
   "cell_type": "code",
   "execution_count": 42,
   "id": "ac9cfe18-f560-4d27-b66e-aead8a8db0af",
   "metadata": {},
   "outputs": [
    {
     "name": "stdout",
     "output_type": "stream",
     "text": [
      "['apple', 'Math', 12, 'John', 'True', 'Rohit', 's', 'h']\n"
     ]
    }
   ],
   "source": [
    "print(z)"
   ]
  },
  {
   "cell_type": "code",
   "execution_count": 43,
   "id": "eb80a984-2dca-42dd-bd94-e9bb249cc374",
   "metadata": {},
   "outputs": [
    {
     "data": {
      "text/plain": [
       "'h'"
      ]
     },
     "execution_count": 43,
     "metadata": {},
     "output_type": "execute_result"
    }
   ],
   "source": [
    "z.pop()"
   ]
  },
  {
   "cell_type": "code",
   "execution_count": 44,
   "id": "7018d49a-6198-40c7-9469-0660d5094f24",
   "metadata": {},
   "outputs": [
    {
     "data": {
      "text/plain": [
       "'s'"
      ]
     },
     "execution_count": 44,
     "metadata": {},
     "output_type": "execute_result"
    }
   ],
   "source": [
    "z.pop()"
   ]
  },
  {
   "cell_type": "code",
   "execution_count": 45,
   "id": "85f50724-e8ea-45d1-bae3-679d038d3cc2",
   "metadata": {},
   "outputs": [
    {
     "name": "stdout",
     "output_type": "stream",
     "text": [
      "['apple', 'Math', 12, 'John', 'True', 'Rohit']\n"
     ]
    }
   ],
   "source": [
    "print(z)"
   ]
  },
  {
   "cell_type": "code",
   "execution_count": 46,
   "id": "10f02b94-c6a3-45e6-89b0-eed4a46ff62d",
   "metadata": {},
   "outputs": [],
   "source": [
    "z.clear()"
   ]
  },
  {
   "cell_type": "code",
   "execution_count": 47,
   "id": "03e25ed1-5c3a-4eff-8cd8-8cce85002bff",
   "metadata": {},
   "outputs": [
    {
     "name": "stdout",
     "output_type": "stream",
     "text": [
      "[]\n"
     ]
    }
   ],
   "source": [
    "print(z)"
   ]
  },
  {
   "cell_type": "code",
   "execution_count": 48,
   "id": "ffe7c2d9-dc72-4807-bf95-2a08122fb830",
   "metadata": {},
   "outputs": [],
   "source": [
    "name = [\"Rohit\", \"Rohit1\", \"Rohit2\"]"
   ]
  },
  {
   "cell_type": "code",
   "execution_count": 49,
   "id": "94a1b95a-d41c-470d-ae05-e78aa022e3b3",
   "metadata": {},
   "outputs": [],
   "source": [
    "name_new = name"
   ]
  },
  {
   "cell_type": "code",
   "execution_count": 50,
   "id": "156c991a-172b-42af-8f9f-e84a3f4c65d6",
   "metadata": {},
   "outputs": [
    {
     "data": {
      "text/plain": [
       "['Rohit', 'Rohit1', 'Rohit2']"
      ]
     },
     "execution_count": 50,
     "metadata": {},
     "output_type": "execute_result"
    }
   ],
   "source": [
    "name_new"
   ]
  },
  {
   "cell_type": "code",
   "execution_count": 51,
   "id": "394b3666-93a9-46fd-a8b7-162162ce3a8e",
   "metadata": {},
   "outputs": [],
   "source": [
    "name_new.append(\"Rohit3\")"
   ]
  },
  {
   "cell_type": "code",
   "execution_count": 52,
   "id": "5e44c84c-53ca-407b-85eb-563e938f5fc8",
   "metadata": {},
   "outputs": [
    {
     "name": "stdout",
     "output_type": "stream",
     "text": [
      "['Rohit', 'Rohit1', 'Rohit2', 'Rohit3']\n"
     ]
    }
   ],
   "source": [
    "print(name)"
   ]
  },
  {
   "cell_type": "code",
   "execution_count": 53,
   "id": "57ff8ca7-ab17-49b1-86a2-b63d2b259306",
   "metadata": {},
   "outputs": [
    {
     "data": {
      "text/plain": [
       "['Rohit', 'Rohit1', 'Rohit2', 'Rohit3']"
      ]
     },
     "execution_count": 53,
     "metadata": {},
     "output_type": "execute_result"
    }
   ],
   "source": [
    "name_new"
   ]
  },
  {
   "cell_type": "markdown",
   "id": "94a20682-21ec-45b8-a751-1038290e6ade",
   "metadata": {},
   "source": [
    "---"
   ]
  },
  {
   "cell_type": "markdown",
   "id": "9a60ef51-4452-4fe2-a3bb-8f587a9a4403",
   "metadata": {},
   "source": [
    "# List Methods"
   ]
  },
  {
   "cell_type": "code",
   "execution_count": 61,
   "id": "ed20551a-5190-4ef3-9423-2ea073c755ed",
   "metadata": {},
   "outputs": [],
   "source": [
    "mylist = [1,2,3,4,5,6,7,8,9, \"egg\"]"
   ]
  },
  {
   "cell_type": "code",
   "execution_count": 56,
   "id": "e2d15761-d8c5-402c-8c66-af74ec31ce4b",
   "metadata": {},
   "outputs": [
    {
     "data": {
      "text/plain": [
       "[1, 2, 3, 4, 5, 6, 7, 8, 9]"
      ]
     },
     "execution_count": 56,
     "metadata": {},
     "output_type": "execute_result"
    }
   ],
   "source": [
    "mylist"
   ]
  },
  {
   "cell_type": "code",
   "execution_count": 57,
   "id": "811b2a56-9936-416a-abc2-38f65ff9cee4",
   "metadata": {},
   "outputs": [],
   "source": [
    "mylist.sort()"
   ]
  },
  {
   "cell_type": "code",
   "execution_count": 58,
   "id": "940873dc-e102-4665-8e0f-320b1c2b4338",
   "metadata": {},
   "outputs": [
    {
     "data": {
      "text/plain": [
       "[1, 2, 3, 4, 5, 6, 7, 8, 9]"
      ]
     },
     "execution_count": 58,
     "metadata": {},
     "output_type": "execute_result"
    }
   ],
   "source": [
    "mylist"
   ]
  },
  {
   "cell_type": "code",
   "execution_count": 59,
   "id": "039a726f-e69d-4786-bb18-ea68a49dd714",
   "metadata": {},
   "outputs": [],
   "source": [
    "mylist.sort(reverse = True)"
   ]
  },
  {
   "cell_type": "code",
   "execution_count": 60,
   "id": "db4c1967-5a28-4ef4-9dfe-607b6871bca8",
   "metadata": {},
   "outputs": [
    {
     "data": {
      "text/plain": [
       "[9, 8, 7, 6, 5, 4, 3, 2, 1]"
      ]
     },
     "execution_count": 60,
     "metadata": {},
     "output_type": "execute_result"
    }
   ],
   "source": [
    "mylist"
   ]
  },
  {
   "cell_type": "code",
   "execution_count": 62,
   "id": "6e5f9d20-80ff-4604-a8ec-6f8ee89139fb",
   "metadata": {},
   "outputs": [
    {
     "data": {
      "text/plain": [
       "[1, 2, 3, 4, 5, 6, 7, 8, 9, 'egg']"
      ]
     },
     "execution_count": 62,
     "metadata": {},
     "output_type": "execute_result"
    }
   ],
   "source": [
    "mylist"
   ]
  },
  {
   "cell_type": "code",
   "execution_count": 63,
   "id": "fb550eca-04b8-474c-b490-ec524fcd9a10",
   "metadata": {},
   "outputs": [],
   "source": [
    "mylist.reverse()"
   ]
  },
  {
   "cell_type": "code",
   "execution_count": 64,
   "id": "76eaf4dc-02b9-44d7-8be2-79d166cdffbf",
   "metadata": {},
   "outputs": [
    {
     "data": {
      "text/plain": [
       "['egg', 9, 8, 7, 6, 5, 4, 3, 2, 1]"
      ]
     },
     "execution_count": 64,
     "metadata": {},
     "output_type": "execute_result"
    }
   ],
   "source": [
    "mylist"
   ]
  },
  {
   "cell_type": "code",
   "execution_count": 67,
   "id": "04baa8fb-1aa0-44ef-8602-db2358feea7d",
   "metadata": {},
   "outputs": [
    {
     "data": {
      "text/plain": [
       "1"
      ]
     },
     "execution_count": 67,
     "metadata": {},
     "output_type": "execute_result"
    }
   ],
   "source": [
    "mylist.count(\"egg\")"
   ]
  },
  {
   "cell_type": "code",
   "execution_count": 68,
   "id": "98398b78-4976-41c6-b996-fce0003c9075",
   "metadata": {},
   "outputs": [
    {
     "data": {
      "text/plain": [
       "6"
      ]
     },
     "execution_count": 68,
     "metadata": {},
     "output_type": "execute_result"
    }
   ],
   "source": [
    "mylist.index(4)"
   ]
  },
  {
   "cell_type": "markdown",
   "id": "7f9d7786-ed45-4983-a834-6d822039e40e",
   "metadata": {},
   "source": [
    "# Tuple"
   ]
  },
  {
   "cell_type": "code",
   "execution_count": 69,
   "id": "dbe31954-4ad9-4aad-b2f5-161af444a4cd",
   "metadata": {},
   "outputs": [],
   "source": [
    "mytuple = (120, 360)"
   ]
  },
  {
   "cell_type": "code",
   "execution_count": 70,
   "id": "bee9425f-ee28-4ef9-9306-4fc9f22dbea1",
   "metadata": {},
   "outputs": [
    {
     "data": {
      "text/plain": [
       "(120, 360)"
      ]
     },
     "execution_count": 70,
     "metadata": {},
     "output_type": "execute_result"
    }
   ],
   "source": [
    "mytuple"
   ]
  },
  {
   "cell_type": "code",
   "execution_count": 71,
   "id": "dc1d34a8-258d-4fdb-bd5e-62da45993552",
   "metadata": {},
   "outputs": [
    {
     "data": {
      "text/plain": [
       "tuple"
      ]
     },
     "execution_count": 71,
     "metadata": {},
     "output_type": "execute_result"
    }
   ],
   "source": [
    "type(mytuple)"
   ]
  },
  {
   "cell_type": "markdown",
   "id": "eb050e29-817a-46c5-af5c-cada5a29267d",
   "metadata": {},
   "source": [
    "# Accessing Tuple Elements"
   ]
  },
  {
   "cell_type": "code",
   "execution_count": 73,
   "id": "ae65c724-6cb9-45fb-87da-c012b0eefe2a",
   "metadata": {},
   "outputs": [
    {
     "data": {
      "text/plain": [
       "360"
      ]
     },
     "execution_count": 73,
     "metadata": {},
     "output_type": "execute_result"
    }
   ],
   "source": [
    "mytuple[-1]"
   ]
  },
  {
   "cell_type": "code",
   "execution_count": 74,
   "id": "2ce25d45-a758-4c01-a70e-0dd625dc9d78",
   "metadata": {},
   "outputs": [],
   "source": [
    "longtuple = {1,3,5,7,9}"
   ]
  },
  {
   "cell_type": "code",
   "execution_count": 79,
   "id": "cbe95b3f-023a-44bb-a2ef-7b1a69643ef9",
   "metadata": {},
   "outputs": [
    {
     "data": {
      "text/plain": [
       "{1, 3, 5, 7, 9}"
      ]
     },
     "execution_count": 79,
     "metadata": {},
     "output_type": "execute_result"
    }
   ],
   "source": [
    "longtuple"
   ]
  },
  {
   "cell_type": "markdown",
   "id": "3e8d62d5-b6ad-44ec-953c-15950fad2af5",
   "metadata": {},
   "source": [
    "# Modifying Tuples"
   ]
  },
  {
   "cell_type": "code",
   "execution_count": null,
   "id": "0392c01e-9ec3-499b-ac41-978a13f49851",
   "metadata": {},
   "outputs": [],
   "source": []
  }
 ],
 "metadata": {
  "kernelspec": {
   "display_name": "Python 3 (ipykernel)",
   "language": "python",
   "name": "python3"
  },
  "language_info": {
   "codemirror_mode": {
    "name": "ipython",
    "version": 3
   },
   "file_extension": ".py",
   "mimetype": "text/x-python",
   "name": "python",
   "nbconvert_exporter": "python",
   "pygments_lexer": "ipython3",
   "version": "3.13.5"
  }
 },
 "nbformat": 4,
 "nbformat_minor": 5
}
