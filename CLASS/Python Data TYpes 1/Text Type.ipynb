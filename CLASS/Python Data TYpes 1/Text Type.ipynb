{
 "cells": [
  {
   "cell_type": "markdown",
   "id": "2e4eacb0-bdd7-441c-a6a9-c23fd65880aa",
   "metadata": {},
   "source": [
    "# Text Type"
   ]
  },
  {
   "cell_type": "code",
   "execution_count": 1,
   "id": "f91450b8-20c1-4d4d-b111-0c5792d45fbc",
   "metadata": {},
   "outputs": [],
   "source": [
    "name = \"Rohit\""
   ]
  },
  {
   "cell_type": "code",
   "execution_count": 2,
   "id": "4c3eb012-2191-415c-a37d-04bc99522a67",
   "metadata": {},
   "outputs": [
    {
     "data": {
      "text/plain": [
       "str"
      ]
     },
     "execution_count": 2,
     "metadata": {},
     "output_type": "execute_result"
    }
   ],
   "source": [
    "type(name)"
   ]
  },
  {
   "cell_type": "code",
   "execution_count": 3,
   "id": "89006253-0302-432f-9f84-9ffaa22699f2",
   "metadata": {},
   "outputs": [],
   "source": [
    "sent = \"\"\" line1 line2 \"\"\""
   ]
  },
  {
   "cell_type": "code",
   "execution_count": 4,
   "id": "ece149ab-3b0a-4ec3-ae7f-1439e80f05df",
   "metadata": {},
   "outputs": [
    {
     "name": "stdout",
     "output_type": "stream",
     "text": [
      " line1 line2 \n"
     ]
    }
   ],
   "source": [
    "print(sent)"
   ]
  },
  {
   "cell_type": "code",
   "execution_count": 5,
   "id": "717938de-1cb8-4c08-b32c-984c3dba6ef1",
   "metadata": {},
   "outputs": [
    {
     "data": {
      "text/plain": [
       "'22'"
      ]
     },
     "execution_count": 5,
     "metadata": {},
     "output_type": "execute_result"
    }
   ],
   "source": [
    "str(22)"
   ]
  },
  {
   "cell_type": "code",
   "execution_count": 7,
   "id": "6a749ac1-6230-48ab-b974-69c322028efa",
   "metadata": {},
   "outputs": [],
   "source": [
    "name = \"pineapple\""
   ]
  },
  {
   "cell_type": "code",
   "execution_count": 10,
   "id": "e624d40c-920c-4c28-a9c2-4d63af496761",
   "metadata": {},
   "outputs": [
    {
     "data": {
      "text/plain": [
       "9"
      ]
     },
     "execution_count": 10,
     "metadata": {},
     "output_type": "execute_result"
    }
   ],
   "source": [
    "len(name)"
   ]
  },
  {
   "cell_type": "markdown",
   "id": "9752dcd9-a73e-45ef-984c-42096635eb93",
   "metadata": {},
   "source": [
    "# String Methods"
   ]
  },
  {
   "cell_type": "code",
   "execution_count": 11,
   "id": "bfa2b9ce-f605-48cf-b429-5ac8236d4c54",
   "metadata": {},
   "outputs": [],
   "source": [
    "x = \"Welcome\""
   ]
  },
  {
   "cell_type": "code",
   "execution_count": 13,
   "id": "55eef476-558f-44bf-b7fb-931639e6dfaa",
   "metadata": {},
   "outputs": [
    {
     "data": {
      "text/plain": [
       "'welcome'"
      ]
     },
     "execution_count": 13,
     "metadata": {},
     "output_type": "execute_result"
    }
   ],
   "source": [
    "x.lower()"
   ]
  },
  {
   "cell_type": "code",
   "execution_count": 14,
   "id": "7bd4d94e-e2a3-4fff-b0ca-0a4ad9613f89",
   "metadata": {},
   "outputs": [
    {
     "data": {
      "text/plain": [
       "'WELCOME'"
      ]
     },
     "execution_count": 14,
     "metadata": {},
     "output_type": "execute_result"
    }
   ],
   "source": [
    "x.upper()"
   ]
  },
  {
   "cell_type": "code",
   "execution_count": 15,
   "id": "4135f80d-0fb0-4e38-9c15-de61d206c827",
   "metadata": {},
   "outputs": [
    {
     "data": {
      "text/plain": [
       "'Welcome'"
      ]
     },
     "execution_count": 15,
     "metadata": {},
     "output_type": "execute_result"
    }
   ],
   "source": [
    "x.strip()"
   ]
  },
  {
   "cell_type": "code",
   "execution_count": 17,
   "id": "0d1633df-0862-4114-984d-4b0bbf75edd1",
   "metadata": {},
   "outputs": [
    {
     "data": {
      "text/plain": [
       "'Walcoma'"
      ]
     },
     "execution_count": 17,
     "metadata": {},
     "output_type": "execute_result"
    }
   ],
   "source": [
    "x.replace('e', 'a')"
   ]
  },
  {
   "cell_type": "code",
   "execution_count": 18,
   "id": "ddcbe264-f461-4a18-9cf0-d2dd9d789d42",
   "metadata": {},
   "outputs": [
    {
     "data": {
      "text/plain": [
       "['W', 'lcom', '']"
      ]
     },
     "execution_count": 18,
     "metadata": {},
     "output_type": "execute_result"
    }
   ],
   "source": [
    "x.split('e')"
   ]
  },
  {
   "cell_type": "code",
   "execution_count": 19,
   "id": "670453c1-ca9e-4b93-b30e-890f8802293a",
   "metadata": {},
   "outputs": [],
   "source": [
    "email = \"rohit@gmail.com\""
   ]
  },
  {
   "cell_type": "code",
   "execution_count": 20,
   "id": "e1d4719b-3797-495f-9d88-612febb72fb1",
   "metadata": {},
   "outputs": [
    {
     "data": {
      "text/plain": [
       "True"
      ]
     },
     "execution_count": 20,
     "metadata": {},
     "output_type": "execute_result"
    }
   ],
   "source": [
    "email.endswith(\"gmail.com\")"
   ]
  },
  {
   "cell_type": "code",
   "execution_count": 21,
   "id": "1e4913cb-84b4-4944-8dbd-052f727a2b67",
   "metadata": {},
   "outputs": [
    {
     "data": {
      "text/plain": [
       "'haridhakal'"
      ]
     },
     "execution_count": 21,
     "metadata": {},
     "output_type": "execute_result"
    }
   ],
   "source": [
    "\"hari\" + \"dhakal\""
   ]
  },
  {
   "cell_type": "code",
   "execution_count": 22,
   "id": "b0cdcfc9-9826-4ce6-a2a3-c35fb2757e0e",
   "metadata": {},
   "outputs": [
    {
     "data": {
      "text/plain": [
       "'HariHariHariHariHariHariHariHariHariHariHariHariHariHariHariHariHariHariHariHari'"
      ]
     },
     "execution_count": 22,
     "metadata": {},
     "output_type": "execute_result"
    }
   ],
   "source": [
    "\"Hari\" * 20"
   ]
  },
  {
   "cell_type": "markdown",
   "id": "4c9553f0-a0fd-4c0f-948b-812f7037c968",
   "metadata": {},
   "source": [
    "# String Indexing"
   ]
  },
  {
   "cell_type": "code",
   "execution_count": 23,
   "id": "caab4f07-01d1-4855-9a77-176f9c4ab9fe",
   "metadata": {},
   "outputs": [],
   "source": [
    "address = \"Kathmandu\""
   ]
  },
  {
   "cell_type": "code",
   "execution_count": 24,
   "id": "d3b2a2a7-a1e5-48f7-8dec-8e1b0af63dbd",
   "metadata": {},
   "outputs": [
    {
     "data": {
      "text/plain": [
       "'h'"
      ]
     },
     "execution_count": 24,
     "metadata": {},
     "output_type": "execute_result"
    }
   ],
   "source": [
    "address[3]"
   ]
  },
  {
   "cell_type": "code",
   "execution_count": 25,
   "id": "75bdf413-0b59-46f4-8fdd-cd8a065f49ea",
   "metadata": {},
   "outputs": [
    {
     "data": {
      "text/plain": [
       "'t'"
      ]
     },
     "execution_count": 25,
     "metadata": {},
     "output_type": "execute_result"
    }
   ],
   "source": [
    "address[2]"
   ]
  },
  {
   "cell_type": "code",
   "execution_count": 30,
   "id": "8e589f86-fc54-4e8d-96d1-a2638b98d2e4",
   "metadata": {},
   "outputs": [
    {
     "data": {
      "text/plain": [
       "'u'"
      ]
     },
     "execution_count": 30,
     "metadata": {},
     "output_type": "execute_result"
    }
   ],
   "source": [
    "address[-1]"
   ]
  },
  {
   "cell_type": "code",
   "execution_count": 9,
   "id": "68424b33-de11-4048-afca-63dfc0a8e9d3",
   "metadata": {},
   "outputs": [
    {
     "data": {
      "text/plain": [
       "'ah'"
      ]
     },
     "execution_count": 9,
     "metadata": {},
     "output_type": "execute_result"
    }
   ],
   "source": [
    "address = \"Kathmandu\"\n",
    "address[1:5:2]\n"
   ]
  },
  {
   "cell_type": "code",
   "execution_count": 4,
   "id": "35272a8a-0564-429c-84a1-8b6af0f8f9d1",
   "metadata": {},
   "outputs": [
    {
     "data": {
      "text/plain": [
       "'Kat'"
      ]
     },
     "execution_count": 4,
     "metadata": {},
     "output_type": "execute_result"
    }
   ],
   "source": [
    "address[:3]"
   ]
  },
  {
   "cell_type": "code",
   "execution_count": 10,
   "id": "5ce7c1d4-ef37-4198-aa87-4d015cf06fc8",
   "metadata": {},
   "outputs": [
    {
     "data": {
      "text/plain": [
       "'udnamhtaK'"
      ]
     },
     "execution_count": 10,
     "metadata": {},
     "output_type": "execute_result"
    }
   ],
   "source": [
    "address[::-1] # Reverse String"
   ]
  },
  {
   "cell_type": "code",
   "execution_count": 6,
   "id": "342e876d-a954-4f2e-a47d-e0ed77c292c0",
   "metadata": {},
   "outputs": [
    {
     "data": {
      "text/plain": [
       "'Ka'"
      ]
     },
     "execution_count": 6,
     "metadata": {},
     "output_type": "execute_result"
    }
   ],
   "source": [
    "address[:2:]"
   ]
  },
  {
   "cell_type": "code",
   "execution_count": 7,
   "id": "873cdf49-b5dc-4153-848f-e8333d5ebad0",
   "metadata": {},
   "outputs": [
    {
     "data": {
      "text/plain": [
       "'Ktmnu'"
      ]
     },
     "execution_count": 7,
     "metadata": {},
     "output_type": "execute_result"
    }
   ],
   "source": [
    "address[::2]"
   ]
  },
  {
   "cell_type": "code",
   "execution_count": 8,
   "id": "2a0efd8a-93a8-4db0-96f5-d5a616e0cb1b",
   "metadata": {},
   "outputs": [
    {
     "data": {
      "text/plain": [
       "'man'"
      ]
     },
     "execution_count": 8,
     "metadata": {},
     "output_type": "execute_result"
    }
   ],
   "source": [
    "address[-5:-2:]"
   ]
  },
  {
   "cell_type": "code",
   "execution_count": 11,
   "id": "cd37ff4c-4e09-4301-a9a8-f39e354cffc0",
   "metadata": {},
   "outputs": [
    {
     "data": {
      "text/plain": [
       "'kathmandu'"
      ]
     },
     "execution_count": 11,
     "metadata": {},
     "output_type": "execute_result"
    }
   ],
   "source": [
    "address.lower()"
   ]
  },
  {
   "cell_type": "code",
   "execution_count": 12,
   "id": "fbde5505-21de-423b-b82b-fa06a0e61e70",
   "metadata": {},
   "outputs": [
    {
     "data": {
      "text/plain": [
       "'KATHMANDU'"
      ]
     },
     "execution_count": 12,
     "metadata": {},
     "output_type": "execute_result"
    }
   ],
   "source": [
    "address.upper()"
   ]
  },
  {
   "cell_type": "code",
   "execution_count": 15,
   "id": "20156d77-c114-40c1-8cef-1e17fc202abd",
   "metadata": {},
   "outputs": [
    {
     "data": {
      "text/plain": [
       "['K', 'thm', 'ndu']"
      ]
     },
     "execution_count": 15,
     "metadata": {},
     "output_type": "execute_result"
    }
   ],
   "source": [
    "address.split('a')"
   ]
  },
  {
   "cell_type": "markdown",
   "id": "a9fdeb9e-be64-40db-aa1a-aeebbdf32882",
   "metadata": {},
   "source": [
    "# String Formatting"
   ]
  },
  {
   "cell_type": "code",
   "execution_count": 16,
   "id": "61086432-f405-4c5c-b008-d6f284216996",
   "metadata": {},
   "outputs": [],
   "source": [
    "name = \"John\"\n",
    "age = 45"
   ]
  },
  {
   "cell_type": "code",
   "execution_count": 22,
   "id": "2439fb0f-155e-493c-b080-9807ed19a8cf",
   "metadata": {},
   "outputs": [
    {
     "name": "stdout",
     "output_type": "stream",
     "text": [
      "Your name is John and your age is 45 old years old.\n"
     ]
    }
   ],
   "source": [
    "print(\"Your name is %s and your age is %d old years old.\" %(name, age))"
   ]
  },
  {
   "cell_type": "code",
   "execution_count": 23,
   "id": "a2e9059c-a4a8-41be-84ab-2f89cb23df21",
   "metadata": {},
   "outputs": [
    {
     "name": "stdout",
     "output_type": "stream",
     "text": [
      "Your name is John and you are 45 years old.\n"
     ]
    }
   ],
   "source": [
    "print(\"Your name is {} and you are {} years old.\" .format(name, age))"
   ]
  },
  {
   "cell_type": "code",
   "execution_count": 24,
   "id": "254d77b4-f0ce-4de4-a6e8-485eafddac2f",
   "metadata": {},
   "outputs": [
    {
     "name": "stdout",
     "output_type": "stream",
     "text": [
      "Your name is John and you are 45 years old.\n"
     ]
    }
   ],
   "source": [
    "print(f\"Your name is {name} and you are {age} years old.\")"
   ]
  },
  {
   "cell_type": "code",
   "execution_count": null,
   "id": "738da3db-def0-4cd3-bd47-cafaeb2c0cd7",
   "metadata": {},
   "outputs": [],
   "source": []
  }
 ],
 "metadata": {
  "kernelspec": {
   "display_name": "Python 3 (ipykernel)",
   "language": "python",
   "name": "python3"
  },
  "language_info": {
   "codemirror_mode": {
    "name": "ipython",
    "version": 3
   },
   "file_extension": ".py",
   "mimetype": "text/x-python",
   "name": "python",
   "nbconvert_exporter": "python",
   "pygments_lexer": "ipython3",
   "version": "3.13.5"
  }
 },
 "nbformat": 4,
 "nbformat_minor": 5
}
