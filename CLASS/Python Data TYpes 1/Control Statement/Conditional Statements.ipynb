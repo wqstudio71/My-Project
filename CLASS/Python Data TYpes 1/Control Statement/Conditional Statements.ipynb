{
 "cells": [
  {
   "cell_type": "markdown",
   "id": "b1fdcdd6-9ec6-4d7c-8c65-4e3c226e9466",
   "metadata": {},
   "source": [
    "# Conditional Statements\n"
   ]
  },
  {
   "cell_type": "markdown",
   "id": "8d95dbf6-b8a4-4cf7-9c05-05a6fac115d4",
   "metadata": {},
   "source": [
    "1. IF condition"
   ]
  },
  {
   "cell_type": "code",
   "execution_count": 7,
   "id": "9b26ca74-2f3b-416d-abb0-e82e2af1cbbf",
   "metadata": {},
   "outputs": [
    {
     "name": "stdout",
     "output_type": "stream",
     "text": [
      "Inside if block\n",
      "55 is greater than 0\n",
      "Outside if block\n"
     ]
    }
   ],
   "source": [
    "x = 55\n",
    "\n",
    "if x > 0:\n",
    "    print(\"Inside if block\")\n",
    "    print(f\"{x} is greater than 0\")\n",
    "\n",
    "print(\"Outside if block\")\n"
   ]
  },
  {
   "cell_type": "code",
   "execution_count": 2,
   "id": "fea2fb2c-1ee1-4e48-a8a2-b4fd8b263f9f",
   "metadata": {},
   "outputs": [
    {
     "data": {
      "text/plain": [
       "True"
      ]
     },
     "execution_count": 2,
     "metadata": {},
     "output_type": "execute_result"
    }
   ],
   "source": [
    "x != 0"
   ]
  },
  {
   "cell_type": "code",
   "execution_count": 8,
   "id": "fe889076-e1c9-4eaf-a6db-c1c0807ac2dd",
   "metadata": {},
   "outputs": [],
   "source": [
    "x = 5\n",
    "y = -5\n",
    "\n",
    "if x > 0 and y > 0:\n",
    "    print(\"Both are positive\")"
   ]
  },
  {
   "cell_type": "markdown",
   "id": "20010649-b710-4cf3-9747-ae2de8d8e40f",
   "metadata": {},
   "source": [
    "2. ELSE condition"
   ]
  },
  {
   "cell_type": "code",
   "execution_count": 10,
   "id": "5f133aeb-d9b2-438f-9929-ef0f2eb3ecf5",
   "metadata": {},
   "outputs": [
    {
     "name": "stdout",
     "output_type": "stream",
     "text": [
      "Odd\n"
     ]
    }
   ],
   "source": [
    "x = 33\n",
    "\n",
    "if x%2 == 0:\n",
    "    print(\"even\")\n",
    "\n",
    "else:\n",
    "   print(\"Odd\")\n"
   ]
  },
  {
   "cell_type": "code",
   "execution_count": 19,
   "id": "e05badb8-fbca-4085-94d5-7f99656d531f",
   "metadata": {},
   "outputs": [
    {
     "name": "stdout",
     "output_type": "stream",
     "text": [
      "Palindrome\n"
     ]
    }
   ],
   "source": [
    "name = \"madam\"\n",
    "\n",
    "if name == name[::-1]:\n",
    "    print(\"Palindrome\")\n",
    "\n",
    "else:\n",
    "    print(\"Not Palindrome\")"
   ]
  },
  {
   "cell_type": "markdown",
   "id": "9303fad9-1e86-47bd-b6d4-e70279f7f69c",
   "metadata": {},
   "source": [
    "3. ELIF conditions"
   ]
  },
  {
   "cell_type": "code",
   "execution_count": 24,
   "id": "bf443c19-d4d8-4385-9281-dcd6a774ff80",
   "metadata": {},
   "outputs": [
    {
     "name": "stdout",
     "output_type": "stream",
     "text": [
      "x is negative\n"
     ]
    }
   ],
   "source": [
    "x = -1\n",
    "\n",
    "if x < 0:\n",
    "    print(\"x is negative\")\n",
    "\n",
    "elif x == 0:\n",
    "     print(\"x is zero\")\n",
    "\n",
    "else:\n",
    "    print(\"x is positive\")"
   ]
  },
  {
   "cell_type": "code",
   "execution_count": 32,
   "id": "151fb13d-5c1c-4f44-a8d4-58ebac817c90",
   "metadata": {},
   "outputs": [
    {
     "name": "stdout",
     "output_type": "stream",
     "text": [
      "Grade B\n"
     ]
    }
   ],
   "source": [
    "number = 67\n",
    "\n",
    "if number > 80 and number <= 100:\n",
    "    print(\"Grade A\")\n",
    "\n",
    "elif number > 60 and number <= 80:\n",
    "    print(\"Grade B\")\n",
    "\n",
    "elif number > 40 and number <= 60:\n",
    "    print(\"Grade C\")\n",
    "\n",
    "else:\n",
    "    print(\"Grade D\")"
   ]
  },
  {
   "cell_type": "markdown",
   "id": "bd34f2a2-3c08-426d-bcf3-4815844e3450",
   "metadata": {},
   "source": [
    "# Nested IF...ELSE"
   ]
  },
  {
   "cell_type": "code",
   "execution_count": 38,
   "id": "ef08bbaf-e086-4358-ba8b-94189b5599ef",
   "metadata": {},
   "outputs": [
    {
     "name": "stdout",
     "output_type": "stream",
     "text": [
      "Grade A\n"
     ]
    }
   ],
   "source": [
    "grade = 98\n",
    "if grade > 0:\n",
    "    \n",
    "    if grade > 80:\n",
    "        print(\"Grade A\")\n",
    "\n",
    "    else:\n",
    "        print(\"Grade Other\")\n",
    "\n",
    "else:\n",
    "    print(\"Enter positive number\")"
   ]
  },
  {
   "cell_type": "code",
   "execution_count": null,
   "id": "85f68188-ed8a-4b7d-be45-fb0447b89a35",
   "metadata": {},
   "outputs": [],
   "source": []
  },
  {
   "cell_type": "code",
   "execution_count": null,
   "id": "42de7974-9cb4-4538-b8be-28d745e5239a",
   "metadata": {},
   "outputs": [],
   "source": []
  }
 ],
 "metadata": {
  "kernelspec": {
   "display_name": "Python 3 (ipykernel)",
   "language": "python",
   "name": "python3"
  },
  "language_info": {
   "codemirror_mode": {
    "name": "ipython",
    "version": 3
   },
   "file_extension": ".py",
   "mimetype": "text/x-python",
   "name": "python",
   "nbconvert_exporter": "python",
   "pygments_lexer": "ipython3",
   "version": "3.13.5"
  }
 },
 "nbformat": 4,
 "nbformat_minor": 5
}
