{
 "cells": [
  {
   "cell_type": "markdown",
   "id": "34a97736-2b26-43e7-a2a7-713d1e914f84",
   "metadata": {},
   "source": [
    "# Comprehensions"
   ]
  },
  {
   "cell_type": "code",
   "execution_count": 1,
   "id": "c83fcdc8-e862-4d5d-89f7-2ce31a8cc31b",
   "metadata": {},
   "outputs": [],
   "source": [
    "# List Comprehensions"
   ]
  },
  {
   "cell_type": "code",
   "execution_count": 2,
   "id": "7ae253a8-0cfd-4ca5-90a5-9d6bd5d268e8",
   "metadata": {},
   "outputs": [
    {
     "name": "stdout",
     "output_type": "stream",
     "text": [
      "[1, 4, 9, 16, 25, 36, 49, 64, 81]\n"
     ]
    }
   ],
   "source": [
    "squared = []\n",
    "for num in range (1,10) :\n",
    "    squared.append(num ** 2)\n",
    "\n",
    "print(squared)"
   ]
  },
  {
   "cell_type": "code",
   "execution_count": 4,
   "id": "d7aaae1b-8c24-4868-bd20-061304c7ff37",
   "metadata": {},
   "outputs": [
    {
     "name": "stdout",
     "output_type": "stream",
     "text": [
      "[1, 4, 9, 16, 25, 36, 49, 64, 81]\n"
     ]
    }
   ],
   "source": [
    "squared = [num **2 for num in range(1,10)]\n",
    "print(squared)"
   ]
  },
  {
   "cell_type": "code",
   "execution_count": 2,
   "id": "539bbe14-1ae2-4393-883b-b16bf1ac2345",
   "metadata": {},
   "outputs": [
    {
     "name": "stdout",
     "output_type": "stream",
     "text": [
      "[2, 4, 6, 8]\n"
     ]
    }
   ],
   "source": [
    "even = [num for num in range(1,10) if num %2 == 0]\n",
    "print(even)"
   ]
  },
  {
   "cell_type": "code",
   "execution_count": 3,
   "id": "0d2e78ee-35cf-4e5b-ae9b-969f7a85d0c7",
   "metadata": {},
   "outputs": [
    {
     "name": "stdout",
     "output_type": "stream",
     "text": [
      "[1, 3, 5, 7, 9]\n"
     ]
    }
   ],
   "source": [
    "odd = [num for num in range(1,10) if num %2 != 0]\n",
    "print(odd)"
   ]
  },
  {
   "cell_type": "code",
   "execution_count": 4,
   "id": "d7abd80d-9d49-4435-9260-36f941784fd1",
   "metadata": {},
   "outputs": [
    {
     "name": "stdout",
     "output_type": "stream",
     "text": [
      "[1, 9, 25, 49, 81]\n"
     ]
    }
   ],
   "source": [
    "odd = [num **2 for num in range(1,10) if num %2 != 0]\n",
    "print(odd)"
   ]
  },
  {
   "cell_type": "code",
   "execution_count": 6,
   "id": "7ce717ca-23c8-4c33-8fcc-a73688a629cb",
   "metadata": {},
   "outputs": [
    {
     "name": "stdout",
     "output_type": "stream",
     "text": [
      "[1, 4, 3, 16, 5, 36, 7, 64, 9]\n"
     ]
    }
   ],
   "source": [
    "result = [num **2 if num %2 == 0 else num for num in range(1,10)]\n",
    "print(result)"
   ]
  },
  {
   "cell_type": "code",
   "execution_count": 10,
   "id": "b389bdb9-6ef2-4c9f-8587-caf2e5eff115",
   "metadata": {},
   "outputs": [
    {
     "name": "stdout",
     "output_type": "stream",
     "text": [
      "[('red', 'apple'), ('red', 'banana'), ('red', 'mango'), ('tasty', 'apple'), ('tasty', 'banana'), ('tasty', 'mango'), ('big', 'apple'), ('big', 'banana'), ('big', 'mango')]\n"
     ]
    }
   ],
   "source": [
    "adjective = [\"red\", \"tasty\", \"big\"]\n",
    "fruits = [\"apple\", \"banana\", \"mango\"]\n",
    "\n",
    "pair = [(a,f) for a in adjective for f in fruits]\n",
    "print(pair)"
   ]
  },
  {
   "cell_type": "code",
   "execution_count": 13,
   "id": "ae6f9ba6-c0a4-455b-83b7-896f6e4ea2cb",
   "metadata": {},
   "outputs": [
    {
     "name": "stdout",
     "output_type": "stream",
     "text": [
      "A single training set that has already been processed is usually split into several types of datasets in machine learning which is needed to check how well the training of the model went\n"
     ]
    }
   ],
   "source": [
    "# Count number of letters for each words in following sentence.\n",
    "sent = \"A single training set that has already been processed is usually split into several types of datasets in machine learning which is needed to check how well the training of the model went\"\n",
    "print(sent)"
   ]
  },
  {
   "cell_type": "code",
   "execution_count": 14,
   "id": "ba3fda6e-a0d3-4a73-b0cf-3a5059f76196",
   "metadata": {},
   "outputs": [
    {
     "data": {
      "text/plain": [
       "186"
      ]
     },
     "execution_count": 14,
     "metadata": {},
     "output_type": "execute_result"
    }
   ],
   "source": [
    "len(sent)"
   ]
  },
  {
   "cell_type": "code",
   "execution_count": 16,
   "id": "a0bdf4e3-c1be-4878-b67f-e230006eb106",
   "metadata": {},
   "outputs": [
    {
     "data": {
      "text/plain": [
       "['A',\n",
       " 'single',\n",
       " 'training',\n",
       " 'set',\n",
       " 'that',\n",
       " 'has',\n",
       " 'already',\n",
       " 'been',\n",
       " 'processed',\n",
       " 'is',\n",
       " 'usually',\n",
       " 'split',\n",
       " 'into',\n",
       " 'several',\n",
       " 'types',\n",
       " 'of',\n",
       " 'datasets',\n",
       " 'in',\n",
       " 'machine',\n",
       " 'learning',\n",
       " 'which',\n",
       " 'is',\n",
       " 'needed',\n",
       " 'to',\n",
       " 'check',\n",
       " 'how',\n",
       " 'well',\n",
       " 'the',\n",
       " 'training',\n",
       " 'of',\n",
       " 'the',\n",
       " 'model',\n",
       " 'went']"
      ]
     },
     "execution_count": 16,
     "metadata": {},
     "output_type": "execute_result"
    }
   ],
   "source": [
    "sent.split()"
   ]
  },
  {
   "cell_type": "code",
   "execution_count": 17,
   "id": "db12950d-81df-4e1d-a044-e2e6ed06dc1d",
   "metadata": {},
   "outputs": [
    {
     "data": {
      "text/plain": [
       "186"
      ]
     },
     "execution_count": 17,
     "metadata": {},
     "output_type": "execute_result"
    }
   ],
   "source": [
    "len(sent)"
   ]
  },
  {
   "cell_type": "code",
   "execution_count": 21,
   "id": "f8e41bf6-5a44-4f47-83a8-ca15175b8499",
   "metadata": {},
   "outputs": [
    {
     "name": "stdout",
     "output_type": "stream",
     "text": [
      "A: 1\n",
      "single: 6\n",
      "training: 8\n",
      "set: 3\n",
      "that: 4\n",
      "has: 3\n",
      "already: 7\n",
      "been: 4\n",
      "processed: 9\n",
      "is: 2\n",
      "usually: 7\n",
      "split: 5\n",
      "into: 4\n",
      "several: 7\n",
      "types: 5\n",
      "of: 2\n",
      "datasets: 8\n",
      "in: 2\n",
      "machine: 7\n",
      "learning: 8\n",
      "which: 5\n",
      "needed: 6\n",
      "to: 2\n",
      "check: 5\n",
      "how: 3\n",
      "well: 4\n",
      "the: 3\n",
      "model: 5\n",
      "went: 4\n"
     ]
    }
   ],
   "source": [
    "sent = \"A single training set that has already been processed is usually split into several types of datasets in machine learning which is needed to check how well the training of the model went\"\n",
    "\n",
    "word = sent.split()\n",
    "\n",
    "word_length = {word: len(word) for word in words}\n",
    "\n",
    "for word, length in word_lengths.items():\n",
    "    print(f\"{word}: {length}\")\n"
   ]
  },
  {
   "cell_type": "code",
   "execution_count": 1,
   "id": "d286dfa5-e6b1-45be-a65c-7af9382b1781",
   "metadata": {},
   "outputs": [],
   "source": [
    "# Dictionary Comprehension"
   ]
  },
  {
   "cell_type": "code",
   "execution_count": 5,
   "id": "59944f45-34c1-47e7-9d8e-d50eb1a134de",
   "metadata": {},
   "outputs": [
    {
     "name": "stdout",
     "output_type": "stream",
     "text": [
      "{1: 1, 2: 4, 3: 9, 4: 16}\n"
     ]
    }
   ],
   "source": [
    "sqr_dict = {}\n",
    "\n",
    "for num in range(1,5):\n",
    "    sqr_dict[num] = num**2\n",
    "\n",
    "print(sqr_dict)"
   ]
  },
  {
   "cell_type": "code",
   "execution_count": 6,
   "id": "1fb39e17-fb12-48b1-9ab5-6bf897dbf3d7",
   "metadata": {},
   "outputs": [],
   "source": [
    "# Dict Comprehension"
   ]
  },
  {
   "cell_type": "code",
   "execution_count": 10,
   "id": "d2aae7f2-f2e9-4e4c-9c7f-48f29d07c15a",
   "metadata": {},
   "outputs": [
    {
     "name": "stdout",
     "output_type": "stream",
     "text": [
      "{2: 4, 4: 16, 6: 36, 8: 64}\n"
     ]
    }
   ],
   "source": [
    "sqr_dict = {num :num**2 for num in range(1,10) if num % 2 == 0}\n",
    "print(sqr_dict)"
   ]
  },
  {
   "cell_type": "code",
   "execution_count": 13,
   "id": "ac1730f2-e16b-4b32-b69f-9ca261cd6afb",
   "metadata": {},
   "outputs": [
    {
     "name": "stdout",
     "output_type": "stream",
     "text": [
      "{'single': 6, 'training': 8, 'already': 7, 'processed': 9, 'usually': 7, 'several': 7, 'datasets': 8, 'machine': 7, 'learning': 8, 'needed': 6}\n"
     ]
    }
   ],
   "source": [
    "sent = \"A single training set that has already been processed is usually split into several types of datasets in machine learning which is needed to check how well the training of the model went\"\n",
    "word_length = {word: len(word) for word in sent.split() if len(word) > 5}\n",
    "\n",
    "print(word_length)"
   ]
  },
  {
   "cell_type": "code",
   "execution_count": 14,
   "id": "35ba0520-036a-4b86-905a-af1fbdbaed72",
   "metadata": {},
   "outputs": [],
   "source": [
    "# Set Comprehension"
   ]
  },
  {
   "cell_type": "code",
   "execution_count": 1,
   "id": "73d8c8b1-1119-4693-9438-3de632349c20",
   "metadata": {},
   "outputs": [],
   "source": [
    "sq_odd = {num**2 for num in range(1,20) if num % 2 != 0}"
   ]
  },
  {
   "cell_type": "code",
   "execution_count": 2,
   "id": "44badcc2-5b03-4d47-a760-959b4cfd16fc",
   "metadata": {},
   "outputs": [
    {
     "name": "stdout",
     "output_type": "stream",
     "text": [
      "{1, 121, 225, 289, 9, 169, 361, 81, 49, 25}\n"
     ]
    }
   ],
   "source": [
    "print(sq_odd)"
   ]
  },
  {
   "cell_type": "code",
   "execution_count": 6,
   "id": "9df83f15-6b21-46a3-b3fa-5e5d01338496",
   "metadata": {},
   "outputs": [
    {
     "data": {
      "text/plain": [
       "['aa', 'ab', 'ac', 'ba', 'bb', 'bc', 'ca', 'cb', 'cc']"
      ]
     },
     "execution_count": 6,
     "metadata": {},
     "output_type": "execute_result"
    }
   ],
   "source": [
    "letter = [\"a\", \"b\", \"c\"]\n",
    "pair = [let1 + let2 for let1 in letter for let2 in letter]\n",
    "pair"
   ]
  },
  {
   "cell_type": "code",
   "execution_count": 9,
   "id": "6140b0e8-faa6-48ef-90db-87bdeeee3322",
   "metadata": {},
   "outputs": [
    {
     "name": "stdout",
     "output_type": "stream",
     "text": [
      "{'I', 'A', 'O', 'E'}\n"
     ]
    }
   ],
   "source": [
    "text = \"Set comprehensions can be nested\"\n",
    "    \n",
    "vowel = {char.upper() for char in text if char.lower() in 'aeiou'}\n",
    "\n",
    "print(vowel)\n"
   ]
  },
  {
   "cell_type": "code",
   "execution_count": 11,
   "id": "23dda5e7-02e6-4e4e-8fc4-b7855ea1891d",
   "metadata": {},
   "outputs": [
    {
     "name": "stdout",
     "output_type": "stream",
     "text": [
      "{'D', 'C', 'R', 'H', ' ', 'S', 'P', 'M', 'B', 'N', 'T'}\n"
     ]
    }
   ],
   "source": [
    "text = \"Set comprehensions can be nested\"\n",
    "    \n",
    "vowel = {char.upper() for char in text if char.lower() not in 'aeiou'}\n",
    "\n",
    "print(vowel)\n"
   ]
  },
  {
   "cell_type": "code",
   "execution_count": null,
   "id": "aa21dfd4-2626-48b6-8c1a-1f407d416e1e",
   "metadata": {},
   "outputs": [],
   "source": []
  }
 ],
 "metadata": {
  "kernelspec": {
   "display_name": "Python 3 (ipykernel)",
   "language": "python",
   "name": "python3"
  },
  "language_info": {
   "codemirror_mode": {
    "name": "ipython",
    "version": 3
   },
   "file_extension": ".py",
   "mimetype": "text/x-python",
   "name": "python",
   "nbconvert_exporter": "python",
   "pygments_lexer": "ipython3",
   "version": "3.13.5"
  }
 },
 "nbformat": 4,
 "nbformat_minor": 5
}
