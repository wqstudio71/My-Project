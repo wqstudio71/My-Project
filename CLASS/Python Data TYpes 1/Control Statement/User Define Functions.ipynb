{
 "cells": [
  {
   "cell_type": "markdown",
   "id": "6d2cdb09-9827-450b-adb5-f7a4a7b805b6",
   "metadata": {},
   "source": [
    "# User Define Functions"
   ]
  },
  {
   "cell_type": "markdown",
   "id": "8bc4f0f1-29e5-4b6b-bffb-83bc6160ac6b",
   "metadata": {},
   "source": [
    "def function_name(para1, para2.....):\n",
    "    return output"
   ]
  },
  {
   "cell_type": "code",
   "execution_count": 2,
   "id": "c70c8896-d03c-4490-924d-e119fdc4a71c",
   "metadata": {},
   "outputs": [],
   "source": [
    "def sum_of_list(inp_list):\n",
    "    result = 0\n",
    "\n",
    "    for x in inp_list:\n",
    "        result += x\n",
    "\n",
    "    return result"
   ]
  },
  {
   "cell_type": "code",
   "execution_count": 3,
   "id": "77aa1cd8-4a02-466e-81a7-1f7470ccdccf",
   "metadata": {},
   "outputs": [
    {
     "data": {
      "text/plain": [
       "12"
      ]
     },
     "execution_count": 3,
     "metadata": {},
     "output_type": "execute_result"
    }
   ],
   "source": [
    "sum_of_list([2,4,6])"
   ]
  },
  {
   "cell_type": "code",
   "execution_count": 4,
   "id": "b0d66c69-5ff2-45f2-8473-7208de3f9c0e",
   "metadata": {},
   "outputs": [],
   "source": [
    "def greet(name, greetings = \"Good Morning\"):\n",
    "    return f\"{greetings}, {name}\""
   ]
  },
  {
   "cell_type": "code",
   "execution_count": 6,
   "id": "f63c9417-2246-4aab-80f3-0c424753f1b3",
   "metadata": {},
   "outputs": [
    {
     "data": {
      "text/plain": [
       "'Evening, Rohit'"
      ]
     },
     "execution_count": 6,
     "metadata": {},
     "output_type": "execute_result"
    }
   ],
   "source": [
    "greet(\"Rohit\", \"Evening\")"
   ]
  },
  {
   "cell_type": "code",
   "execution_count": 7,
   "id": "1608206a-7bc1-4cc9-8c69-d316b1494a2f",
   "metadata": {},
   "outputs": [],
   "source": [
    "def print_args(*args):\n",
    "    print(\"Positional Args\")\n",
    "\n",
    "    for arg in args:\n",
    "        print(arg)"
   ]
  },
  {
   "cell_type": "code",
   "execution_count": 8,
   "id": "bae7fb61-915b-4483-8c2a-da55b1787537",
   "metadata": {},
   "outputs": [
    {
     "name": "stdout",
     "output_type": "stream",
     "text": [
      "Positional Args\n",
      "1\n",
      "2\n",
      "3\n",
      "4\n",
      "[5, 6]\n",
      "Ram\n"
     ]
    }
   ],
   "source": [
    "print_args(1,2,3,4,[5,6], \"Ram\")"
   ]
  },
  {
   "cell_type": "code",
   "execution_count": 9,
   "id": "c7ae8bfb-6d6a-4e95-9626-c27aec944de6",
   "metadata": {},
   "outputs": [],
   "source": [
    "def calculate_area(l,b,h):\n",
    "    return l*b*h"
   ]
  },
  {
   "cell_type": "code",
   "execution_count": 11,
   "id": "336129aa-8bdb-4041-952f-417533fff4cf",
   "metadata": {},
   "outputs": [
    {
     "data": {
      "text/plain": [
       "120"
      ]
     },
     "execution_count": 11,
     "metadata": {},
     "output_type": "execute_result"
    }
   ],
   "source": [
    "calculate_area(4,5,6)"
   ]
  },
  {
   "cell_type": "markdown",
   "id": "c139f618-2c9d-4bb6-b570-4467f0f69b2f",
   "metadata": {},
   "source": [
    "# KeyWord Arguments"
   ]
  },
  {
   "cell_type": "code",
   "execution_count": 15,
   "id": "f0d57eb5-c2ea-477c-ba0e-c51a767fa501",
   "metadata": {},
   "outputs": [],
   "source": [
    "def print_kargs(**kwargs):\n",
    "    print(\"Keywords Args\")\n",
    "    print(kwargs)\n",
    "    length = kwargs.get('length')"
   ]
  },
  {
   "cell_type": "code",
   "execution_count": 16,
   "id": "fc14f23e-b8dd-4e86-87f4-405f6b82f878",
   "metadata": {},
   "outputs": [
    {
     "name": "stdout",
     "output_type": "stream",
     "text": [
      "Keywords Args\n",
      "{'length': 4, 'breath': 5}\n"
     ]
    }
   ],
   "source": [
    "print_kargs(length = 4, breath = 5)"
   ]
  },
  {
   "cell_type": "code",
   "execution_count": 17,
   "id": "e4952f27-7121-42b8-a604-60b42d537293",
   "metadata": {},
   "outputs": [],
   "source": [
    "def print_arguments(*args, **kwargs):\n",
    "    pass"
   ]
  },
  {
   "cell_type": "code",
   "execution_count": 18,
   "id": "fd91c98f-56a9-4b6d-8e6d-34c666cf869b",
   "metadata": {},
   "outputs": [],
   "source": [
    "# Always put keyword arguments before positional arguments"
   ]
  },
  {
   "cell_type": "code",
   "execution_count": 20,
   "id": "95b2c51f-6fe8-4e3b-901b-bc955de35c4b",
   "metadata": {},
   "outputs": [],
   "source": [
    "def print_arguments(*args, **kwargs):\n",
    "    print(\"Positional\")\n",
    "    print(args)\n",
    "    print(\"-\"*50)\n",
    "    print(\"Keywords\")\n",
    "    print(kwargs)"
   ]
  },
  {
   "cell_type": "code",
   "execution_count": 21,
   "id": "e78bf81f-1420-4d7c-a411-41df883cefee",
   "metadata": {},
   "outputs": [
    {
     "name": "stdout",
     "output_type": "stream",
     "text": [
      "Positional\n",
      "('Ram', 1, True)\n",
      "--------------------------------------------------\n",
      "Keywords\n",
      "{'score': [1, 4, 6], 'greet': 'Hello'}\n"
     ]
    }
   ],
   "source": [
    "print_arguments(\"Ram\", 1, True, score = [1,4,6], greet = \"Hello\")"
   ]
  },
  {
   "cell_type": "markdown",
   "id": "d5cd15e2-dd2a-4088-ad71-0f4cdc4f7cc0",
   "metadata": {},
   "source": [
    "# Documentation in Function"
   ]
  },
  {
   "cell_type": "code",
   "execution_count": 30,
   "id": "9932baab-20d3-495f-b388-7699574c65e3",
   "metadata": {},
   "outputs": [],
   "source": [
    "def square(n:int) -> int:\n",
    "    \"\"\" Give square of a number \"\"\"\n",
    "    return n**2"
   ]
  },
  {
   "cell_type": "code",
   "execution_count": 31,
   "id": "bc811ea9-5063-4f58-9867-ddc8ceec2efa",
   "metadata": {},
   "outputs": [
    {
     "data": {
      "text/plain": [
       "49"
      ]
     },
     "execution_count": 31,
     "metadata": {},
     "output_type": "execute_result"
    }
   ],
   "source": [
    "square(7)"
   ]
  },
  {
   "cell_type": "code",
   "execution_count": null,
   "id": "e01a0172-d621-4ab0-af29-93c6371f7e4b",
   "metadata": {},
   "outputs": [],
   "source": []
  }
 ],
 "metadata": {
  "kernelspec": {
   "display_name": "Python 3 (ipykernel)",
   "language": "python",
   "name": "python3"
  },
  "language_info": {
   "codemirror_mode": {
    "name": "ipython",
    "version": 3
   },
   "file_extension": ".py",
   "mimetype": "text/x-python",
   "name": "python",
   "nbconvert_exporter": "python",
   "pygments_lexer": "ipython3",
   "version": "3.13.5"
  },
  "widgets": {
   "application/vnd.jupyter.widget-state+json": {
    "state": {},
    "version_major": 2,
    "version_minor": 0
   }
  }
 },
 "nbformat": 4,
 "nbformat_minor": 5
}
