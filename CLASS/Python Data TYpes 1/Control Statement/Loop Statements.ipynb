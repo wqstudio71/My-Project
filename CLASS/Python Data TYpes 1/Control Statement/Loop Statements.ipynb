{
 "cells": [
  {
   "cell_type": "markdown",
   "id": "5777f6ab-56c5-47c1-bcfa-0806ff376aa3",
   "metadata": {},
   "source": [
    "# Loop Statements"
   ]
  },
  {
   "cell_type": "markdown",
   "id": "06bca0bf-1f9a-4538-881b-36eca686fa2c",
   "metadata": {},
   "source": [
    "1. For Loop"
   ]
  },
  {
   "cell_type": "code",
   "execution_count": 1,
   "id": "46f3bd59-4c7d-46ad-9795-b20a2dbae25d",
   "metadata": {},
   "outputs": [],
   "source": [
    "fruits = [\"apple\", \"banana\", \"cherry\"] "
   ]
  },
  {
   "cell_type": "code",
   "execution_count": 3,
   "id": "51ba0d18-3114-4c2e-b60e-c7683ba2205b",
   "metadata": {},
   "outputs": [
    {
     "name": "stdout",
     "output_type": "stream",
     "text": [
      "Fruit = apple\n",
      "Fruit = banana\n",
      "Fruit = cherry\n",
      "Completed\n"
     ]
    }
   ],
   "source": [
    "for i in fruits:\n",
    "    print(f\"Fruit = {i}\")\n",
    "\n",
    "print(\"Completed\")"
   ]
  },
  {
   "cell_type": "code",
   "execution_count": 5,
   "id": "703b1735-ff1b-4187-ae25-9a76faac88b6",
   "metadata": {},
   "outputs": [
    {
     "name": "stdout",
     "output_type": "stream",
     "text": [
      "2\n",
      "2\n",
      "/\n",
      "7\n"
     ]
    }
   ],
   "source": [
    "for ch in \"22/7\":\n",
    "    print(ch)"
   ]
  },
  {
   "cell_type": "markdown",
   "id": "7de8ca7d-8dcb-400d-9a8d-b92362a75343",
   "metadata": {},
   "source": [
    "2. Range"
   ]
  },
  {
   "cell_type": "code",
   "execution_count": 6,
   "id": "7275c7bd-7903-435a-acba-b354fb9b566c",
   "metadata": {},
   "outputs": [
    {
     "data": {
      "text/plain": [
       "[10, 15, 20, 25, 30, 35, 40, 45, 50, 55, 60, 65, 70, 75, 80, 85, 90, 95]"
      ]
     },
     "execution_count": 6,
     "metadata": {},
     "output_type": "execute_result"
    }
   ],
   "source": [
    "list(range(10,100,5))"
   ]
  },
  {
   "cell_type": "code",
   "execution_count": 9,
   "id": "fd3994f8-276a-4989-8574-6a2a640c7ea8",
   "metadata": {},
   "outputs": [
    {
     "name": "stdout",
     "output_type": "stream",
     "text": [
      "0\n",
      "1\n",
      "2\n",
      "3\n",
      "4\n",
      "5\n",
      "6\n",
      "7\n",
      "8\n",
      "9\n"
     ]
    }
   ],
   "source": [
    "for i in range(10):\n",
    "    print(i)"
   ]
  },
  {
   "cell_type": "code",
   "execution_count": 24,
   "id": "92e5cc9b-e30e-43a1-9521-e63f23a567e2",
   "metadata": {},
   "outputs": [
    {
     "name": "stdout",
     "output_type": "stream",
     "text": [
      "*****\n",
      "****\n",
      "***\n",
      "**\n",
      "*\n"
     ]
    }
   ],
   "source": [
    "for i in range(5,0,-1):\n",
    "    print(\"*\" * i)"
   ]
  },
  {
   "cell_type": "markdown",
   "id": "fc7daf61-e25e-4e8c-9f23-371c47b86c29",
   "metadata": {},
   "source": [
    "# Nested For Loops"
   ]
  },
  {
   "cell_type": "code",
   "execution_count": 28,
   "id": "0c0e4e0c-b9f6-495f-ba0d-6fd43fb358b0",
   "metadata": {},
   "outputs": [
    {
     "name": "stdout",
     "output_type": "stream",
     "text": [
      "red apple\n",
      "red banana\n",
      "red cherry\n",
      "big apple\n",
      "big banana\n",
      "big cherry\n",
      "tasty apple\n",
      "tasty banana\n",
      "tasty cherry\n"
     ]
    }
   ],
   "source": [
    "adj = [\"red\", \"big\", \"tasty\"]\n",
    "fruits = [\"apple\", \"banana\", \"cherry\"]\n",
    "\n",
    "\n",
    "for a in adj:\n",
    "    for f in fruits:\n",
    "        print(a,f)"
   ]
  },
  {
   "cell_type": "markdown",
   "id": "60c11885-4559-4159-9ac0-5f10d5e32c64",
   "metadata": {},
   "source": [
    "# Multiple Args In For Loop"
   ]
  },
  {
   "cell_type": "code",
   "execution_count": 1,
   "id": "37d635e5-e28c-4a10-be81-4db36f874258",
   "metadata": {},
   "outputs": [
    {
     "data": {
      "text/plain": [
       "dict_items([('name', 'Vince'), ('age', 30), ('gender', 'Male')])"
      ]
     },
     "execution_count": 1,
     "metadata": {},
     "output_type": "execute_result"
    }
   ],
   "source": [
    "person = {\n",
    "    \"name\" : \"Vince\",\n",
    "    \"age\" : 30,\n",
    "    \"gender\" : \"Male\"\n",
    "}\n",
    "\n",
    "person_list = person.items()\n",
    "person_list"
   ]
  },
  {
   "cell_type": "code",
   "execution_count": 2,
   "id": "4a72f3bf-9c0a-48b3-8923-d41e0d94e862",
   "metadata": {},
   "outputs": [
    {
     "name": "stdout",
     "output_type": "stream",
     "text": [
      "('name', 'Vince')\n",
      "('age', 30)\n",
      "('gender', 'Male')\n"
     ]
    }
   ],
   "source": [
    "for each in person_list:\n",
    "    print(each)"
   ]
  },
  {
   "cell_type": "code",
   "execution_count": 4,
   "id": "a43376b4-1e6d-4679-8ef2-fb3bf94535e4",
   "metadata": {},
   "outputs": [
    {
     "name": "stdout",
     "output_type": "stream",
     "text": [
      "Key : (key) = (value)\n",
      "Key : (key) = (value)\n",
      "Key : (key) = (value)\n"
     ]
    }
   ],
   "source": [
    "for (key, value) in person_list:\n",
    "    print(f\"Key : (key) = (value)\")"
   ]
  },
  {
   "cell_type": "code",
   "execution_count": 5,
   "id": "1910a289-882d-4e10-ad59-5a0042fc1ac1",
   "metadata": {},
   "outputs": [
    {
     "name": "stdout",
     "output_type": "stream",
     "text": [
      "[[1, 2, 3], [4, 5, 6], [2, 3, 4]]\n"
     ]
    }
   ],
   "source": [
    "coord = [ [1,2,3], [4,5,6], [2,3,4]]\n",
    "print(coord)"
   ]
  },
  {
   "cell_type": "code",
   "execution_count": 11,
   "id": "760d44f5-d61d-4db7-826d-5dab685ca820",
   "metadata": {},
   "outputs": [
    {
     "name": "stdout",
     "output_type": "stream",
     "text": [
      "1 2 3\n",
      "4 5 6\n",
      "2 3 4\n"
     ]
    }
   ],
   "source": [
    "for (x, y, z) in coord:\n",
    "    print(x, y, z)"
   ]
  },
  {
   "cell_type": "markdown",
   "id": "25a2de17-ce58-4743-a2ec-4c1996646b28",
   "metadata": {},
   "source": [
    "# Multiplication Table of 5"
   ]
  },
  {
   "cell_type": "code",
   "execution_count": 25,
   "id": "f886357d-59cb-4202-aa75-cd9bc98f79a8",
   "metadata": {},
   "outputs": [
    {
     "name": "stdin",
     "output_type": "stream",
     "text": [
      "Enter any number  2\n"
     ]
    },
    {
     "name": "stdout",
     "output_type": "stream",
     "text": [
      "2 * 1 = 2 \n",
      "2 * 2 = 4 \n",
      "2 * 3 = 6 \n",
      "2 * 4 = 8 \n",
      "2 * 5 = 10 \n",
      "2 * 6 = 12 \n",
      "2 * 7 = 14 \n",
      "2 * 8 = 16 \n",
      "2 * 9 = 18 \n",
      "2 * 10 = 20 \n"
     ]
    }
   ],
   "source": [
    "num= int(input(\"Enter any number \"))\n",
    "\n",
    "for i in range(1,11,1):\n",
    "    print(f\"{num} * {i} = {i*num} \")"
   ]
  },
  {
   "cell_type": "markdown",
   "id": "13f81bc4-6667-46c3-901c-a4f5e97581c0",
   "metadata": {},
   "source": [
    "# Separate odd and even number"
   ]
  },
  {
   "cell_type": "code",
   "execution_count": 28,
   "id": "28c3e5a0-3cc8-43d7-84a5-254eff771ec9",
   "metadata": {},
   "outputs": [],
   "source": [
    "numbers = [2,5,3,6,7,33,5,8,68,0,12,4,6,66,9,101,55,32,89] "
   ]
  },
  {
   "cell_type": "code",
   "execution_count": 41,
   "id": "804b1fcd-4109-4428-ae28-17c0914c071f",
   "metadata": {},
   "outputs": [
    {
     "name": "stdout",
     "output_type": "stream",
     "text": [
      "Even numbers are [2, 6, 8, 68, 0, 12, 4, 6, 66, 32]\n",
      "Odd numbers are [5, 3, 7, 33, 5, 9, 101, 55, 89]\n"
     ]
    }
   ],
   "source": [
    "odd = []\n",
    "even = []\n",
    "for i in numbers:\n",
    "    if i % 2 == 0:\n",
    "        even.append(i)\n",
    "    else:\n",
    "        odd.append(i)\n",
    "\n",
    "print(\"Even numbers are\", even)\n",
    "print(\"Odd numbers are\", odd)\n"
   ]
  },
  {
   "cell_type": "code",
   "execution_count": null,
   "id": "3f60d99b-cd41-4bcf-8384-ee43faffeb5b",
   "metadata": {},
   "outputs": [],
   "source": []
  }
 ],
 "metadata": {
  "kernelspec": {
   "display_name": "Python 3 (ipykernel)",
   "language": "python",
   "name": "python3"
  },
  "language_info": {
   "codemirror_mode": {
    "name": "ipython",
    "version": 3
   },
   "file_extension": ".py",
   "mimetype": "text/x-python",
   "name": "python",
   "nbconvert_exporter": "python",
   "pygments_lexer": "ipython3",
   "version": "3.13.5"
  }
 },
 "nbformat": 4,
 "nbformat_minor": 5
}
