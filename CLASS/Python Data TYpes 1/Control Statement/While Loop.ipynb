{
 "cells": [
  {
   "cell_type": "markdown",
   "id": "b31ca9db-5b46-422b-862d-1fc939ef6a2a",
   "metadata": {},
   "source": [
    "# While Loop"
   ]
  },
  {
   "cell_type": "code",
   "execution_count": 1,
   "id": "deb50531-a8cd-4284-8e5a-94e1d5b5a672",
   "metadata": {},
   "outputs": [],
   "source": [
    "# while condition:\n",
    "# do something"
   ]
  },
  {
   "cell_type": "code",
   "execution_count": 1,
   "id": "815ab541-3f01-475c-a7b6-ac8d6018aff4",
   "metadata": {},
   "outputs": [
    {
     "name": "stdout",
     "output_type": "stream",
     "text": [
      "0\n",
      "1\n",
      "2\n",
      "3\n",
      "4\n"
     ]
    }
   ],
   "source": [
    "i = 0\n",
    "\n",
    "while i < 5:\n",
    "    print(i)\n",
    "    i += 1"
   ]
  },
  {
   "cell_type": "markdown",
   "id": "5e3ef93b-7c88-47bb-877d-949be551bfe1",
   "metadata": {},
   "source": [
    "# Break statements for both FOR and WHILE loop"
   ]
  },
  {
   "cell_type": "code",
   "execution_count": 5,
   "id": "3e0388a3-95c1-40f5-886f-9f4a69df45eb",
   "metadata": {},
   "outputs": [
    {
     "name": "stdout",
     "output_type": "stream",
     "text": [
      "0\n",
      "1\n",
      "2\n",
      "3\n",
      "4\n"
     ]
    }
   ],
   "source": [
    "i = 0\n",
    "\n",
    "while i < 10:\n",
    "    print(i)\n",
    "    i += 1\n",
    "\n",
    "    if i == 5:\n",
    "        break"
   ]
  },
  {
   "cell_type": "code",
   "execution_count": 6,
   "id": "e421faed-3c0b-490a-8201-568629e31003",
   "metadata": {},
   "outputs": [
    {
     "name": "stdout",
     "output_type": "stream",
     "text": [
      "0\n",
      "1\n",
      "2\n",
      "3\n",
      "4\n",
      "5\n"
     ]
    }
   ],
   "source": [
    "for i in range(10):\n",
    "    print(i)\n",
    "    if i==5:\n",
    "        break"
   ]
  },
  {
   "cell_type": "markdown",
   "id": "994a70c9-9f1e-4eeb-a275-fcd77a8c2f2b",
   "metadata": {},
   "source": [
    "# Continue Statement\n"
   ]
  },
  {
   "cell_type": "code",
   "execution_count": 7,
   "id": "4be59d0e-dae9-4d8b-b3e6-2dc7a4e4bf04",
   "metadata": {},
   "outputs": [],
   "source": [
    "# It can also be used in FOR and WHILE loop"
   ]
  },
  {
   "cell_type": "code",
   "execution_count": 12,
   "id": "6f668288-cf78-4b73-8e6a-593e85fd69ca",
   "metadata": {},
   "outputs": [
    {
     "name": "stdout",
     "output_type": "stream",
     "text": [
      "Salmon\n"
     ]
    }
   ],
   "source": [
    "name = [\"Salmon\", \"Jesus\", \"John\"]\n",
    "\n",
    "for name in name:\n",
    "    if name == \"Jesus\":\n",
    "        break\n",
    "    print(name)"
   ]
  },
  {
   "cell_type": "code",
   "execution_count": 13,
   "id": "1b93f629-66d0-4953-9f33-a58dec0d558f",
   "metadata": {},
   "outputs": [],
   "source": [
    "# Write a program to calculate the sum of first n  natural number."
   ]
  },
  {
   "cell_type": "code",
   "execution_count": 24,
   "id": "5587cbf3-18fa-456d-a744-886299c71037",
   "metadata": {},
   "outputs": [
    {
     "name": "stdin",
     "output_type": "stream",
     "text": [
      "Enter a number  4\n"
     ]
    },
    {
     "name": "stdout",
     "output_type": "stream",
     "text": [
      "Product of first 4 natural numbers is 24\n"
     ]
    }
   ],
   "source": [
    "number= int(input(\"Enter a number \"))\n",
    "\n",
    "product= 1\n",
    "i = 1 \n",
    "while i <= number:\n",
    "    product*=i\n",
    "    i+= 1\n",
    "\n",
    "print(f\"Product of first {number} natural numbers is {product}\")\n",
    "    "
   ]
  },
  {
   "cell_type": "code",
   "execution_count": null,
   "id": "6a3ab275-97c2-421e-9d49-ea5ad605dfc9",
   "metadata": {},
   "outputs": [],
   "source": []
  }
 ],
 "metadata": {
  "kernelspec": {
   "display_name": "Python 3 (ipykernel)",
   "language": "python",
   "name": "python3"
  },
  "language_info": {
   "codemirror_mode": {
    "name": "ipython",
    "version": 3
   },
   "file_extension": ".py",
   "mimetype": "text/x-python",
   "name": "python",
   "nbconvert_exporter": "python",
   "pygments_lexer": "ipython3",
   "version": "3.13.5"
  }
 },
 "nbformat": 4,
 "nbformat_minor": 5
}
