{
 "cells": [
  {
   "cell_type": "markdown",
   "id": "fd029c6b-84b7-4e41-a779-9255a04a52ba",
   "metadata": {},
   "source": [
    "# Lambda Expressions"
   ]
  },
  {
   "cell_type": "code",
   "execution_count": 1,
   "id": "32bb4049-7d1f-4674-b9a1-33fa30dc2e57",
   "metadata": {},
   "outputs": [
    {
     "data": {
      "text/plain": [
       "9"
      ]
     },
     "execution_count": 1,
     "metadata": {},
     "output_type": "execute_result"
    }
   ],
   "source": [
    "def add(x,y):\n",
    "    return(x+y)\n",
    "add(4,5)"
   ]
  },
  {
   "cell_type": "code",
   "execution_count": 2,
   "id": "fc929636-1610-4948-a770-306aee91c83b",
   "metadata": {},
   "outputs": [],
   "source": [
    "add_lambda = lambda x,y:x+y"
   ]
  },
  {
   "cell_type": "code",
   "execution_count": 3,
   "id": "3f946577-01fa-4986-a3f3-fa794aa44238",
   "metadata": {},
   "outputs": [
    {
     "data": {
      "text/plain": [
       "function"
      ]
     },
     "execution_count": 3,
     "metadata": {},
     "output_type": "execute_result"
    }
   ],
   "source": [
    "type(add_lambda)"
   ]
  },
  {
   "cell_type": "code",
   "execution_count": 4,
   "id": "8152db4a-3912-405f-8731-d361cdeff6bc",
   "metadata": {},
   "outputs": [
    {
     "data": {
      "text/plain": [
       "9"
      ]
     },
     "execution_count": 4,
     "metadata": {},
     "output_type": "execute_result"
    }
   ],
   "source": [
    "add_lambda(4,5)"
   ]
  },
  {
   "cell_type": "code",
   "execution_count": 6,
   "id": "ba60d8a0-6acb-41b9-a4a1-55239197c033",
   "metadata": {},
   "outputs": [],
   "source": [
    "area = lambda a,b,c : \"2ab + 2bc + 2ca\""
   ]
  },
  {
   "cell_type": "code",
   "execution_count": 7,
   "id": "ab8cfe91-4180-4407-9841-8c94a86aa307",
   "metadata": {},
   "outputs": [
    {
     "data": {
      "text/plain": [
       "function"
      ]
     },
     "execution_count": 7,
     "metadata": {},
     "output_type": "execute_result"
    }
   ],
   "source": [
    "type(area)"
   ]
  },
  {
   "cell_type": "code",
   "execution_count": 19,
   "id": "a96428e3-2023-420e-a590-0e9b7c0b48ea",
   "metadata": {},
   "outputs": [
    {
     "name": "stdin",
     "output_type": "stream",
     "text": [
      "Enter length:  5\n",
      "Enter breadth:  4\n",
      "Enter height:  3\n"
     ]
    },
    {
     "name": "stdout",
     "output_type": "stream",
     "text": [
      "Area of the cuboid is: 94\n"
     ]
    }
   ],
   "source": [
    "\n",
    "l = int(input(\"Enter length: \"))\n",
    "b = int(input(\"Enter breadth: \"))\n",
    "h = int(input(\"Enter height: \"))\n",
    "\n",
    "area = lambda l, b, h: 2 * (l * b + b * h + l * h)\n",
    "\n",
    "print(\"Area of the cuboid is:\", area(l, b, h))\n"
   ]
  },
  {
   "cell_type": "markdown",
   "id": "26a15cd7-59cf-4876-a720-adf3cb7a687b",
   "metadata": {},
   "source": [
    "# Map Functions"
   ]
  },
  {
   "cell_type": "code",
   "execution_count": 20,
   "id": "b7eb4822-7f9e-4e48-9570-535c6aa994e7",
   "metadata": {},
   "outputs": [],
   "source": [
    "prices = [45, 120, 200, 75, 150]"
   ]
  },
  {
   "cell_type": "code",
   "execution_count": 37,
   "id": "4ae578a8-79e6-4be9-ab21-c2707a9e6d56",
   "metadata": {},
   "outputs": [
    {
     "name": "stdout",
     "output_type": "stream",
     "text": [
      "[45, 108.0, 180.0, 75, 135.0]\n"
     ]
    }
   ],
   "source": [
    "prices = [45, 120, 200, 75, 150]\n",
    "\n",
    "def get_discount(price):\n",
    "    if price > 100:\n",
    "        return price * 0.9 \n",
    "    return price\n",
    "\n",
    "discount_prices = list(map(get_discount, prices))\n",
    "print(discount_prices)\n"
   ]
  },
  {
   "cell_type": "code",
   "execution_count": 38,
   "id": "51fc7575-daa8-40ef-a2b2-910a0fb9984b",
   "metadata": {},
   "outputs": [],
   "source": [
    "large_obj = range(1, 1000000)\n",
    "result_value = []"
   ]
  },
  {
   "cell_type": "code",
   "execution_count": 41,
   "id": "621df708-252f-4491-956f-fe0f1f288b63",
   "metadata": {},
   "outputs": [
    {
     "name": "stdout",
     "output_type": "stream",
     "text": [
      "CPU times: total: 0 ns\n",
      "Wall time: 16.2 μs\n"
     ]
    }
   ],
   "source": [
    "%time\n",
    "\n",
    "for i in large_obj:\n",
    "    result_value.append(get_discount)"
   ]
  },
  {
   "cell_type": "code",
   "execution_count": null,
   "id": "b756aa16-723b-47fa-a859-60b747fdf488",
   "metadata": {},
   "outputs": [],
   "source": []
  }
 ],
 "metadata": {
  "kernelspec": {
   "display_name": "Python 3 (ipykernel)",
   "language": "python",
   "name": "python3"
  },
  "language_info": {
   "codemirror_mode": {
    "name": "ipython",
    "version": 3
   },
   "file_extension": ".py",
   "mimetype": "text/x-python",
   "name": "python",
   "nbconvert_exporter": "python",
   "pygments_lexer": "ipython3",
   "version": "3.13.5"
  },
  "widgets": {
   "application/vnd.jupyter.widget-state+json": {
    "state": {},
    "version_major": 2,
    "version_minor": 0
   }
  }
 },
 "nbformat": 4,
 "nbformat_minor": 5
}
