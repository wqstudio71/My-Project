{
 "cells": [
  {
   "cell_type": "markdown",
   "id": "aa7e2490-f1ce-41c3-a6e4-926cf1119648",
   "metadata": {},
   "source": [
    "# Functions In Python"
   ]
  },
  {
   "cell_type": "code",
   "execution_count": 9,
   "id": "175f11c5-5d07-4f74-9bcd-1633c086540a",
   "metadata": {},
   "outputs": [],
   "source": [
    "def calculate_sum (num1, num2, num3):\n",
    "    result = num1 + num2 + num3\n",
    "    return result"
   ]
  },
  {
   "cell_type": "code",
   "execution_count": 15,
   "id": "dedf2e7f-b187-4456-aaf2-124503ab32c8",
   "metadata": {},
   "outputs": [],
   "source": [
    "value = calculate_sum(4,6,2)"
   ]
  },
  {
   "cell_type": "code",
   "execution_count": 16,
   "id": "ade9e07d-6847-4adc-949d-70f37c705b50",
   "metadata": {},
   "outputs": [
    {
     "data": {
      "text/plain": [
       "12"
      ]
     },
     "execution_count": 16,
     "metadata": {},
     "output_type": "execute_result"
    }
   ],
   "source": [
    "value"
   ]
  },
  {
   "cell_type": "code",
   "execution_count": null,
   "id": "90a98e54-41dd-495c-a162-9f884383b971",
   "metadata": {},
   "outputs": [],
   "source": []
  }
 ],
 "metadata": {
  "kernelspec": {
   "display_name": "Python 3 (ipykernel)",
   "language": "python",
   "name": "python3"
  },
  "language_info": {
   "codemirror_mode": {
    "name": "ipython",
    "version": 3
   },
   "file_extension": ".py",
   "mimetype": "text/x-python",
   "name": "python",
   "nbconvert_exporter": "python",
   "pygments_lexer": "ipython3",
   "version": "3.13.5"
  }
 },
 "nbformat": 4,
 "nbformat_minor": 5
}
