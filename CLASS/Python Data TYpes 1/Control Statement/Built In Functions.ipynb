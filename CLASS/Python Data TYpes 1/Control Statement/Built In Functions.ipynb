{
 "cells": [
  {
   "cell_type": "markdown",
   "id": "fe3eefaf-7154-417c-9466-aae2fd3ef62f",
   "metadata": {},
   "source": [
    "# Built In Functions"
   ]
  },
  {
   "cell_type": "markdown",
   "id": "06b9774d-0f17-49d8-8b39-530cf30bf44a",
   "metadata": {},
   "source": [
    "print()"
   ]
  },
  {
   "cell_type": "code",
   "execution_count": 6,
   "id": "b29cd4ee-476a-40b4-a39d-eb9e0bc208c6",
   "metadata": {},
   "outputs": [
    {
     "name": "stdout",
     "output_type": "stream",
     "text": [
      "45\n"
     ]
    }
   ],
   "source": [
    "print(4,5, sep = \"\")"
   ]
  },
  {
   "cell_type": "code",
   "execution_count": 9,
   "id": "40e0cfcd-d687-4038-97bd-eb68e229419c",
   "metadata": {},
   "outputs": [
    {
     "name": "stdout",
     "output_type": "stream",
     "text": [
      "Hello\n",
      "World!"
     ]
    }
   ],
   "source": [
    "print(\"Hello\", \"World\", sep = \"\\n\", end = \"!\")"
   ]
  },
  {
   "cell_type": "markdown",
   "id": "fc27911e-3b2e-4fa5-bfd4-67c5954ef141",
   "metadata": {},
   "source": [
    "input()"
   ]
  },
  {
   "cell_type": "code",
   "execution_count": 11,
   "id": "57f13c98-0b81-47c2-aaf9-4715531a29ef",
   "metadata": {},
   "outputs": [
    {
     "name": "stdin",
     "output_type": "stream",
     "text": [
      "What is your name ? Rohit Kshetri\n"
     ]
    }
   ],
   "source": [
    "name = input(\"What is your name ?\")"
   ]
  },
  {
   "cell_type": "code",
   "execution_count": 12,
   "id": "b7e77d79-85c3-4dbd-ac9a-06fbc9c18688",
   "metadata": {},
   "outputs": [
    {
     "data": {
      "text/plain": [
       "'Rohit Kshetri'"
      ]
     },
     "execution_count": 12,
     "metadata": {},
     "output_type": "execute_result"
    }
   ],
   "source": [
    "name"
   ]
  },
  {
   "cell_type": "code",
   "execution_count": 13,
   "id": "39745bae-e640-4438-82be-b552a006d420",
   "metadata": {},
   "outputs": [
    {
     "name": "stdin",
     "output_type": "stream",
     "text": [
      "Age 18\n"
     ]
    }
   ],
   "source": [
    "age = int(input(\"Age\"))"
   ]
  },
  {
   "cell_type": "code",
   "execution_count": 15,
   "id": "fdc320cd-dbf3-440a-beab-c5ab6bf37838",
   "metadata": {},
   "outputs": [
    {
     "data": {
      "text/plain": [
       "18"
      ]
     },
     "execution_count": 15,
     "metadata": {},
     "output_type": "execute_result"
    }
   ],
   "source": [
    "age"
   ]
  },
  {
   "cell_type": "markdown",
   "id": "f395e27e-167a-45ec-a288-c6996656bd33",
   "metadata": {},
   "source": [
    "type()"
   ]
  },
  {
   "cell_type": "code",
   "execution_count": 17,
   "id": "8fe248ea-e1df-4e43-845c-9da8b091aa65",
   "metadata": {},
   "outputs": [
    {
     "data": {
      "text/plain": [
       "int"
      ]
     },
     "execution_count": 17,
     "metadata": {},
     "output_type": "execute_result"
    }
   ],
   "source": [
    "type(1)"
   ]
  },
  {
   "cell_type": "code",
   "execution_count": 18,
   "id": "39d11dfe-0602-4638-ba8e-22c2110a3b08",
   "metadata": {},
   "outputs": [
    {
     "data": {
      "text/plain": [
       "dict"
      ]
     },
     "execution_count": 18,
     "metadata": {},
     "output_type": "execute_result"
    }
   ],
   "source": [
    "type({})"
   ]
  },
  {
   "cell_type": "code",
   "execution_count": 19,
   "id": "26fdcf0f-29fa-4412-a6d9-8ee77f72e91d",
   "metadata": {},
   "outputs": [
    {
     "data": {
      "text/plain": [
       "bool"
      ]
     },
     "execution_count": 19,
     "metadata": {},
     "output_type": "execute_result"
    }
   ],
   "source": [
    "type(4==2)"
   ]
  },
  {
   "cell_type": "code",
   "execution_count": 21,
   "id": "e215521b-3ec8-4052-af57-d79596188e69",
   "metadata": {},
   "outputs": [
    {
     "data": {
      "text/plain": [
       "builtin_function_or_method"
      ]
     },
     "execution_count": 21,
     "metadata": {},
     "output_type": "execute_result"
    }
   ],
   "source": [
    "type(sum)"
   ]
  },
  {
   "cell_type": "markdown",
   "id": "f6b41aba-42ba-41ef-8652-ef5cee4f2ee4",
   "metadata": {},
   "source": [
    "len()"
   ]
  },
  {
   "cell_type": "code",
   "execution_count": 23,
   "id": "b5ada426-6b28-48f9-962c-48dba949c9ab",
   "metadata": {},
   "outputs": [
    {
     "data": {
      "text/plain": [
       "5"
      ]
     },
     "execution_count": 23,
     "metadata": {},
     "output_type": "execute_result"
    }
   ],
   "source": [
    "len(\"apple\")"
   ]
  },
  {
   "cell_type": "code",
   "execution_count": 25,
   "id": "4d0b527f-1066-4032-b321-858ba7ac5efc",
   "metadata": {},
   "outputs": [
    {
     "data": {
      "text/plain": [
       "3"
      ]
     },
     "execution_count": 25,
     "metadata": {},
     "output_type": "execute_result"
    }
   ],
   "source": [
    "len([\"hari\", \"salmon\", \"kajal\"])"
   ]
  },
  {
   "cell_type": "code",
   "execution_count": 26,
   "id": "ae4d0279-aea2-4235-a3f6-9313d10fef2b",
   "metadata": {},
   "outputs": [
    {
     "data": {
      "text/plain": [
       "2"
      ]
     },
     "execution_count": 26,
     "metadata": {},
     "output_type": "execute_result"
    }
   ],
   "source": [
    "len({1:\"apple\", 2:\"ball\"})"
   ]
  },
  {
   "cell_type": "code",
   "execution_count": 33,
   "id": "56325c50-0cd8-484c-8be5-d5d4d11cc75f",
   "metadata": {},
   "outputs": [
    {
     "data": {
      "text/plain": [
       "False"
      ]
     },
     "execution_count": 33,
     "metadata": {},
     "output_type": "execute_result"
    }
   ],
   "source": [
    "bool(0)"
   ]
  },
  {
   "cell_type": "code",
   "execution_count": 34,
   "id": "2489703d-1233-4903-9dfc-143813f59728",
   "metadata": {},
   "outputs": [
    {
     "data": {
      "text/plain": [
       "0j"
      ]
     },
     "execution_count": 34,
     "metadata": {},
     "output_type": "execute_result"
    }
   ],
   "source": [
    "complex()"
   ]
  },
  {
   "cell_type": "code",
   "execution_count": 35,
   "id": "fd5422a6-0929-4c0e-8663-be1830be8a35",
   "metadata": {},
   "outputs": [
    {
     "data": {
      "text/plain": [
       "0.4"
      ]
     },
     "execution_count": 35,
     "metadata": {},
     "output_type": "execute_result"
    }
   ],
   "source": [
    "2 / 5"
   ]
  },
  {
   "cell_type": "code",
   "execution_count": 39,
   "id": "57abfd06-2bf7-4e8d-9f80-4968af1c5499",
   "metadata": {},
   "outputs": [
    {
     "data": {
      "text/plain": [
       "(2, 1)"
      ]
     },
     "execution_count": 39,
     "metadata": {},
     "output_type": "execute_result"
    }
   ],
   "source": [
    "divmod(5,2)"
   ]
  },
  {
   "cell_type": "code",
   "execution_count": 44,
   "id": "9e206aa4-a4ea-42bd-b7aa-fcb733902b57",
   "metadata": {},
   "outputs": [
    {
     "data": {
      "text/plain": [
       "True"
      ]
     },
     "execution_count": 44,
     "metadata": {},
     "output_type": "execute_result"
    }
   ],
   "source": [
    "any ([True, 0, True])"
   ]
  },
  {
   "cell_type": "markdown",
   "id": "3bc6ea42-d41a-4336-a7ee-f602fe56efa6",
   "metadata": {},
   "source": [
    "open()"
   ]
  },
  {
   "cell_type": "code",
   "execution_count": 5,
   "id": "a3a1b840-2691-43e7-a6c0-1a54bf269994",
   "metadata": {},
   "outputs": [],
   "source": [
    "file = open(\"message.txt\", mode = \"w\")\n",
    "file.write(\"Welcome to class\")\n",
    "file.close()"
   ]
  },
  {
   "cell_type": "code",
   "execution_count": 9,
   "id": "dee2bcbc-d599-49a5-b9ec-d214367e2b8d",
   "metadata": {},
   "outputs": [
    {
     "name": "stdout",
     "output_type": "stream",
     "text": [
      "Welcome to classThis is first message \n",
      "This is first message \n",
      "\n"
     ]
    }
   ],
   "source": [
    "# Context Manager\n",
    "with open(\"message.txt\", mode = \"r+\") as file:\n",
    "    print(file.read())\n",
    "    file.write(\".This is first message \\n\")\n"
   ]
  },
  {
   "cell_type": "markdown",
   "id": "f62a1868-cd1d-4eb9-99bd-35e892e16c27",
   "metadata": {},
   "source": [
    "with open(\"message.txt\", mode = \"w+\") as file:\n",
    "    print(file.read())\n",
    "    file.write(\"In the beginning.\\n\")\n"
   ]
  },
  {
   "cell_type": "code",
   "execution_count": 12,
   "id": "158f5951-d237-4ef0-9888-fce1255a907f",
   "metadata": {},
   "outputs": [
    {
     "name": "stdout",
     "output_type": "stream",
     "text": [
      "\n"
     ]
    }
   ],
   "source": [
    "with open(\"message.txt\", mode = \"a+\") as file:\n",
    "    print(file.read())\n",
    "    file.write(\".This is first message \\n\")\n"
   ]
  },
  {
   "cell_type": "markdown",
   "id": "708e61ee-3eb8-4852-a512-72a493d975d7",
   "metadata": {},
   "source": [
    "# Python dir()"
   ]
  },
  {
   "cell_type": "code",
   "execution_count": 13,
   "id": "1da1df93-f5f7-4de2-9e0a-b2dde3d1c2e4",
   "metadata": {},
   "outputs": [],
   "source": [
    "x = \"Ram\""
   ]
  },
  {
   "cell_type": "code",
   "execution_count": 15,
   "id": "33042320-1a41-46be-a934-8eb5c24516a4",
   "metadata": {},
   "outputs": [
    {
     "name": "stdout",
     "output_type": "stream",
     "text": [
      "['__add__', '__class__', '__contains__', '__delattr__', '__dir__', '__doc__', '__eq__', '__format__', '__ge__', '__getattribute__', '__getitem__', '__getnewargs__', '__getstate__', '__gt__', '__hash__', '__init__', '__init_subclass__', '__iter__', '__le__', '__len__', '__lt__', '__mod__', '__mul__', '__ne__', '__new__', '__reduce__', '__reduce_ex__', '__repr__', '__rmod__', '__rmul__', '__setattr__', '__sizeof__', '__str__', '__subclasshook__', 'capitalize', 'casefold', 'center', 'count', 'encode', 'endswith', 'expandtabs', 'find', 'format', 'format_map', 'index', 'isalnum', 'isalpha', 'isascii', 'isdecimal', 'isdigit', 'isidentifier', 'islower', 'isnumeric', 'isprintable', 'isspace', 'istitle', 'isupper', 'join', 'ljust', 'lower', 'lstrip', 'maketrans', 'partition', 'removeprefix', 'removesuffix', 'replace', 'rfind', 'rindex', 'rjust', 'rpartition', 'rsplit', 'rstrip', 'split', 'splitlines', 'startswith', 'strip', 'swapcase', 'title', 'translate', 'upper', 'zfill']\n"
     ]
    }
   ],
   "source": [
    "print(dir(x))"
   ]
  },
  {
   "cell_type": "code",
   "execution_count": 16,
   "id": "68db6e57-6285-402b-9e3f-3c522c0d1b30",
   "metadata": {},
   "outputs": [
    {
     "name": "stdout",
     "output_type": "stream",
     "text": [
      "['__abs__', '__add__', '__and__', '__bool__', '__ceil__', '__class__', '__delattr__', '__dir__', '__divmod__', '__doc__', '__eq__', '__float__', '__floor__', '__floordiv__', '__format__', '__ge__', '__getattribute__', '__getnewargs__', '__getstate__', '__gt__', '__hash__', '__index__', '__init__', '__init_subclass__', '__int__', '__invert__', '__le__', '__lshift__', '__lt__', '__mod__', '__mul__', '__ne__', '__neg__', '__new__', '__or__', '__pos__', '__pow__', '__radd__', '__rand__', '__rdivmod__', '__reduce__', '__reduce_ex__', '__repr__', '__rfloordiv__', '__rlshift__', '__rmod__', '__rmul__', '__ror__', '__round__', '__rpow__', '__rrshift__', '__rshift__', '__rsub__', '__rtruediv__', '__rxor__', '__setattr__', '__sizeof__', '__str__', '__sub__', '__subclasshook__', '__truediv__', '__trunc__', '__xor__', 'as_integer_ratio', 'bit_count', 'bit_length', 'conjugate', 'denominator', 'from_bytes', 'imag', 'is_integer', 'numerator', 'real', 'to_bytes']\n"
     ]
    }
   ],
   "source": [
    "i = 1\n",
    "print(dir(1))"
   ]
  },
  {
   "cell_type": "code",
   "execution_count": 19,
   "id": "e1494d79-188d-43ef-a213-69797123b663",
   "metadata": {},
   "outputs": [
    {
     "data": {
      "text/plain": [
       "'Rohit'"
      ]
     },
     "execution_count": 19,
     "metadata": {},
     "output_type": "execute_result"
    }
   ],
   "source": [
    "\"#%Rohit\".strip(\"#%\")"
   ]
  },
  {
   "cell_type": "markdown",
   "id": "cae6fc77-1aa6-409b-858f-20226e6de34a",
   "metadata": {},
   "source": [
    "# enumerate()"
   ]
  },
  {
   "cell_type": "code",
   "execution_count": 3,
   "id": "8f4514f7-5a15-40d0-9ede-7dd068ff8631",
   "metadata": {},
   "outputs": [],
   "source": [
    "name = [\"Alice\", \"Harry\"]"
   ]
  },
  {
   "cell_type": "code",
   "execution_count": 4,
   "id": "98470f71-9d2d-4a47-9340-e7d37d3d2634",
   "metadata": {},
   "outputs": [
    {
     "data": {
      "text/plain": [
       "[(0, 'Alice'), (1, 'Harry')]"
      ]
     },
     "execution_count": 4,
     "metadata": {},
     "output_type": "execute_result"
    }
   ],
   "source": [
    "list(enumerate(name))"
   ]
  },
  {
   "cell_type": "code",
   "execution_count": 11,
   "id": "48cc02d9-1826-4395-8ff0-e5c9940e5127",
   "metadata": {},
   "outputs": [
    {
     "name": "stdout",
     "output_type": "stream",
     "text": [
      "a : Roll 0\n"
     ]
    }
   ],
   "source": [
    "for (i, name) in enumerate(name):\n",
    "    print(f\"{name} : Roll {i}\")\n",
    "    if i == 10:\n",
    "     break"
   ]
  },
  {
   "cell_type": "code",
   "execution_count": 13,
   "id": "f3a4338e-1049-4cdf-adef-cdeee8caaf48",
   "metadata": {},
   "outputs": [],
   "source": [
    "names = [\"John\", \"John1\", \"John2\", \"John3\"]\n",
    "score = [4,6,2,8]"
   ]
  },
  {
   "cell_type": "markdown",
   "id": "8ab4fc6d-5727-43eb-a171-efee739949b8",
   "metadata": {},
   "source": [
    "# zip()"
   ]
  },
  {
   "cell_type": "code",
   "execution_count": 14,
   "id": "b83d3f44-c806-4479-be68-54e18cc7e103",
   "metadata": {},
   "outputs": [
    {
     "data": {
      "text/plain": [
       "[('John', 4), ('John1', 6), ('John2', 2), ('John3', 8)]"
      ]
     },
     "execution_count": 14,
     "metadata": {},
     "output_type": "execute_result"
    }
   ],
   "source": [
    "list(zip(names, score))"
   ]
  },
  {
   "cell_type": "code",
   "execution_count": 15,
   "id": "db9f3be0-6f02-44cb-b662-731c507b9a0a",
   "metadata": {},
   "outputs": [
    {
     "name": "stdout",
     "output_type": "stream",
     "text": [
      "John->4\n",
      "John1->6\n",
      "John2->2\n",
      "John3->8\n"
     ]
    }
   ],
   "source": [
    "for (player, s) in zip(names, score):\n",
    "    print(player, s, sep = \"->\")"
   ]
  },
  {
   "cell_type": "code",
   "execution_count": 16,
   "id": "c31544f0-fdad-4073-9803-b0bf5c1f1bd2",
   "metadata": {},
   "outputs": [],
   "source": [
    "name = \"Hari\"\n",
    "list1 = [2,5,6]\n",
    "set1 = set(\"aeiou\")"
   ]
  },
  {
   "cell_type": "code",
   "execution_count": 17,
   "id": "7c927dbd-22d2-4a37-88b8-a04bebfbcf38",
   "metadata": {},
   "outputs": [
    {
     "name": "stdout",
     "output_type": "stream",
     "text": [
      "H->2->e\n",
      "a->5->a\n",
      "r->6->o\n"
     ]
    }
   ],
   "source": [
    "for (name, list1, set1) in zip(name, list1, set1):\n",
    "    print(name, list1, set1, sep = \"->\")"
   ]
  },
  {
   "cell_type": "code",
   "execution_count": 19,
   "id": "ecbe28eb-a437-455a-8625-4b5bb9b72038",
   "metadata": {},
   "outputs": [],
   "source": [
    "def mult(x):\n",
    "    return x == 2"
   ]
  },
  {
   "cell_type": "markdown",
   "id": "268d06b9-8f94-4425-8de8-76ceaa5cd735",
   "metadata": {},
   "source": [
    "# map()"
   ]
  },
  {
   "cell_type": "code",
   "execution_count": 24,
   "id": "575d8a58-9706-496c-928e-4d138085f816",
   "metadata": {},
   "outputs": [],
   "source": [
    "number = list(range(200))\n",
    "\n",
    "map_obj = map(mult, number)"
   ]
  },
  {
   "cell_type": "markdown",
   "id": "c6f5401f-5e4a-4458-852a-2c77dc1eea27",
   "metadata": {},
   "source": [
    "# filter()"
   ]
  },
  {
   "cell_type": "code",
   "execution_count": 26,
   "id": "a7a5d1a4-66ac-4685-9f37-ba958ca50145",
   "metadata": {},
   "outputs": [],
   "source": [
    "def even(num):\n",
    "    return num % 2 == 0"
   ]
  },
  {
   "cell_type": "code",
   "execution_count": 27,
   "id": "77333533-bb74-4f11-857e-7c1ceb5213e4",
   "metadata": {},
   "outputs": [],
   "source": [
    "f_obj = filter(even, [1,3,4,5,6])"
   ]
  },
  {
   "cell_type": "code",
   "execution_count": 28,
   "id": "9b51882b-d091-4d9d-a514-efe731ca1822",
   "metadata": {},
   "outputs": [
    {
     "data": {
      "text/plain": [
       "[4, 6]"
      ]
     },
     "execution_count": 28,
     "metadata": {},
     "output_type": "execute_result"
    }
   ],
   "source": [
    "list(f_obj)"
   ]
  },
  {
   "cell_type": "code",
   "execution_count": 29,
   "id": "5a5feff7-d2a1-404b-a260-dbb95197ea14",
   "metadata": {},
   "outputs": [],
   "source": [
    "from functools import reduce"
   ]
  },
  {
   "cell_type": "code",
   "execution_count": 30,
   "id": "e56d34ed-fa7d-4007-a8e9-6a4b06979b73",
   "metadata": {},
   "outputs": [],
   "source": [
    "mylist = [1,2,3,4,5]"
   ]
  },
  {
   "cell_type": "code",
   "execution_count": 31,
   "id": "8a88ded4-9d60-4dd0-a029-dcfde143abf5",
   "metadata": {},
   "outputs": [],
   "source": [
    "def add(x,y):\n",
    "    return x + y"
   ]
  },
  {
   "cell_type": "code",
   "execution_count": 32,
   "id": "0e4fda2d-56b1-4d02-8ea0-da34ac073d72",
   "metadata": {},
   "outputs": [],
   "source": [
    "red_obj = reduce(add, mylist)"
   ]
  },
  {
   "cell_type": "code",
   "execution_count": 33,
   "id": "79f05b22-4a57-4e23-b514-5bc7850cce44",
   "metadata": {},
   "outputs": [
    {
     "data": {
      "text/plain": [
       "15"
      ]
     },
     "execution_count": 33,
     "metadata": {},
     "output_type": "execute_result"
    }
   ],
   "source": [
    "red_obj"
   ]
  },
  {
   "cell_type": "code",
   "execution_count": 34,
   "id": "4e9785ab-c5fa-41b9-a612-fb575fc3b744",
   "metadata": {},
   "outputs": [],
   "source": [
    "team_a = [10, 20, 30]\n",
    "team_b = [15, 25, 35]\n",
    "# Output : [25, 45, 65]"
   ]
  },
  {
   "cell_type": "code",
   "execution_count": 39,
   "id": "72af4da4-4630-4ac9-ab52-0329cd5132d6",
   "metadata": {},
   "outputs": [
    {
     "name": "stdout",
     "output_type": "stream",
     "text": [
      "Day 1: 25 goals\n",
      "Day 2: 45 goals\n",
      "Day 3: 65 goals\n"
     ]
    }
   ],
   "source": [
    "a = [10, 20, 30]\n",
    "b = [15, 25, 35]\n",
    "\n",
    "def add_goals(c, d):\n",
    "    return c + d\n",
    "\n",
    "goals = list(map(add_goals, a, b))\n",
    "\n",
    "for i, total in enumerate(goals, start=1):\n",
    "    print(f\"Day {i}: {total} goals\")\n"
   ]
  },
  {
   "cell_type": "code",
   "execution_count": 40,
   "id": "65797f1e-94e9-45fe-81df-9739a0803b7c",
   "metadata": {},
   "outputs": [
    {
     "name": "stdout",
     "output_type": "stream",
     "text": [
      "any_missed = True\n",
      "all_done = False\n"
     ]
    }
   ],
   "source": [
    "team_tasks = [\n",
    "    [True, True, True],       # Alice\n",
    "    [True, False, True],      # Bob\n",
    "    [False, True, True]       # Carol\n",
    "]\n",
    "\n",
    "any_missed = any(False in tasks for tasks in team_tasks)\n",
    "\n",
    "all_done = all(all(tasks) for tasks in team_tasks)\n",
    "\n",
    "print(\"any_missed =\", any_missed)\n",
    "print(\"all_done =\", all_done)\n"
   ]
  },
  {
   "cell_type": "code",
   "execution_count": 1,
   "id": "2c7c3838-3b86-4756-b03a-90d8597faf4b",
   "metadata": {},
   "outputs": [
    {
     "name": "stdout",
     "output_type": "stream",
     "text": [
      "True\n"
     ]
    }
   ],
   "source": [
    "palindrome = lambda s: s == s[::-1]\n",
    "\n",
    "word = \"level\"\n",
    "print(palindrome(word)) "
   ]
  },
  {
   "cell_type": "code",
   "execution_count": 3,
   "id": "b66a586f-7508-45e4-b9e6-440e4ca89498",
   "metadata": {},
   "outputs": [
    {
     "name": "stdin",
     "output_type": "stream",
     "text": [
      "Enter a number:  153\n"
     ]
    },
    {
     "name": "stdout",
     "output_type": "stream",
     "text": [
      "Yes, it's an Armstrong number.\n"
     ]
    }
   ],
   "source": [
    "def armstrong_number(number):\n",
    "\n",
    "    num_str = str(number)\n",
    "\n",
    "    num_digits = len(num_str)\n",
    "    \n",
    "    total = sum(int(digit) ** num_digits for digit in num_str)\n",
    "    \n",
    "    return total == number\n",
    "\n",
    "number = int(input(\"Enter a number: \"))\n",
    "\n",
    "if armstrong_number(number):\n",
    "    print(\"Yes, it's an Armstrong number.\")\n",
    "else:\n",
    "    print(\"No, it's not an Armstrong number.\")"
   ]
  },
  {
   "cell_type": "code",
   "execution_count": 5,
   "id": "53211ec2-fbc4-48f1-8d20-29baffd16b27",
   "metadata": {},
   "outputs": [
    {
     "ename": "_IncompleteInputError",
     "evalue": "incomplete input (3352097709.py, line 16)",
     "output_type": "error",
     "traceback": [
      "  \u001b[36mCell\u001b[39m\u001b[36m \u001b[39m\u001b[32mIn[5]\u001b[39m\u001b[32m, line 16\u001b[39m\n\u001b[31m    \u001b[39m\n    ^\n\u001b[31m_IncompleteInputError\u001b[39m\u001b[31m:\u001b[39m incomplete input\n"
     ]
    }
   ],
   "source": [
    "import random\n",
    "\n",
    "number = random.randint(1, 100)\n",
    "attempts = 7\n",
    "\n",
    "for a in  range(attempts):\n",
    "    guess = int(input(\"Guess a number (1-100): \"))\n",
    "    if guess == number:\n",
    "        print(\"You guessed it right!\")\n",
    "        break\n",
    "    print(\"Too high!\" if guess > number else \"Too low!\")\n",
    "else:\n",
    "    print(f\"Sorry! You failed! The number was {number}!\")\n",
    "\n",
    "if input(\"Do you want to play again? (y/n): \").lower() == 'y':\n",
    "    "
   ]
  },
  {
   "cell_type": "code",
   "execution_count": 6,
   "id": "3c82949d-f8e6-4515-9d9c-88e0e7643c17",
   "metadata": {},
   "outputs": [
    {
     "name": "stdin",
     "output_type": "stream",
     "text": [
      "Guess 1/7:  1\n"
     ]
    },
    {
     "name": "stdout",
     "output_type": "stream",
     "text": [
      "Low\n"
     ]
    },
    {
     "name": "stdin",
     "output_type": "stream",
     "text": [
      "Guess 2/7:  2\n"
     ]
    },
    {
     "name": "stdout",
     "output_type": "stream",
     "text": [
      "Low\n"
     ]
    },
    {
     "name": "stdin",
     "output_type": "stream",
     "text": [
      "Guess 3/7:  3\n"
     ]
    },
    {
     "name": "stdout",
     "output_type": "stream",
     "text": [
      "Low\n"
     ]
    },
    {
     "name": "stdin",
     "output_type": "stream",
     "text": [
      "Guess 4/7:  7\n"
     ]
    },
    {
     "name": "stdout",
     "output_type": "stream",
     "text": [
      "Low\n"
     ]
    },
    {
     "name": "stdin",
     "output_type": "stream",
     "text": [
      "Guess 5/7:  4\n"
     ]
    },
    {
     "name": "stdout",
     "output_type": "stream",
     "text": [
      "Low\n"
     ]
    },
    {
     "name": "stdin",
     "output_type": "stream",
     "text": [
      "Guess 6/7:  9\n"
     ]
    },
    {
     "name": "stdout",
     "output_type": "stream",
     "text": [
      "Low\n"
     ]
    },
    {
     "name": "stdin",
     "output_type": "stream",
     "text": [
      "Guess 7/7:  3\n"
     ]
    },
    {
     "name": "stdout",
     "output_type": "stream",
     "text": [
      "Low\n",
      "Game Over! It was 23\n"
     ]
    }
   ],
   "source": [
    "import random\n",
    "n = random.randint(1, 100)\n",
    "for a in range(7):\n",
    "    g = int(input(f\"Guess {a+1}/7: \"))\n",
    "    if g == n: print(\"Correct!\"); break\n",
    "    print(\"High\" if g > n else \"Low\")\n",
    "else: print(f\"Game Over! It was {n}\")"
   ]
  },
  {
   "cell_type": "code",
   "execution_count": 7,
   "id": "d30a62c4-5365-4cf6-9b96-c65a4a515a9f",
   "metadata": {},
   "outputs": [
    {
     "name": "stdout",
     "output_type": "stream",
     "text": [
      "1\n",
      "2\n",
      "Fizz\n",
      "4\n",
      "Buzz\n",
      "Fizz\n",
      "7\n",
      "8\n",
      "Fizz\n",
      "Buzz\n",
      "11\n",
      "Fizz\n",
      "13\n",
      "14\n",
      "FizzBuzz\n",
      "16\n",
      "17\n",
      "Fizz\n",
      "19\n",
      "Buzz\n",
      "Fizz\n",
      "22\n",
      "23\n",
      "Fizz\n",
      "Buzz\n",
      "26\n",
      "Fizz\n",
      "28\n",
      "29\n",
      "FizzBuzz\n",
      "31\n",
      "32\n",
      "Fizz\n",
      "34\n",
      "Buzz\n",
      "Fizz\n",
      "37\n",
      "38\n",
      "Fizz\n",
      "Buzz\n",
      "41\n",
      "Fizz\n",
      "43\n",
      "44\n",
      "FizzBuzz\n",
      "46\n",
      "47\n",
      "Fizz\n",
      "49\n",
      "Buzz\n"
     ]
    }
   ],
   "source": [
    "for num in range(1, 51):\n",
    "    if num % 15 == 0:\n",
    "        print(\"FizzBuzz\")\n",
    "    elif num % 3 == 0:\n",
    "        print(\"Fizz\")\n",
    "    elif num % 5 == 0:\n",
    "        print(\"Buzz\")\n",
    "    else:\n",
    "        print(num)"
   ]
  },
  {
   "cell_type": "code",
   "execution_count": null,
   "id": "93ac82c7-b155-42a3-b2a2-b5e3f41f5a59",
   "metadata": {},
   "outputs": [],
   "source": []
  }
 ],
 "metadata": {
  "kernelspec": {
   "display_name": "Python 3 (ipykernel)",
   "language": "python",
   "name": "python3"
  },
  "language_info": {
   "codemirror_mode": {
    "name": "ipython",
    "version": 3
   },
   "file_extension": ".py",
   "mimetype": "text/x-python",
   "name": "python",
   "nbconvert_exporter": "python",
   "pygments_lexer": "ipython3",
   "version": "3.13.5"
  },
  "widgets": {
   "application/vnd.jupyter.widget-state+json": {
    "state": {},
    "version_major": 2,
    "version_minor": 0
   }
  }
 },
 "nbformat": 4,
 "nbformat_minor": 5
}
