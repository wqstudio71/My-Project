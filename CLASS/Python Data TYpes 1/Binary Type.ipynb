{
 "cells": [
  {
   "cell_type": "markdown",
   "id": "448caaae-8e65-4251-be9d-39aaca45e1ef",
   "metadata": {},
   "source": [
    "# Binary Type"
   ]
  },
  {
   "cell_type": "code",
   "execution_count": null,
   "id": "cb6f2676-9994-414f-bce3-2a2b75fbf24f",
   "metadata": {},
   "outputs": [],
   "source": []
  }
 ],
 "metadata": {
  "kernelspec": {
   "display_name": "Python 3 (ipykernel)",
   "language": "python",
   "name": "python3"
  },
  "language_info": {
   "codemirror_mode": {
    "name": "ipython",
    "version": 3
   },
   "file_extension": ".py",
   "mimetype": "text/x-python",
   "name": "python",
   "nbconvert_exporter": "python",
   "pygments_lexer": "ipython3",
   "version": "3.13.5"
  }
 },
 "nbformat": 4,
 "nbformat_minor": 5
}
