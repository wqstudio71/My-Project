{
 "cells": [
  {
   "cell_type": "markdown",
   "id": "e8d5766b-eeef-46f0-974e-22885bcda4d8",
   "metadata": {},
   "source": [
    "# Mapping Type"
   ]
  },
  {
   "cell_type": "markdown",
   "id": "2b047337-ddfd-4665-8c1b-47f80ea2e6ed",
   "metadata": {},
   "source": [
    "Creating a dictionary"
   ]
  },
  {
   "cell_type": "markdown",
   "id": "43cf2f26-d319-4f2e-bde2-d5273100ce04",
   "metadata": {},
   "source": [
    "```python\n",
    "dict = {\n",
    "    key : value,\n",
    "    key2 : value2,\n",
    "}```"
   ]
  },
  {
   "cell_type": "code",
   "execution_count": 3,
   "id": "11afd130-b42d-42a6-aff3-0082d4f51eb6",
   "metadata": {},
   "outputs": [],
   "source": [
    "person = {\n",
    "    \"name\" : \"Rohit\",\n",
    "    \"age\" : 18,\n",
    "    \"Gender\" : \"Male\",\n",
    "    \"Subject\" : [\"Math\"]\n",
    "}"
   ]
  },
  {
   "cell_type": "code",
   "execution_count": 4,
   "id": "686185e1-8b8a-4eba-b0a5-ef6d32815626",
   "metadata": {},
   "outputs": [
    {
     "data": {
      "text/plain": [
       "dict"
      ]
     },
     "execution_count": 4,
     "metadata": {},
     "output_type": "execute_result"
    }
   ],
   "source": [
    "type(person)"
   ]
  },
  {
   "cell_type": "code",
   "execution_count": 7,
   "id": "991d642b-e78a-4c45-969f-4686557e8c71",
   "metadata": {},
   "outputs": [
    {
     "name": "stdout",
     "output_type": "stream",
     "text": [
      "{'name': 'Rohit', 'city': 'NYC'}\n"
     ]
    }
   ],
   "source": [
    " #person = dict(name = \"Rohit\", city = \"NYC\")\n"
   ]
  },
  {
   "cell_type": "markdown",
   "id": "70baa629-7b41-4c1e-93f2-164c06966f77",
   "metadata": {},
   "source": [
    "# Accessing Elements"
   ]
  },
  {
   "cell_type": "code",
   "execution_count": 13,
   "id": "9a0a540a-dbd9-4988-abb7-a7314b8abb8a",
   "metadata": {},
   "outputs": [
    {
     "data": {
      "text/plain": [
       "1990"
      ]
     },
     "execution_count": 13,
     "metadata": {},
     "output_type": "execute_result"
    }
   ],
   "source": [
    "person.get(\"DOB\", 1990)"
   ]
  },
  {
   "cell_type": "code",
   "execution_count": null,
   "id": "0df7c762-ade3-4a88-9b48-159a9594431c",
   "metadata": {},
   "outputs": [],
   "source": []
  }
 ],
 "metadata": {
  "kernelspec": {
   "display_name": "Python 3 (ipykernel)",
   "language": "python",
   "name": "python3"
  },
  "language_info": {
   "codemirror_mode": {
    "name": "ipython",
    "version": 3
   },
   "file_extension": ".py",
   "mimetype": "text/x-python",
   "name": "python",
   "nbconvert_exporter": "python",
   "pygments_lexer": "ipython3",
   "version": "3.13.5"
  }
 },
 "nbformat": 4,
 "nbformat_minor": 5
}
