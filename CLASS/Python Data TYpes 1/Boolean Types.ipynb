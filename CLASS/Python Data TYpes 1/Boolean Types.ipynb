{
 "cells": [
  {
   "cell_type": "markdown",
   "id": "5e3e2f71-da73-4f33-a093-b9771a5bb2d2",
   "metadata": {},
   "source": [
    "# Boolean Type"
   ]
  },
  {
   "cell_type": "code",
   "execution_count": 1,
   "id": "fafc40eb-a7b8-460f-8f8a-8aca607652c9",
   "metadata": {},
   "outputs": [],
   "source": [
    "flag = True"
   ]
  },
  {
   "cell_type": "code",
   "execution_count": 2,
   "id": "26edfc55-e0a2-4b90-bc16-828a540f7bbd",
   "metadata": {},
   "outputs": [
    {
     "data": {
      "text/plain": [
       "bool"
      ]
     },
     "execution_count": 2,
     "metadata": {},
     "output_type": "execute_result"
    }
   ],
   "source": [
    "type(flag)"
   ]
  },
  {
   "cell_type": "code",
   "execution_count": 3,
   "id": "d4b2ef2f-a604-47d0-8146-45dc5a68bd59",
   "metadata": {},
   "outputs": [],
   "source": [
    "a = 5\n",
    "b = 10\n",
    "\n",
    "c = b > a"
   ]
  },
  {
   "cell_type": "code",
   "execution_count": 4,
   "id": "7db56437-10b6-4139-8a17-822f8f83972f",
   "metadata": {},
   "outputs": [
    {
     "data": {
      "text/plain": [
       "True"
      ]
     },
     "execution_count": 4,
     "metadata": {},
     "output_type": "execute_result"
    }
   ],
   "source": [
    "c"
   ]
  },
  {
   "cell_type": "code",
   "execution_count": 5,
   "id": "f7eeaf8f-9248-48c3-aa39-34666fa27db6",
   "metadata": {},
   "outputs": [],
   "source": [
    "email = \"@gmail.com\".endswith(\"@gmail.com\")"
   ]
  },
  {
   "cell_type": "code",
   "execution_count": 6,
   "id": "9cea379c-6ff5-4f16-909d-9f1b7d94f733",
   "metadata": {},
   "outputs": [
    {
     "data": {
      "text/plain": [
       "True"
      ]
     },
     "execution_count": 6,
     "metadata": {},
     "output_type": "execute_result"
    }
   ],
   "source": [
    "email"
   ]
  },
  {
   "cell_type": "markdown",
   "id": "47bf8b68-5915-47d0-9f04-c3801d3bb44d",
   "metadata": {},
   "source": [
    "# Logical Operators"
   ]
  },
  {
   "cell_type": "code",
   "execution_count": 7,
   "id": "e9db0da6-816b-4218-b983-92e62cfd16f6",
   "metadata": {},
   "outputs": [],
   "source": [
    "x = True\n",
    "y = False"
   ]
  },
  {
   "cell_type": "code",
   "execution_count": 8,
   "id": "3613a7b5-ec4d-400f-a2c4-c374cba16db6",
   "metadata": {},
   "outputs": [
    {
     "data": {
      "text/plain": [
       "False"
      ]
     },
     "execution_count": 8,
     "metadata": {},
     "output_type": "execute_result"
    }
   ],
   "source": [
    "x and y "
   ]
  },
  {
   "cell_type": "code",
   "execution_count": 9,
   "id": "e6d383ad-57ab-4911-ae95-e03b1032d44d",
   "metadata": {},
   "outputs": [],
   "source": [
    "result = x and y"
   ]
  },
  {
   "cell_type": "code",
   "execution_count": 10,
   "id": "2138fbd7-8ba2-4f4e-aca5-edb16e1a5b7e",
   "metadata": {},
   "outputs": [
    {
     "data": {
      "text/plain": [
       "False"
      ]
     },
     "execution_count": 10,
     "metadata": {},
     "output_type": "execute_result"
    }
   ],
   "source": [
    "result"
   ]
  },
  {
   "cell_type": "code",
   "execution_count": 11,
   "id": "00db08b8-1871-44ad-9e70-e808b0b25080",
   "metadata": {},
   "outputs": [],
   "source": [
    "result = x or y"
   ]
  },
  {
   "cell_type": "code",
   "execution_count": 12,
   "id": "ada40ccb-82c1-4fa2-b4c5-6e95f3b7fb0e",
   "metadata": {},
   "outputs": [
    {
     "data": {
      "text/plain": [
       "True"
      ]
     },
     "execution_count": 12,
     "metadata": {},
     "output_type": "execute_result"
    }
   ],
   "source": [
    "result"
   ]
  },
  {
   "cell_type": "code",
   "execution_count": 13,
   "id": "d5295700-fd01-4b2d-8f1b-b55a7cb6be26",
   "metadata": {},
   "outputs": [
    {
     "data": {
      "text/plain": [
       "False"
      ]
     },
     "execution_count": 13,
     "metadata": {},
     "output_type": "execute_result"
    }
   ],
   "source": [
    "not x"
   ]
  },
  {
   "cell_type": "code",
   "execution_count": 14,
   "id": "48919995-53f8-43c0-9c53-28820b05aaee",
   "metadata": {},
   "outputs": [],
   "source": [
    "number = 0"
   ]
  },
  {
   "cell_type": "code",
   "execution_count": 15,
   "id": "16d6483d-fce3-4a40-9b1b-d84ea16504dd",
   "metadata": {},
   "outputs": [
    {
     "data": {
      "text/plain": [
       "False"
      ]
     },
     "execution_count": 15,
     "metadata": {},
     "output_type": "execute_result"
    }
   ],
   "source": [
    "bool(number)"
   ]
  },
  {
   "cell_type": "code",
   "execution_count": 16,
   "id": "15dfd124-1037-46e0-a1f3-38541cbc9a2e",
   "metadata": {},
   "outputs": [
    {
     "data": {
      "text/plain": [
       "False"
      ]
     },
     "execution_count": 16,
     "metadata": {},
     "output_type": "execute_result"
    }
   ],
   "source": [
    "name = \"\"\n",
    "bool(name)"
   ]
  },
  {
   "cell_type": "code",
   "execution_count": 17,
   "id": "2e517b4b-2924-4c41-8258-a9c4def3ba58",
   "metadata": {},
   "outputs": [
    {
     "data": {
      "text/plain": [
       "False"
      ]
     },
     "execution_count": 17,
     "metadata": {},
     "output_type": "execute_result"
    }
   ],
   "source": [
    "lst = []\n",
    "bool(lst)"
   ]
  }
 ],
 "metadata": {
  "kernelspec": {
   "display_name": "Python 3 (ipykernel)",
   "language": "python",
   "name": "python3"
  },
  "language_info": {
   "codemirror_mode": {
    "name": "ipython",
    "version": 3
   },
   "file_extension": ".py",
   "mimetype": "text/x-python",
   "name": "python",
   "nbconvert_exporter": "python",
   "pygments_lexer": "ipython3",
   "version": "3.13.5"
  }
 },
 "nbformat": 4,
 "nbformat_minor": 5
}
