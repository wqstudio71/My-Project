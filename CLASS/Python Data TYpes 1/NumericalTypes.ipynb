{
 "cells": [
  {
   "cell_type": "markdown",
   "id": "35ba5b50-d3de-4396-a3db-22b44faf79c2",
   "metadata": {},
   "source": [
    "# Numerical Data Types"
   ]
  },
  {
   "cell_type": "markdown",
   "id": "a6f99825-a162-4421-957e-05124aac29a5",
   "metadata": {},
   "source": [
    "1. Integer = Whole number, positive or negative number."
   ]
  },
  {
   "cell_type": "code",
   "execution_count": 1,
   "id": "0f2c3506-ab0a-4256-8c33-cc6626aed71e",
   "metadata": {},
   "outputs": [],
   "source": [
    "number = 123456789"
   ]
  },
  {
   "cell_type": "code",
   "execution_count": 2,
   "id": "027b7e86-6c9c-43ca-b4ad-9d160478be87",
   "metadata": {},
   "outputs": [
    {
     "data": {
      "text/plain": [
       "int"
      ]
     },
     "execution_count": 2,
     "metadata": {},
     "output_type": "execute_result"
    }
   ],
   "source": [
    "type(number)"
   ]
  },
  {
   "cell_type": "code",
   "execution_count": 3,
   "id": "476a64cc-4ab0-4897-946a-91a7419de13a",
   "metadata": {},
   "outputs": [
    {
     "name": "stdout",
     "output_type": "stream",
     "text": [
      "123456789\n"
     ]
    }
   ],
   "source": [
    "print(number)"
   ]
  },
  {
   "cell_type": "markdown",
   "id": "15d323fa-67e1-438b-a9e9-009a4b2500f3",
   "metadata": {},
   "source": [
    "2. Float = Decimal Number, positive or negative number."
   ]
  },
  {
   "cell_type": "code",
   "execution_count": 4,
   "id": "6130b2c1-c073-49b3-a207-4c380af367f7",
   "metadata": {},
   "outputs": [],
   "source": [
    "pie = 22/7"
   ]
  },
  {
   "cell_type": "code",
   "execution_count": 5,
   "id": "f8898c7f-e4d7-4f9d-8107-e6df064fb230",
   "metadata": {},
   "outputs": [
    {
     "name": "stdout",
     "output_type": "stream",
     "text": [
      "3.142857142857143\n"
     ]
    }
   ],
   "source": [
    "print(pie)"
   ]
  },
  {
   "cell_type": "code",
   "execution_count": 6,
   "id": "5487d3fc-491a-4109-884e-cc0f161d4b20",
   "metadata": {},
   "outputs": [
    {
     "data": {
      "text/plain": [
       "float"
      ]
     },
     "execution_count": 6,
     "metadata": {},
     "output_type": "execute_result"
    }
   ],
   "source": [
    "type(pie)"
   ]
  },
  {
   "cell_type": "markdown",
   "id": "81756895-fa1c-4163-bcd4-415a079c0dde",
   "metadata": {},
   "source": [
    "3. Complex = Number with real and imaginary part"
   ]
  },
  {
   "cell_type": "code",
   "execution_count": 7,
   "id": "88ccaf36-3819-44bc-8b8c-6730b71a8c55",
   "metadata": {},
   "outputs": [],
   "source": [
    "vec = 6 - 3j"
   ]
  },
  {
   "cell_type": "code",
   "execution_count": 8,
   "id": "b66ac53e-2f47-4a72-8811-9bb28448ec62",
   "metadata": {},
   "outputs": [
    {
     "data": {
      "text/plain": [
       "complex"
      ]
     },
     "execution_count": 8,
     "metadata": {},
     "output_type": "execute_result"
    }
   ],
   "source": [
    "type(vec)"
   ]
  },
  {
   "cell_type": "markdown",
   "id": "4ea682c2-12d7-4aad-8956-e98e29cb2ab5",
   "metadata": {},
   "source": [
    "# Arithmetic Operations"
   ]
  },
  {
   "cell_type": "code",
   "execution_count": 9,
   "id": "2f6660ad-e1f1-4ae1-80e3-91c41209f35d",
   "metadata": {},
   "outputs": [],
   "source": [
    "x = 22\n",
    "y= 23.5"
   ]
  },
  {
   "cell_type": "code",
   "execution_count": 10,
   "id": "d3b0bdeb-76c8-4262-9825-a817d5fc1d10",
   "metadata": {},
   "outputs": [
    {
     "data": {
      "text/plain": [
       "45.5"
      ]
     },
     "execution_count": 10,
     "metadata": {},
     "output_type": "execute_result"
    }
   ],
   "source": [
    "x + y"
   ]
  },
  {
   "cell_type": "code",
   "execution_count": 11,
   "id": "18c9c9c2-4edf-4d43-ba5a-8f793da809f0",
   "metadata": {},
   "outputs": [
    {
     "data": {
      "text/plain": [
       "-1.5"
      ]
     },
     "execution_count": 11,
     "metadata": {},
     "output_type": "execute_result"
    }
   ],
   "source": [
    "x - y"
   ]
  },
  {
   "cell_type": "code",
   "execution_count": 12,
   "id": "30729b2c-440c-4a11-8d5a-6ebce0a7c836",
   "metadata": {},
   "outputs": [
    {
     "data": {
      "text/plain": [
       "517.0"
      ]
     },
     "execution_count": 12,
     "metadata": {},
     "output_type": "execute_result"
    }
   ],
   "source": [
    "x * y"
   ]
  },
  {
   "cell_type": "code",
   "execution_count": 13,
   "id": "d61a9109-d0b2-48ce-adcc-0856e0c8cb11",
   "metadata": {},
   "outputs": [
    {
     "data": {
      "text/plain": [
       "0.9361702127659575"
      ]
     },
     "execution_count": 13,
     "metadata": {},
     "output_type": "execute_result"
    }
   ],
   "source": [
    "x / y"
   ]
  },
  {
   "cell_type": "code",
   "execution_count": 14,
   "id": "f701c9d4-d8d0-4ec2-b102-bcdc23caf4e9",
   "metadata": {},
   "outputs": [
    {
     "data": {
      "text/plain": [
       "1"
      ]
     },
     "execution_count": 14,
     "metadata": {},
     "output_type": "execute_result"
    }
   ],
   "source": [
    "10 % 3"
   ]
  },
  {
   "cell_type": "code",
   "execution_count": 15,
   "id": "7990f882-97c5-4944-b140-3940842ae833",
   "metadata": {},
   "outputs": [
    {
     "data": {
      "text/plain": [
       "1000"
      ]
     },
     "execution_count": 15,
     "metadata": {},
     "output_type": "execute_result"
    }
   ],
   "source": [
    "10 ** 3"
   ]
  },
  {
   "cell_type": "code",
   "execution_count": 16,
   "id": "f44c6a2b-5d29-4019-be19-b293ae81b4e5",
   "metadata": {},
   "outputs": [
    {
     "data": {
      "text/plain": [
       "1000000"
      ]
     },
     "execution_count": 16,
     "metadata": {},
     "output_type": "execute_result"
    }
   ],
   "source": [
    "100 ** 3"
   ]
  },
  {
   "cell_type": "code",
   "execution_count": 17,
   "id": "9ab92855-aec2-422e-9d95-2bbb2fa2edd4",
   "metadata": {},
   "outputs": [
    {
     "data": {
      "text/plain": [
       "3"
      ]
     },
     "execution_count": 17,
     "metadata": {},
     "output_type": "execute_result"
    }
   ],
   "source": [
    "10 // 3"
   ]
  },
  {
   "cell_type": "markdown",
   "id": "1f1725de-aa83-4c04-ad4e-6f8f58918169",
   "metadata": {},
   "source": [
    "# Type Conversion"
   ]
  },
  {
   "cell_type": "code",
   "execution_count": 18,
   "id": "dac8d278-e8fa-4541-97d1-0d4b5c7e3f13",
   "metadata": {},
   "outputs": [],
   "source": [
    "eulers = 0.577218"
   ]
  },
  {
   "cell_type": "code",
   "execution_count": 19,
   "id": "8508edcb-7be2-44e7-9255-e056ed7c766f",
   "metadata": {},
   "outputs": [],
   "source": [
    "number = int(eulers)"
   ]
  },
  {
   "cell_type": "code",
   "execution_count": 20,
   "id": "ffd7953a-1aaf-40c1-ae3c-717103b265a3",
   "metadata": {},
   "outputs": [
    {
     "data": {
      "text/plain": [
       "0"
      ]
     },
     "execution_count": 20,
     "metadata": {},
     "output_type": "execute_result"
    }
   ],
   "source": [
    "number"
   ]
  },
  {
   "cell_type": "code",
   "execution_count": 21,
   "id": "989b8c16-7d43-4312-b0b4-fb989ae4c5b8",
   "metadata": {},
   "outputs": [],
   "source": [
    "whole = 99"
   ]
  },
  {
   "cell_type": "code",
   "execution_count": 22,
   "id": "c273c799-74b2-432c-b704-3591cf560ffa",
   "metadata": {},
   "outputs": [
    {
     "data": {
      "text/plain": [
       "99.0"
      ]
     },
     "execution_count": 22,
     "metadata": {},
     "output_type": "execute_result"
    }
   ],
   "source": [
    "float(whole)"
   ]
  },
  {
   "cell_type": "code",
   "execution_count": 23,
   "id": "7e7aedff-5456-4b38-a9e1-efc3c4d79f0a",
   "metadata": {},
   "outputs": [],
   "source": [
    "euler = 0.577"
   ]
  },
  {
   "cell_type": "code",
   "execution_count": 24,
   "id": "0a254235-9498-4a7d-888c-8ba299b4dd45",
   "metadata": {},
   "outputs": [
    {
     "data": {
      "text/plain": [
       "0"
      ]
     },
     "execution_count": 24,
     "metadata": {},
     "output_type": "execute_result"
    }
   ],
   "source": [
    "int(euler)"
   ]
  },
  {
   "cell_type": "code",
   "execution_count": 25,
   "id": "3b42744e-9d02-4c45-a64e-6794b8677678",
   "metadata": {},
   "outputs": [
    {
     "data": {
      "text/plain": [
       "(33+66.7j)"
      ]
     },
     "execution_count": 25,
     "metadata": {},
     "output_type": "execute_result"
    }
   ],
   "source": [
    "complex(33, 66.7)"
   ]
  },
  {
   "cell_type": "markdown",
   "id": "43e48241-5b04-48bf-97ed-7b71c53bff3f",
   "metadata": {},
   "source": [
    "# Comparison Operators"
   ]
  },
  {
   "cell_type": "code",
   "execution_count": 26,
   "id": "19ce4ee6-d3a9-4582-804f-85c8d09e436c",
   "metadata": {},
   "outputs": [],
   "source": [
    "num1 = 77\n",
    "num2 = 67.7"
   ]
  },
  {
   "cell_type": "code",
   "execution_count": 27,
   "id": "1d3831cb-1ef7-4b61-ac58-c7967732cba8",
   "metadata": {},
   "outputs": [
    {
     "data": {
      "text/plain": [
       "False"
      ]
     },
     "execution_count": 27,
     "metadata": {},
     "output_type": "execute_result"
    }
   ],
   "source": [
    "num1 == num2"
   ]
  },
  {
   "cell_type": "code",
   "execution_count": 31,
   "id": "74161ea3-83a1-4f55-8598-5ff197da8734",
   "metadata": {},
   "outputs": [],
   "source": [
    "num1 = 23\n",
    "num2 = 23"
   ]
  },
  {
   "cell_type": "code",
   "execution_count": 32,
   "id": "bdd61b40-739f-4e05-bacf-7f4471621f97",
   "metadata": {},
   "outputs": [
    {
     "data": {
      "text/plain": [
       "False"
      ]
     },
     "execution_count": 32,
     "metadata": {},
     "output_type": "execute_result"
    }
   ],
   "source": [
    "num1 != num2"
   ]
  },
  {
   "cell_type": "code",
   "execution_count": 33,
   "id": "6a804d4f-2b5f-4f3d-846a-0d1e55202a6b",
   "metadata": {},
   "outputs": [
    {
     "data": {
      "text/plain": [
       "False"
      ]
     },
     "execution_count": 33,
     "metadata": {},
     "output_type": "execute_result"
    }
   ],
   "source": [
    "num1 > num2"
   ]
  },
  {
   "cell_type": "code",
   "execution_count": 34,
   "id": "62a284af-cf37-42f7-965f-bb961795369e",
   "metadata": {},
   "outputs": [
    {
     "data": {
      "text/plain": [
       "False"
      ]
     },
     "execution_count": 34,
     "metadata": {},
     "output_type": "execute_result"
    }
   ],
   "source": [
    "num1 < num2"
   ]
  },
  {
   "cell_type": "code",
   "execution_count": 35,
   "id": "daccd705-36ec-4dc9-8e15-940efdff0817",
   "metadata": {},
   "outputs": [
    {
     "data": {
      "text/plain": [
       "True"
      ]
     },
     "execution_count": 35,
     "metadata": {},
     "output_type": "execute_result"
    }
   ],
   "source": [
    "num1 >= num2"
   ]
  },
  {
   "cell_type": "code",
   "execution_count": 36,
   "id": "46485105-fc38-4a8b-b4f5-3b9fa0e46805",
   "metadata": {},
   "outputs": [
    {
     "data": {
      "text/plain": [
       "True"
      ]
     },
     "execution_count": 36,
     "metadata": {},
     "output_type": "execute_result"
    }
   ],
   "source": [
    "num1 <= num2"
   ]
  },
  {
   "cell_type": "markdown",
   "id": "667b5c7e-7844-48e3-b469-1f44b83835dd",
   "metadata": {},
   "source": [
    "# Mathematical Operations"
   ]
  },
  {
   "cell_type": "code",
   "execution_count": 37,
   "id": "d07414d3-84f3-4307-874e-3132e95af02c",
   "metadata": {},
   "outputs": [],
   "source": [
    "import math"
   ]
  },
  {
   "cell_type": "code",
   "execution_count": 39,
   "id": "f65ce3a5-13a5-4272-9d38-1ab891ff595c",
   "metadata": {},
   "outputs": [],
   "source": [
    "x = -22.5"
   ]
  },
  {
   "cell_type": "code",
   "execution_count": 40,
   "id": "f2ff95d3-0824-4282-9ee7-4ed3ae3f5c33",
   "metadata": {},
   "outputs": [
    {
     "data": {
      "text/plain": [
       "22.5"
      ]
     },
     "execution_count": 40,
     "metadata": {},
     "output_type": "execute_result"
    }
   ],
   "source": [
    "math.fabs(x)"
   ]
  },
  {
   "cell_type": "code",
   "execution_count": 41,
   "id": "9ae8191d-f06c-49f4-a58e-8ae6d05c034e",
   "metadata": {},
   "outputs": [
    {
     "data": {
      "text/plain": [
       "11390625"
      ]
     },
     "execution_count": 41,
     "metadata": {},
     "output_type": "execute_result"
    }
   ],
   "source": [
    "225 ** 3"
   ]
  },
  {
   "cell_type": "code",
   "execution_count": 42,
   "id": "6913474a-2f87-47b4-aa5e-c62fa42a3b27",
   "metadata": {},
   "outputs": [],
   "source": [
    "y = 225"
   ]
  },
  {
   "cell_type": "code",
   "execution_count": 43,
   "id": "1f05fb9f-2206-4b54-b9ce-68104ca030fb",
   "metadata": {},
   "outputs": [
    {
     "data": {
      "text/plain": [
       "6.082201995573399"
      ]
     },
     "execution_count": 43,
     "metadata": {},
     "output_type": "execute_result"
    }
   ],
   "source": [
    "math.cbrt(y)"
   ]
  },
  {
   "cell_type": "code",
   "execution_count": 3,
   "id": "722456f3-f908-49f1-b654-194afff466b4",
   "metadata": {},
   "outputs": [],
   "source": [
    "import math"
   ]
  },
  {
   "cell_type": "code",
   "execution_count": 4,
   "id": "94c32729-9b67-48d2-afde-56adbb897971",
   "metadata": {},
   "outputs": [
    {
     "data": {
      "text/plain": [
       "3.141592653589793"
      ]
     },
     "execution_count": 4,
     "metadata": {},
     "output_type": "execute_result"
    }
   ],
   "source": [
    "math.pi"
   ]
  },
  {
   "cell_type": "code",
   "execution_count": 6,
   "id": "1d48224b-271a-48e4-ab0e-abbc5a591e5f",
   "metadata": {},
   "outputs": [
    {
     "data": {
      "text/plain": [
       "3"
      ]
     },
     "execution_count": 6,
     "metadata": {},
     "output_type": "execute_result"
    }
   ],
   "source": [
    "math.gcd(3,6,9,12)"
   ]
  },
  {
   "cell_type": "code",
   "execution_count": 8,
   "id": "4af3800d-c324-4067-a191-365a0df73e18",
   "metadata": {},
   "outputs": [
    {
     "data": {
      "text/plain": [
       "45"
      ]
     },
     "execution_count": 8,
     "metadata": {},
     "output_type": "execute_result"
    }
   ],
   "source": [
    "math.ceil(44.6)"
   ]
  },
  {
   "cell_type": "code",
   "execution_count": 9,
   "id": "bb823bd8-379f-4a31-8980-df08bf913f41",
   "metadata": {},
   "outputs": [
    {
     "data": {
      "text/plain": [
       "True"
      ]
     },
     "execution_count": 9,
     "metadata": {},
     "output_type": "execute_result"
    }
   ],
   "source": [
    "math.isfinite(33)"
   ]
  },
  {
   "cell_type": "code",
   "execution_count": 14,
   "id": "4b5f1cfb-34c9-4a38-8aa1-c9930de58af6",
   "metadata": {},
   "outputs": [
    {
     "data": {
      "text/plain": [
       "2.23606797749979"
      ]
     },
     "execution_count": 14,
     "metadata": {},
     "output_type": "execute_result"
    }
   ],
   "source": [
    "math.dist((6,4), (5,6))"
   ]
  },
  {
   "cell_type": "code",
   "execution_count": 15,
   "id": "ac39b1b6-7ddd-4a32-a948-43fef3468a79",
   "metadata": {},
   "outputs": [
    {
     "data": {
      "text/plain": [
       "495"
      ]
     },
     "execution_count": 15,
     "metadata": {},
     "output_type": "execute_result"
    }
   ],
   "source": [
    "math.comb(12,4)"
   ]
  },
  {
   "cell_type": "code",
   "execution_count": 16,
   "id": "fb249562-d2c2-4b4b-9452-cafe6b7a0a09",
   "metadata": {},
   "outputs": [],
   "source": [
    "# user = 64, capacity = 128"
   ]
  },
  {
   "cell_type": "code",
   "execution_count": 17,
   "id": "dae1cedf-77cf-482b-a475-0e192f5d8fab",
   "metadata": {},
   "outputs": [
    {
     "data": {
      "text/plain": [
       "0"
      ]
     },
     "execution_count": 17,
     "metadata": {},
     "output_type": "execute_result"
    }
   ],
   "source": [
    "min(0,128)"
   ]
  },
  {
   "cell_type": "code",
   "execution_count": 19,
   "id": "58f3ddca-6018-4664-8bf2-fab50042fdf3",
   "metadata": {},
   "outputs": [],
   "source": [
    "user = 67\n",
    "capacity = 128"
   ]
  },
  {
   "cell_type": "code",
   "execution_count": 20,
   "id": "3c55d3fc-0e45-40e7-91d2-07a35f85cb54",
   "metadata": {},
   "outputs": [
    {
     "data": {
      "text/plain": [
       "67"
      ]
     },
     "execution_count": 20,
     "metadata": {},
     "output_type": "execute_result"
    }
   ],
   "source": [
    "min(user, capacity)"
   ]
  },
  {
   "cell_type": "code",
   "execution_count": 21,
   "id": "cd9b802b-7c80-4725-ba99-5e27b2f6ef6d",
   "metadata": {},
   "outputs": [
    {
     "data": {
      "text/plain": [
       "128"
      ]
     },
     "execution_count": 21,
     "metadata": {},
     "output_type": "execute_result"
    }
   ],
   "source": [
    "max(user, capacity)"
   ]
  },
  {
   "cell_type": "code",
   "execution_count": 26,
   "id": "44dc0b65-54c9-4930-8a20-d73d53d681a8",
   "metadata": {},
   "outputs": [
    {
     "data": {
      "text/plain": [
       "22.6"
      ]
     },
     "execution_count": 26,
     "metadata": {},
     "output_type": "execute_result"
    }
   ],
   "source": [
    "round(22.64, 1)"
   ]
  },
  {
   "cell_type": "code",
   "execution_count": null,
   "id": "0191f670-f74b-42c7-ac64-156481eecc05",
   "metadata": {},
   "outputs": [],
   "source": []
  }
 ],
 "metadata": {
  "kernelspec": {
   "display_name": "Python 3 (ipykernel)",
   "language": "python",
   "name": "python3"
  },
  "language_info": {
   "codemirror_mode": {
    "name": "ipython",
    "version": 3
   },
   "file_extension": ".py",
   "mimetype": "text/x-python",
   "name": "python",
   "nbconvert_exporter": "python",
   "pygments_lexer": "ipython3",
   "version": "3.13.5"
  }
 },
 "nbformat": 4,
 "nbformat_minor": 5
}
