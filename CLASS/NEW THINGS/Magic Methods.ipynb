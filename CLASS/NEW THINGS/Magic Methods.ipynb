{
 "cells": [
  {
   "cell_type": "code",
   "execution_count": 24,
   "id": "8482d109-8382-48a1-8490-2492d88ccee7",
   "metadata": {},
   "outputs": [],
   "source": [
    "class Person:\n",
    "    def __init__(objr, name, age):\n",
    "        objr.name = name\n",
    "        objr.age = age\n",
    "\n",
    "    def __str__(objr): # Overloading print()\n",
    "        return f\"{objr.name} of {objr.age} years old\"\n",
    "\n",
    "\n",
    "    def __repr__(objr):\n",
    "        return f\"Person ({objr.name}, {objr.age})\"\n",
    "\n",
    "    def __len__(objr):\n",
    "        return objr.age\n",
    "\n",
    "    def __call__(objr, gender = \"M\"): # Obejct to callable\n",
    "        return f\"{objr.name} is a {gender}\""
   ]
  },
  {
   "cell_type": "code",
   "execution_count": 25,
   "id": "9f934dd5-8f79-40d5-85ac-586f6a8270b7",
   "metadata": {},
   "outputs": [],
   "source": [
    "person = Person(\"Rohit\", 18)"
   ]
  },
  {
   "cell_type": "code",
   "execution_count": 26,
   "id": "d3f1db12-5e15-4dd7-a5ee-6f798001a348",
   "metadata": {},
   "outputs": [
    {
     "data": {
      "text/plain": [
       "'Rohit'"
      ]
     },
     "execution_count": 26,
     "metadata": {},
     "output_type": "execute_result"
    }
   ],
   "source": [
    "person.name"
   ]
  },
  {
   "cell_type": "code",
   "execution_count": 27,
   "id": "7cd928a2-a2a1-4bbd-8c4f-eab241ec3436",
   "metadata": {},
   "outputs": [
    {
     "name": "stdout",
     "output_type": "stream",
     "text": [
      "Rohit of 18 years old\n"
     ]
    }
   ],
   "source": [
    "print(person)"
   ]
  },
  {
   "cell_type": "code",
   "execution_count": 28,
   "id": "9a19093c-2bb2-46c7-9f40-e56b6eb541f1",
   "metadata": {},
   "outputs": [
    {
     "data": {
      "text/plain": [
       "18"
      ]
     },
     "execution_count": 28,
     "metadata": {},
     "output_type": "execute_result"
    }
   ],
   "source": [
    "len(person)"
   ]
  },
  {
   "cell_type": "code",
   "execution_count": 33,
   "id": "829ad4bf-34c6-4d43-a7f7-a3e8096768e1",
   "metadata": {},
   "outputs": [
    {
     "data": {
      "text/plain": [
       "'Rohit is a Male'"
      ]
     },
     "execution_count": 33,
     "metadata": {},
     "output_type": "execute_result"
    }
   ],
   "source": [
    "person(gender = \"Male\")"
   ]
  },
  {
   "cell_type": "markdown",
   "id": "0f9e4526-b813-4724-9581-897d40e8d010",
   "metadata": {},
   "source": []
  }
 ],
 "metadata": {
  "kernelspec": {
   "display_name": "Python 3 (ipykernel)",
   "language": "python",
   "name": "python3"
  },
  "language_info": {
   "codemirror_mode": {
    "name": "ipython",
    "version": 3
   },
   "file_extension": ".py",
   "mimetype": "text/x-python",
   "name": "python",
   "nbconvert_exporter": "python",
   "pygments_lexer": "ipython3",
   "version": "3.13.5"
  },
  "widgets": {
   "application/vnd.jupyter.widget-state+json": {
    "state": {},
    "version_major": 2,
    "version_minor": 0
   }
  }
 },
 "nbformat": 4,
 "nbformat_minor": 5
}
