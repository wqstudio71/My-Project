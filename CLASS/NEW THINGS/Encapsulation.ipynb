{
 "cells": [
  {
   "cell_type": "markdown",
   "id": "2ceffe71-6811-421f-b6a3-d5d1f2e58371",
   "metadata": {},
   "source": [
    "# Encapsulation"
   ]
  },
  {
   "cell_type": "markdown",
   "id": "bc1921dd-4dbb-44bf-b566-e69e076fe60e",
   "metadata": {},
   "source": [
    "1. Private\n",
    "2. Protected\n",
    "3. Public"
   ]
  },
  {
   "cell_type": "code",
   "execution_count": 2,
   "id": "7cef6fad-3e0f-4895-8592-8991e984766a",
   "metadata": {},
   "outputs": [],
   "source": [
    "class Example:\n",
    "    def __init__(self):\n",
    "        self.public_var = 1\n",
    "        self.__private_var = 2\n",
    "        self._protected_var = 3\n",
    "\n",
    "    def public_method(self):\n",
    "        print(\"This is public\")\n",
    "\n",
    "    def __private_method(self):\n",
    "        print(\"This is private\")\n",
    "\n",
    "    def _protected_method(self):\n",
    "        print(\"This is protected\")"
   ]
  },
  {
   "cell_type": "code",
   "execution_count": 3,
   "id": "a7a15ba9-33ba-4acc-bf55-654b5830b28b",
   "metadata": {},
   "outputs": [],
   "source": [
    "obj = Example()"
   ]
  },
  {
   "cell_type": "code",
   "execution_count": 4,
   "id": "80dc83f0-202e-4189-a66d-e04779fdb0dd",
   "metadata": {},
   "outputs": [
    {
     "data": {
      "text/plain": [
       "1"
      ]
     },
     "execution_count": 4,
     "metadata": {},
     "output_type": "execute_result"
    }
   ],
   "source": [
    "obj.public_var"
   ]
  },
  {
   "cell_type": "code",
   "execution_count": 7,
   "id": "7d19f795-1af7-46a2-9435-8ae873038b35",
   "metadata": {},
   "outputs": [
    {
     "name": "stdout",
     "output_type": "stream",
     "text": [
      "This is public\n"
     ]
    }
   ],
   "source": [
    "obj.public_method()"
   ]
  },
  {
   "cell_type": "code",
   "execution_count": 8,
   "id": "e32d7820-f2a6-418e-b254-9d969a0202e3",
   "metadata": {},
   "outputs": [
    {
     "data": {
      "text/plain": [
       "3"
      ]
     },
     "execution_count": 8,
     "metadata": {},
     "output_type": "execute_result"
    }
   ],
   "source": [
    "obj._protected_var"
   ]
  },
  {
   "cell_type": "code",
   "execution_count": 10,
   "id": "0a11ba8b-30ba-4ff1-8e3e-441397cbea41",
   "metadata": {},
   "outputs": [
    {
     "name": "stdout",
     "output_type": "stream",
     "text": [
      "This is protected\n"
     ]
    }
   ],
   "source": [
    "obj._protected_method()"
   ]
  },
  {
   "cell_type": "code",
   "execution_count": 15,
   "id": "4066b395-82d6-4a32-9bf5-f0b58fb9e989",
   "metadata": {},
   "outputs": [],
   "source": [
    "class  SubClass(Example):\n",
    "    def get_public_member(self):\n",
    "        print(self.public_var)\n",
    "\n",
    "    def get_protected_member(self):\n",
    "        print(self._protected_var)\n",
    "\n",
    "    def get_private_member(self):\n",
    "        print(self.__private_var)"
   ]
  },
  {
   "cell_type": "code",
   "execution_count": 12,
   "id": "e97289af-d9b0-410a-a935-dbdd9e3f4bd6",
   "metadata": {},
   "outputs": [],
   "source": [
    "sub = SubClass()"
   ]
  },
  {
   "cell_type": "code",
   "execution_count": 18,
   "id": "6c8c5445-4c55-4023-a196-36816d0468b8",
   "metadata": {},
   "outputs": [
    {
     "name": "stdout",
     "output_type": "stream",
     "text": [
      "1\n"
     ]
    }
   ],
   "source": [
    "sub.get_public_member()"
   ]
  },
  {
   "cell_type": "code",
   "execution_count": 19,
   "id": "f9d963b0-469c-417b-8a3b-741a797c66ed",
   "metadata": {},
   "outputs": [],
   "source": [
    "# Task 1"
   ]
  },
  {
   "cell_type": "code",
   "execution_count": 44,
   "id": "d5429277-29e0-4d47-9710-4c504b3b5e97",
   "metadata": {},
   "outputs": [],
   "source": [
    "class BankAccount:\n",
    "    def __init__(self, name, balance = 0):\n",
    "        self.name = name\n",
    "        self.__balance = balance\n",
    "\n",
    "    def Deposit(self, amount):\n",
    "        if amount > 0:\n",
    "            self._balance += amount\n",
    "\n",
    "    def Withdraw(self, amount):\n",
    "        if amount > 0:\n",
    "            new_balance = self._balance - amount\n",
    "            if new_balance >= 0:\n",
    "                self._balance = new_balance\n",
    "                print(f\"Deducted {amount} from account\")\n",
    "            else:\n",
    "                print(\"Insufficient Funds\")\n",
    "\n",
    "    def Check_Balance(self):\n",
    "        print(f\"{self.name} has ${self._balance}\")\n",
    "        return self._balance\n",
    "\n",
    "class Saving_Account(BankAccount):\n",
    "    def add_interest(self, rate = 5):\n",
    "        balance = self.check_balance()\n",
    "        interest = (balance * rate) / 100\n",
    "\n",
    "        print(f\"Accuired Interest {interest}\")\n",
    "\n",
    "        return interest"
   ]
  },
  {
   "cell_type": "code",
   "execution_count": 47,
   "id": "5ea79956-e0a8-4717-9bbe-9751b935e29a",
   "metadata": {},
   "outputs": [],
   "source": [
    "myacc = BankAccount(\"Rohit\", 200)"
   ]
  },
  {
   "cell_type": "code",
   "execution_count": null,
   "id": "7c12ec0d-7034-4781-bed9-ebf156c24c96",
   "metadata": {},
   "outputs": [],
   "source": []
  }
 ],
 "metadata": {
  "kernelspec": {
   "display_name": "Python 3 (ipykernel)",
   "language": "python",
   "name": "python3"
  },
  "language_info": {
   "codemirror_mode": {
    "name": "ipython",
    "version": 3
   },
   "file_extension": ".py",
   "mimetype": "text/x-python",
   "name": "python",
   "nbconvert_exporter": "python",
   "pygments_lexer": "ipython3",
   "version": "3.13.5"
  },
  "widgets": {
   "application/vnd.jupyter.widget-state+json": {
    "state": {},
    "version_major": 2,
    "version_minor": 0
   }
  }
 },
 "nbformat": 4,
 "nbformat_minor": 5
}
