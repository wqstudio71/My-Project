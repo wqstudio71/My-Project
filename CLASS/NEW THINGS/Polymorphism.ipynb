{
 "cells": [
  {
   "cell_type": "markdown",
   "id": "c7c11b44-3adb-45f8-bcb8-419e570bbffa",
   "metadata": {},
   "source": [
    "# Polymorphism"
   ]
  },
  {
   "cell_type": "code",
   "execution_count": 42,
   "id": "0731ebd3-0711-4a35-b698-113921865828",
   "metadata": {},
   "outputs": [],
   "source": [
    "class Point:\n",
    "    \"\"\"\n",
    "    Operation on 2D Points\n",
    "    \"\"\"\n",
    "    def __init__(self, x,  y):\n",
    "        self.x = x\n",
    "        self.y = y\n",
    "\n",
    "    def __repr__(self):\n",
    "        return f\"Point({self.x}, {self.y})\"\n",
    "\n",
    "    def __pow__(self, other):\n",
    "        x = self.x ** other.x\n",
    "        y = self.y ** other.y\n",
    "        return Point(x,y)\n",
    "\n",
    "    def __gt__(self, other):\n",
    "        return self.x > other.x and self.y > other.y"
   ]
  },
  {
   "cell_type": "code",
   "execution_count": 43,
   "id": "7f1286c5-2b5b-4fa6-9f7b-f0abe7477f5d",
   "metadata": {},
   "outputs": [],
   "source": [
    "A = Point(2,5)\n",
    "B = Point(4,9)"
   ]
  },
  {
   "cell_type": "code",
   "execution_count": 44,
   "id": "84732b3f-d9e2-4732-add8-da22ead8f444",
   "metadata": {},
   "outputs": [
    {
     "data": {
      "text/plain": [
       "Point(16, 1953125)"
      ]
     },
     "execution_count": 44,
     "metadata": {},
     "output_type": "execute_result"
    }
   ],
   "source": [
    "A ** B"
   ]
  },
  {
   "cell_type": "code",
   "execution_count": 45,
   "id": "52ed7852-a004-4404-9824-ff93824a9e55",
   "metadata": {},
   "outputs": [
    {
     "data": {
      "text/plain": [
       "True"
      ]
     },
     "execution_count": 45,
     "metadata": {},
     "output_type": "execute_result"
    }
   ],
   "source": [
    "A < B"
   ]
  },
  {
   "cell_type": "code",
   "execution_count": 46,
   "id": "111dd9ac-610a-43f6-b62d-a389a86f127c",
   "metadata": {},
   "outputs": [
    {
     "name": "stdout",
     "output_type": "stream",
     "text": [
      "\n",
      "Operation on 2D Points\n",
      "\n"
     ]
    }
   ],
   "source": [
    "print(A.__doc__)"
   ]
  },
  {
   "cell_type": "code",
   "execution_count": 49,
   "id": "79c1dffa-ddef-48ed-9feb-29cd01c2bea2",
   "metadata": {},
   "outputs": [
    {
     "data": {
      "text/plain": [
       "'2.3.0'"
      ]
     },
     "execution_count": 49,
     "metadata": {},
     "output_type": "execute_result"
    }
   ],
   "source": [
    "import pandas\n",
    "\n",
    "pandas.__version__"
   ]
  },
  {
   "cell_type": "markdown",
   "id": "d2c1e466-2ea6-4a83-8f36-017d84b59dce",
   "metadata": {},
   "source": [
    "# Duck Typing"
   ]
  },
  {
   "cell_type": "code",
   "execution_count": 50,
   "id": "bce3e667-4dc8-4702-9121-bca34f5edb36",
   "metadata": {},
   "outputs": [],
   "source": [
    "# Do this task at home..."
   ]
  },
  {
   "cell_type": "code",
   "execution_count": 51,
   "id": "4a357f0b-8315-4406-ab58-9d57a5c8eba4",
   "metadata": {},
   "outputs": [],
   "source": [
    "import random"
   ]
  },
  {
   "cell_type": "code",
   "execution_count": 71,
   "id": "d7d70d28-7f6d-45cc-8f91-5e3751af195e",
   "metadata": {},
   "outputs": [
    {
     "data": {
      "text/plain": [
       "13"
      ]
     },
     "execution_count": 71,
     "metadata": {},
     "output_type": "execute_result"
    }
   ],
   "source": [
    "random.randrange(1, 50, step = 2)"
   ]
  },
  {
   "cell_type": "code",
   "execution_count": null,
   "id": "5adf1545-b223-4e61-85d5-174b88a66985",
   "metadata": {},
   "outputs": [],
   "source": []
  }
 ],
 "metadata": {
  "kernelspec": {
   "display_name": "Python 3 (ipykernel)",
   "language": "python",
   "name": "python3"
  },
  "language_info": {
   "codemirror_mode": {
    "name": "ipython",
    "version": 3
   },
   "file_extension": ".py",
   "mimetype": "text/x-python",
   "name": "python",
   "nbconvert_exporter": "python",
   "pygments_lexer": "ipython3",
   "version": "3.13.5"
  },
  "widgets": {
   "application/vnd.jupyter.widget-state+json": {
    "state": {},
    "version_major": 2,
    "version_minor": 0
   }
  }
 },
 "nbformat": 4,
 "nbformat_minor": 5
}
