{
 "cells": [
  {
   "cell_type": "markdown",
   "id": "53cb2dfd-2034-414d-99dc-086e46718a8c",
   "metadata": {},
   "source": [
    "# Method Overriding"
   ]
  },
  {
   "cell_type": "code",
   "execution_count": 1,
   "id": "dac45ed7-3cc9-45ae-bbff-a652eb117da5",
   "metadata": {},
   "outputs": [],
   "source": [
    "class Animal:\n",
    "    def sound(self):\n",
    "        print(\"Making animal sound\")"
   ]
  },
  {
   "cell_type": "code",
   "execution_count": 2,
   "id": "1930cfd2-9da8-409a-a506-0aa9479ba33c",
   "metadata": {},
   "outputs": [],
   "source": [
    "class Dog(Animal):\n",
    "    def sound(self):\n",
    "        print(\"Dog makes woof sound\")"
   ]
  },
  {
   "cell_type": "code",
   "execution_count": 3,
   "id": "8968f8ae-b59a-4086-9ece-cde9ecd43286",
   "metadata": {},
   "outputs": [
    {
     "name": "stdout",
     "output_type": "stream",
     "text": [
      "Dog makes woof sound\n"
     ]
    }
   ],
   "source": [
    "dog = Dog()\n",
    "dog.sound()"
   ]
  },
  {
   "cell_type": "code",
   "execution_count": 8,
   "id": "96d0694c-ec21-407b-8483-a95ed5e49e22",
   "metadata": {},
   "outputs": [],
   "source": [
    "class Cat(Animal):\n",
    "    def sound(self):\n",
    "        print(\"Cat makes meow sound\")"
   ]
  },
  {
   "cell_type": "code",
   "execution_count": 9,
   "id": "88669619-124e-46d7-b84b-aed5fae3ae62",
   "metadata": {},
   "outputs": [
    {
     "name": "stdout",
     "output_type": "stream",
     "text": [
      "Cat makes meow sound\n"
     ]
    }
   ],
   "source": [
    "cat = Cat()\n",
    "cat.sound()"
   ]
  },
  {
   "cell_type": "code",
   "execution_count": 13,
   "id": "82eeb25b-18c9-435f-b418-38aa703a2e2e",
   "metadata": {},
   "outputs": [],
   "source": [
    "class Parent:\n",
    "    def say_hello(self):\n",
    "        print(\"Hello From Parent\")\n",
    "\n",
    "class Child(Parent):\n",
    "    def say_hello(self):\n",
    "        res = super(). say_hello()\n",
    "        super(). say_hello()\n",
    "        print(\"Hello From Child\")"
   ]
  },
  {
   "cell_type": "code",
   "execution_count": 14,
   "id": "58f205dd-5da1-4b63-bca9-15c181d8711d",
   "metadata": {},
   "outputs": [
    {
     "name": "stdout",
     "output_type": "stream",
     "text": [
      "Hello From Parent\n",
      "Hello From Parent\n",
      "Hello From Child\n"
     ]
    }
   ],
   "source": [
    "children = Child()\n",
    "children.say_hello()"
   ]
  },
  {
   "cell_type": "code",
   "execution_count": null,
   "id": "7696a4eb-7993-4173-a9db-a06dec58aaab",
   "metadata": {},
   "outputs": [],
   "source": []
  }
 ],
 "metadata": {
  "kernelspec": {
   "display_name": "Python 3 (ipykernel)",
   "language": "python",
   "name": "python3"
  },
  "language_info": {
   "codemirror_mode": {
    "name": "ipython",
    "version": 3
   },
   "file_extension": ".py",
   "mimetype": "text/x-python",
   "name": "python",
   "nbconvert_exporter": "python",
   "pygments_lexer": "ipython3",
   "version": "3.13.5"
  },
  "widgets": {
   "application/vnd.jupyter.widget-state+json": {
    "state": {},
    "version_major": 2,
    "version_minor": 0
   }
  }
 },
 "nbformat": 4,
 "nbformat_minor": 5
}
