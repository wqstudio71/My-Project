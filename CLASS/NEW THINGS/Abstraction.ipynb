{
 "cells": [
  {
   "cell_type": "markdown",
   "id": "fe0fbbf9-2988-4f60-ba1c-4d17578a9b7a",
   "metadata": {},
   "source": [
    "# Abstraction"
   ]
  },
  {
   "cell_type": "code",
   "execution_count": 2,
   "id": "89472bd5-c28c-4221-a5a7-cf99c28bf8af",
   "metadata": {},
   "outputs": [],
   "source": [
    "from abc import ABC, abstractmethod\n",
    "\n",
    "class Shape(ABC):\n",
    "\n",
    "    @abstractmethod\n",
    "    def area(self):\n",
    "        pass\n",
    "\n",
    "    def volume(self):\n",
    "        return \"Not Applicable For Given Shape\""
   ]
  },
  {
   "cell_type": "code",
   "execution_count": 5,
   "id": "1ae8dd24-a480-4464-9c86-37b27a4d905a",
   "metadata": {},
   "outputs": [],
   "source": [
    "class Rectangle(Shape):\n",
    "    def __init__(self, width, length):\n",
    "        self.w = width\n",
    "        self.l = length\n",
    "\n",
    "    def area(self):\n",
    "        return self.w * self.l"
   ]
  },
  {
   "cell_type": "code",
   "execution_count": 6,
   "id": "79a1dc20-df3c-48e5-ac53-ac0ab5dac705",
   "metadata": {},
   "outputs": [],
   "source": [
    "rect = Rectangle(10,6)"
   ]
  },
  {
   "cell_type": "code",
   "execution_count": 7,
   "id": "1745954e-c3ef-489a-8070-29e882e61d47",
   "metadata": {},
   "outputs": [
    {
     "data": {
      "text/plain": [
       "60"
      ]
     },
     "execution_count": 7,
     "metadata": {},
     "output_type": "execute_result"
    }
   ],
   "source": [
    "rect.area()"
   ]
  },
  {
   "cell_type": "code",
   "execution_count": 8,
   "id": "74874a44-8ce4-427c-b5ee-d7b9b3866ae9",
   "metadata": {},
   "outputs": [
    {
     "data": {
      "text/plain": [
       "'Not Applicable For Given Shape'"
      ]
     },
     "execution_count": 8,
     "metadata": {},
     "output_type": "execute_result"
    }
   ],
   "source": [
    "rect.volume()"
   ]
  },
  {
   "cell_type": "code",
   "execution_count": 9,
   "id": "b33a9234-bc88-4cae-ba93-2eb57a48b081",
   "metadata": {},
   "outputs": [],
   "source": [
    "from abc import ABC, abstractmethod\n",
    "\n",
    "class Cuboid(ABC):\n",
    "\n",
    "    @abstractmethod\n",
    "    def area(self):\n",
    "        pass\n",
    "\n",
    "    def volume(self):\n",
    "        pass"
   ]
  },
  {
   "cell_type": "code",
   "execution_count": 10,
   "id": "0dc6dd30-6d1e-4e4a-b902-fcf4839b7890",
   "metadata": {},
   "outputs": [],
   "source": [
    "class Cuboid(Shape):\n",
    "    def __init__(self, width, length, height):\n",
    "        self.w = width\n",
    "        self.l = length\n",
    "        self.h = height\n",
    "\n",
    "    def area(self):\n",
    "        return self.w * self.l * self.h"
   ]
  },
  {
   "cell_type": "code",
   "execution_count": 11,
   "id": "dfe805d4-8618-457e-8a89-7f6cae539ee9",
   "metadata": {},
   "outputs": [],
   "source": [
    "vol = Cuboid(6,5,4)"
   ]
  },
  {
   "cell_type": "code",
   "execution_count": 13,
   "id": "f91e6192-aeb5-4bc0-9045-1a2fd8f74425",
   "metadata": {},
   "outputs": [
    {
     "data": {
      "text/plain": [
       "120"
      ]
     },
     "execution_count": 13,
     "metadata": {},
     "output_type": "execute_result"
    }
   ],
   "source": [
    "vol.area()"
   ]
  },
  {
   "cell_type": "code",
   "execution_count": null,
   "id": "9d345227-e36b-4f29-9878-78495a7cd893",
   "metadata": {},
   "outputs": [],
   "source": []
  }
 ],
 "metadata": {
  "kernelspec": {
   "display_name": "Python 3 (ipykernel)",
   "language": "python",
   "name": "python3"
  },
  "language_info": {
   "codemirror_mode": {
    "name": "ipython",
    "version": 3
   },
   "file_extension": ".py",
   "mimetype": "text/x-python",
   "name": "python",
   "nbconvert_exporter": "python",
   "pygments_lexer": "ipython3",
   "version": "3.13.5"
  },
  "widgets": {
   "application/vnd.jupyter.widget-state+json": {
    "state": {},
    "version_major": 2,
    "version_minor": 0
   }
  }
 },
 "nbformat": 4,
 "nbformat_minor": 5
}
